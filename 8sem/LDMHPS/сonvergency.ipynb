{
 "cells": [
  {
   "cell_type": "code",
   "execution_count": 8,
   "metadata": {},
   "outputs": [
    {
     "name": "stdout",
     "output_type": "stream",
     "text": [
      "1e-05 1.0000400008\n"
     ]
    }
   ],
   "source": [
    "#Heun + upwind 2nd\n",
    "import numpy as np\n",
    "\n",
    "phi = np.linspace(0, 2*np.pi, 1001)\n",
    "Cu = np.linspace(0.001, 1, 1000)\n",
    "max_module = 0.\n",
    "\n",
    "for c in Cu:\n",
    "    for angle in phi:\n",
    "        cur_module = abs(1 + c/2*(np.exp(-2j*angle) - 4*np.exp(-1j*angle) + 3) + \\\n",
    "                         c**2/8*(np.exp(-4j*angle) - 8*np.exp(-3j*angle) + 22*np.exp(-2j*angle) - \\\n",
    "                        24*np.exp(-1j*angle) + 9))\n",
    "        if cur_module > max_module:\n",
    "            max_module = cur_module\n",
    "    if max_module > 1.:\n",
    "        print(c, max_module)\n",
    "        break"
   ]
  },
  {
   "cell_type": "code",
   "execution_count": 10,
   "metadata": {},
   "outputs": [
    {
     "data": {
      "text/plain": [
       "1.4142135623730951"
      ]
     },
     "execution_count": 10,
     "metadata": {},
     "output_type": "execute_result"
    }
   ],
   "source": [
    "abs(1 + 1j)"
   ]
  },
  {
   "cell_type": "code",
   "execution_count": null,
   "metadata": {},
   "outputs": [],
   "source": []
  }
 ],
 "metadata": {
  "kernelspec": {
   "display_name": "Python 3",
   "language": "python",
   "name": "python3"
  },
  "language_info": {
   "codemirror_mode": {
    "name": "ipython",
    "version": 3
   },
   "file_extension": ".py",
   "mimetype": "text/x-python",
   "name": "python",
   "nbconvert_exporter": "python",
   "pygments_lexer": "ipython3",
   "version": "3.7.3"
  }
 },
 "nbformat": 4,
 "nbformat_minor": 2
}
