{
 "cells": [
  {
   "cell_type": "markdown",
   "metadata": {},
   "source": [
    "### Схема Годунова для распада произвольного разрыва"
   ]
  },
  {
   "cell_type": "code",
   "execution_count": 1,
   "metadata": {},
   "outputs": [],
   "source": [
    "%matplotlib inline\n",
    "import matplotlib\n",
    "from matplotlib import pyplot \n",
    "import numpy as np\n",
    "from matplotlib import rcParams\n",
    "rcParams['font.family'] = 'serif'\n",
    "rcParams['font.size'] = 16"
   ]
  },
  {
   "cell_type": "markdown",
   "metadata": {},
   "source": [
    "# Постановка задачи\n",
    "\n",
    "Задача Римана для одномерной нестационарной системы уравнений Эйлера прелставлеяет собой задачу Коши для законов сохранения\n",
    "\n",
    "\\begin{equation}\n",
    "\\left . \n",
    "\\begin{array}{c}\n",
    "\\mathbf{U}_t + \\mathbf{F}(\\mathbf{U})_x = 0, \\\\\n",
    "\\mathbf{U} = \\left[\\begin{array}{c}\\rho \\\\ \\rho u  \\\\E \\end{array}\\right], \n",
    "\\mathbf{F} = \\left[\\begin{array}{c}\\rho u \\\\ \\rho u^2+p  \\\\ u(E+p) \\end{array}\\right],\n",
    "\\end{array}\n",
    "\\right\\}\n",
    "\\end{equation}"
   ]
  },
  {
   "cell_type": "markdown",
   "metadata": {},
   "source": [
    "с начальными условиями\n",
    "\n",
    "\\begin{equation}\n",
    "\\mathbf{U}(x,0)=\\mathbf{U}^{(0)}(x) = \n",
    "\\left \\{ \n",
    "\\begin{array}{c}\n",
    "\\mathbf{U}_L ~\\textrm{если} ~x<0, \\\\\n",
    "\\mathbf{U}_R ~\\textrm{если} ~x>0.\n",
    "\\end{array}\n",
    "\\right .\n",
    "\\end{equation}"
   ]
  },
  {
   "cell_type": "markdown",
   "metadata": {},
   "source": [
    "При решении задачи Римана будем использовать вектор примитивных переменных $\\mathbf{W} = (\\rho, u, p)^T$ вместо консервативных переменных (вектор $\\mathbf{U}$). Тогда начальные условия задаются в виде двух векторов $\\mathbf{W}_L = (\\rho_L, u_L, p_L)^T$ для области слева от $x=0$ и $\\mathbf{W}_R = (\\rho_R, u_R, p_R)^T$ для области справа от $x=0$, области разделены скачком в $x=0$. Нужно найти решение в области, обозначенной на рисунке как _Star Region_."
   ]
  },
  {
   "cell_type": "markdown",
   "metadata": {},
   "source": [
    "Система уравнений замыкается уравнением состояния\n",
    "\n",
    "\\begin{equation}\n",
    "e = \\frac{p}{(\\gamma -1) \\rho}\n",
    "\\end{equation}"
   ]
  },
  {
   "cell_type": "markdown",
   "metadata": {},
   "source": [
    "# Уравнения для давления и скорости"
   ]
  },
  {
   "cell_type": "markdown",
   "metadata": {},
   "source": [
    "Согласно Торо, значение давления в интересующей нас области это корень алгебраического уравнения:\n",
    "\n",
    "\\begin{equation}\n",
    "f(p,\\mathbf{W}_L,\\mathbf{W}_R) \\equiv f_L(p,\\mathbf{W}_L) +f_R(p,\\mathbf{W}_R) + \\Delta u = 0, ~ \\Delta u \\equiv u_R - u_L,\n",
    "\\end{equation}\n",
    "\n",
    "где функция $f_L$ задается соотношением\n",
    "\n",
    "\\begin{equation}\n",
    "f_L(p,\\mathbf{W}_L) = \n",
    "\\left \\{ \n",
    "\\begin{array}{ll}\n",
    "(p-p_L)\\left[ \\frac{A_L}{p+B_L} \\right]^\\frac{1}{2} &~\\textrm{если} ~ p>p_L ~(скачок),& \\\\\n",
    "\\frac{2a_L}{(\\gamma-1)}\\left[ \\left(\\frac{p}{p_L} \\right)^\\frac{\\gamma-1}{2\\gamma} -1 \\right] &~\\textrm{если} ~p\\leq p_L ~(разрежение),&\n",
    "\\end{array}\n",
    "\\right .\n",
    "\\end{equation}\n",
    "\n",
    "функция $f_R$ задается соотношением\n",
    "\n",
    "\\begin{equation}\n",
    "f_R(p,\\mathbf{W}_R) = \n",
    "\\left \\{ \n",
    "\\begin{array}{ll}\n",
    "(p-p_R)\\left[ \\frac{A_R}{p+B_R} \\right]^\\frac{1}{2} &~\\textrm{если} ~ p>p_R ~(скачок),& \\\\\n",
    "\\frac{2a_R}{(\\gamma-1)}\\left[ \\left(\\frac{p}{p_R} \\right)^\\frac{\\gamma-1}{2\\gamma} -1 \\right] &~\\textrm{если} ~p\\leq p_R ~(разрежение),&\n",
    "\\end{array}\n",
    "\\right .\n",
    "\\end{equation}\n",
    "\n",
    "а константы $A_L,~B_L,~A_R,~B_R$ задаются как\n",
    "\n",
    "\\begin{equation}\n",
    "\\left .\n",
    "\\begin{array}{ll}\n",
    "A_L = \\frac{2}{(\\gamma+1)\\rho_L},~B_L = \\frac{(\\gamma -1)}{(\\gamma +1)}p_L,\\\\\n",
    "A_R = \\frac{2}{(\\gamma+1)\\rho_R},~B_R = \\frac{(\\gamma -1)}{(\\gamma +1)}p_R.\n",
    "\\end{array}\n",
    "\\right \\}\n",
    "\\end{equation}\n",
    "\n",
    "Скорость вычисляется из соотношения\n",
    "\\begin{equation}\n",
    "u_*=\\frac{1}{2}(u_L+u_R) + \\frac{1}{2}[f_R(p_*) - f_L(p_*)].\n",
    "\\end{equation}"
   ]
  },
  {
   "cell_type": "code",
   "execution_count": 2,
   "metadata": {},
   "outputs": [],
   "source": [
    "gamma = 1.4     #Гамма, она же каппа\n",
    "#Различные формулы из гаммы\n",
    "g_m_1_over_2g = (gamma-1)/2/gamma      #g1\n",
    "g_p_1_over_2g = (gamma+1)/2/gamma      #g2\n",
    "g_m_1_over_2g_inv = 1/g_m_1_over_2g    #g3\n",
    "g_m_1_over_2_inv = 2/(gamma-1)         #g4\n",
    "g_p_1_over_2_inv = 2/(gamma+1)         #g5\n",
    "g_m_1_over_g_p_1 = (gamma-1)/(gamma+1) #g6\n",
    "g_m_1_over_2 = (gamma-1)/2             #g7\n",
    "g_m_1 = gamma-1  \n",
    "\n",
    "tol = 1e-8"
   ]
  },
  {
   "cell_type": "code",
   "execution_count": 3,
   "metadata": {},
   "outputs": [],
   "source": [
    "def sound_speed(d,p):\n",
    "    return (gamma*(p/d))**0.5"
   ]
  },
  {
   "cell_type": "code",
   "execution_count": 4,
   "metadata": {},
   "outputs": [],
   "source": [
    "def calc_f(p,d_k,u_k,p_k):\n",
    "    c_k = sound_speed(d_k,p_k)\n",
    "    \n",
    "    if p > p_k:\n",
    "        A = g_p_1_over_2_inv/d_k\n",
    "        B = g_m_1_over_g_p_1*p_k\n",
    "        f = (p - p_k)*(A/(p + B))**0.5\n",
    "        f_deriv = (A/(p + B))**0.5*(1 - 0.5*(p - p_k)/(p + B))\n",
    "    else :\n",
    "        f = g_m_1_over_2_inv*c_k*((p/p_k)**g_m_1_over_2g - 1)\n",
    "        f_deriv = ((p/p_k)**(-g_p_1_over_2g))/(d_k*c_k)\n",
    "    \n",
    "    return f,f_deriv\n"
   ]
  },
  {
   "cell_type": "code",
   "execution_count": 5,
   "metadata": {},
   "outputs": [],
   "source": [
    "def guess_p(W_l,W_r,label):\n",
    "    c_l = sound_speed(W_l[0],W_l[2])\n",
    "    c_r = sound_speed(W_r[0],W_r[2])\n",
    "\n",
    "    \n",
    "    W_aver = 0.5*(W_l+W_r)\n",
    "    p_pv = W_aver[2] - 0.5*(W_r[1]-W_l[1])*W_aver[0]*0.5*(c_l+c_r)\n",
    "    p_0 = max(tol,p_pv)\n",
    "    \n",
    "    if label == 'TR': #две волны разряжения\n",
    "        return ((c_l + c_r - 0.5*g_m_1*(W_r[1] - W_l[1]))/\n",
    "                ((c_l/W_l[2]**g_m_1_over_2g) + (c_r/W_r[2]**g_m_1_over_2g) ))**g_m_1_over_2g_inv\n",
    "    \n",
    "    elif label == 'PV': #скачок + волна\n",
    "\n",
    "        return p_0\n",
    "    \n",
    "    elif label == 'TS': #два скачка\n",
    "        A_k = lambda x : g_p_1_over_2_inv/x\n",
    "        B_k = lambda x : g_m_1_over_g_p_1*x\n",
    "        p_ts = ((A_k(W_l[0])/(p_pv + B_k(W_l[2])))**0.5*W_l[2] + (A_k(W_r[0])/(p_pv + B_k(W_r[2])))**0.5*W_r[2] \\\n",
    "                - (W_r[1]-W_l[1])) /\\\n",
    "        ((A_k(W_l[0])/(p_pv + B_k(W_l[2])))**0.5 + (A_k(W_r[0])/(p_pv + B_k(W_r[2])))**0.5)  \n",
    "        return max(tol,p_ts)\n",
    "    else: #просто полусумма\n",
    "        return W_aver[2]\n",
    "        \n",
    "        "
   ]
  },
  {
   "cell_type": "code",
   "execution_count": 6,
   "metadata": {},
   "outputs": [],
   "source": [
    "def init(case):\n",
    "    if case == 'sod': #задача Сода\n",
    "        W_l = np.array([1, 0.75, 1])\n",
    "        W_r = np.array([0.125, 0, 0.1])\n",
    "        t = 0.25\n",
    "    elif case == '123': #две волны разряжения, неподвижный контактный разрыв\n",
    "        W_l = np.array([1, -2, 0.4])\n",
    "        W_r = np.array([1, 2, 0.4])\n",
    "        t = 0.15\n",
    "    elif case == 'left-woodward': #почти сод, только разница давлений оч большая\n",
    "        W_l = np.array([1, 0, 1000])\n",
    "        W_r = np.array([1, 0, 0.1])\n",
    "        \n",
    "        t = 0.012\n",
    "    else : print('Unknown case!')\n",
    "    return W_l, W_r, t"
   ]
  },
  {
   "cell_type": "code",
   "execution_count": 7,
   "metadata": {},
   "outputs": [
    {
     "name": "stdout",
     "output_type": "stream",
     "text": [
      "[   1    0 1000] [1.  0.  0.1]\n"
     ]
    }
   ],
   "source": [
    "W_l,W_r,_ = init('left-woodward')\n",
    "print(W_l, W_r)"
   ]
  },
  {
   "cell_type": "code",
   "execution_count": 8,
   "metadata": {},
   "outputs": [],
   "source": [
    "def newton(p_init,W_l,W_r):\n",
    "    p_new = 1000\n",
    "    p_curr = p_init\n",
    "    cha =abs( 2*(p_new - p_curr)/(p_new + p_curr))\n",
    "    i= 0\n",
    "    while cha > tol:\n",
    "        \n",
    "        f_l = calc_f(p_curr,*W_l)\n",
    "        f_r = calc_f(p_curr,*W_r)\n",
    "        p_new = p_curr - (f_l[0]+f_r[0]+W_r[1]-W_l[1])/(f_l[1]+f_r[1])\n",
    "        \n",
    "        cha = abs(2*(p_new - p_curr)/(p_new + p_curr))\n",
    "        p_curr = p_new\n",
    "        i = i+1\n",
    "    u_new = 0.5*(W_l+W_r)[1] + 0.5*(calc_f(p_new,*W_r)[0] - calc_f(p_new,*W_l)[0])\n",
    "    return p_new,u_new, i"
   ]
  },
  {
   "cell_type": "code",
   "execution_count": 9,
   "metadata": {},
   "outputs": [
    {
     "name": "stdout",
     "output_type": "stream",
     "text": [
      "p_init = 500.05000\n",
      "p = 460.95044, u = 19.59451, step = 4\n"
     ]
    }
   ],
   "source": [
    "p_init = guess_p(W_l, W_r, 'PV')\n",
    "print('p_init = %.5f' % p_init)\n",
    "print('p = %.5f, u = %.5f, step = %d' % newton(p_init, W_l, W_r))\n",
    "#расшифровка результатов на Торо 152\n",
    "#мы вроде решили, что PV лучше всех"
   ]
  },
  {
   "cell_type": "code",
   "execution_count": 10,
   "metadata": {},
   "outputs": [],
   "source": [
    "def sample(W_l,c_l,W_r, c_r, p_m, u_m, s): #p_m, u_m = p*, u*, s - наклон линии начала разрыва\n",
    "    \"\"\"Returns d,u,p in sampled point according the shock and wave configuration\"\"\"\n",
    "    d_l, u_l, p_l = W_l\n",
    "    d_r, u_r, p_r = W_r\n",
    "    if s<= u_m:\n",
    "        #точка лежит слева от контактного разрыва (контактный - это середина непонятной области Sc)\n",
    "        if p_m <= p_l: #слева -- волна разрежения\n",
    "            head_speed_l = u_l - c_l   #скорость головной характеристики волны разрежения\n",
    "            \n",
    "            if s<= head_speed_l: #точка лежит слева от волны -- все значения из левой ячейки\n",
    "                d = d_l\n",
    "                u = u_l\n",
    "                p = p_l\n",
    "            else:\n",
    "                c_m_l = c_l*(p_m/p_l)**g_m_1_over_2g #скорость звука справа от левой волны\n",
    "                tail_speed_l = u_m - c_m_l        #скорость замыкающей характеристики волны разрежения\n",
    "                \n",
    "                if s>=tail_speed_l:              #точка лежит между волной и контактным разрывом\n",
    "                    \n",
    "                    d = d_l*(p_m/p_l)**(1./gamma)\n",
    "                    u = u_m\n",
    "                    p = p_m\n",
    "                \n",
    "                else:                              #точка лежит в веере волны разрежения\n",
    "                    u = g_p_1_over_2_inv*(c_l+g_m_1_over_2*u_l+s)\n",
    "                    c = u - s\n",
    "                    d = d_l*(c/c_l)**g_m_1_over_2_inv\n",
    "                    p = p_l*(c/c_l)**g_m_1_over_2g_inv\n",
    "        \n",
    "        else:       #слева -- скачок \n",
    "            shock_ratio = p_m/p_l\n",
    "            s_l = u_l - c_l*(g_p_1_over_2g*shock_ratio + g_m_1_over_2g)**0.5 #скорость скачка (адиабата Гюгонио)\n",
    "            \n",
    "            if s<= s_l: #точка лежит слева от скачка -- все значения из левой ячейки\n",
    "                d = d_l\n",
    "                u = u_l\n",
    "                p = p_l\n",
    "            else:   #точка лежит между скачком и контактным разрывом\n",
    "                \n",
    "                d = d_l*(shock_ratio + (gamma-1)/(gamma+1))/((gamma-1)/(gamma+1)*shock_ratio +1.) #адиабата Гюгонио\n",
    "                u = u_m\n",
    "                p = p_m\n",
    "    #----------------------------------------------------------------------------------------------------\n",
    "    else:              #точка лежит справа от контактного разрыва\n",
    "        \n",
    "        if p_m > p_r:   #справа -- скачок\n",
    "            shock_ratio = p_m/p_r\n",
    "            s_r = u_r + c_r*(g_p_1_over_2g*shock_ratio + g_m_1_over_2g)**0.5 #скорость скачка\n",
    "            \n",
    "            if s >= s_r: #точка лежит справа от скачка -- все значения из правой ячейки\n",
    "                d = d_r\n",
    "                u = u_r\n",
    "                p = p_r\n",
    "            else:   #точка лежит между скачком и контактным разрывом\n",
    "                \n",
    "                d = d_r*(shock_ratio + g_m_1_over_g_p_1)/(g_m_1_over_g_p_1*shock_ratio +1.)\n",
    "                u = u_m\n",
    "                p = p_m\n",
    "        else:           #справа -- волна\n",
    "            \n",
    "            head_speed_r = u_r + c_r   #скорость головной характеристики волны разрежения\n",
    "            \n",
    "            if s >= head_speed_r: #точка лежит справа от волны -- все значения из правой ячейки\n",
    "                d = d_r\n",
    "                u = u_r\n",
    "                p = p_r\n",
    "            else:\n",
    "                c_m_r = c_r*(p_m/p_r)**g_m_1_over_2g #скорость звука слева от правой волны\n",
    "                tail_speed_r = u_m + c_m_r           #скорость замыкающей характеристики волны разрежения\n",
    "                \n",
    "                if s<=tail_speed_r:              #точка лежит между контактным разрывом и волной\n",
    "                    \n",
    "                    d = d_r*(p_m/p_r)**(1/gamma)\n",
    "                    u = u_m\n",
    "                    p = p_m\n",
    "                \n",
    "                else:                              #точка лежит в веере волны разрежения\n",
    "                    u = g_p_1_over_2_inv*(-c_r+g_m_1_over_2*u_r+s)\n",
    "                    c = -u + s\n",
    "                    d = d_r*(c/c_r)**g_m_1_over_2_inv\n",
    "                    p = p_r*(c/c_r)**g_m_1_over_2g_inv\n",
    "                \n",
    "    return d,u,p"
   ]
  },
  {
   "cell_type": "code",
   "execution_count": 11,
   "metadata": {},
   "outputs": [],
   "source": [
    "#эта функция получает максимальный наклон линии разрешимого распада\n",
    "#в силу конечных размеров ячейки, распад может выпадать за узел\n",
    "\n",
    "def get_S_max(W_l,c_l,W_r, c_r, p_m, u_m):\n",
    "    d_l, u_l, p_l = W_l\n",
    "    d_r, u_r, p_r = W_r\n",
    "    S_l,S_r = 0,0\n",
    "    if p_m <= p_l: #слева -- волна разрежения\n",
    "        S_l = u_l - c_l\n",
    "    else :\n",
    "        shock_ratio = p_m/p_l\n",
    "        S_l = u_l - c_l*(g_p_1_over_2g*shock_ratio + g_m_1_over_2g)**0.5\n",
    "    if p_m > p_r:\n",
    "        shock_ratio = p_m/p_r\n",
    "        S_r = u_r + c_r*(g_p_1_over_2g*shock_ratio + g_m_1_over_2g)**0.5 \n",
    "    else:\n",
    "        S_r = u_r + c_r\n",
    "        \n",
    "    S_max = max(abs(S_l),abs(S_r))\n",
    "    return S_max"
   ]
  },
  {
   "cell_type": "code",
   "execution_count": 12,
   "metadata": {},
   "outputs": [],
   "source": [
    "N_points = 401\n",
    "x = np.linspace(0,1,N_points)\n",
    "decay_pos = 0.3 #координата контактного разрыва\n",
    "W_correct= np.zeros((N_points,3))"
   ]
  },
  {
   "cell_type": "code",
   "execution_count": 13,
   "metadata": {},
   "outputs": [],
   "source": [
    "W_l,W_r,t = init('sod')\n",
    "p_init = guess_p(W_l,W_r,'TR')\n",
    "p_m, u_m, _ = newton(p_init,W_l,W_r)"
   ]
  },
  {
   "cell_type": "code",
   "execution_count": 14,
   "metadata": {},
   "outputs": [],
   "source": [
    "c_l = sound_speed(W_l[0],W_l[2])\n",
    "c_r = sound_speed(W_r[0],W_r[2])\n",
    "for i,x_ in enumerate(x):\n",
    "    s = (x_ - decay_pos)/t #наклон линии разрыва\n",
    "    W_correct[i] = np.asarray(sample(W_l,c_l,W_r, c_r, p_m, u_m, s))"
   ]
  },
  {
   "cell_type": "code",
   "execution_count": 15,
   "metadata": {
    "scrolled": true
   },
   "outputs": [
    {
     "data": {
      "image/png": "[encoded data removed]",
      "text/plain": [
       "<Figure size 1296x432 with 3 Axes>"
      ]
     },
     "metadata": {
      "needs_background": "light"
     },
     "output_type": "display_data"
    }
   ],
   "source": [
    "fig,axs = pyplot.subplots(1,3,figsize=(18,6))\n",
    "for ax,W_,y_label in zip(axs,W_correct.T,(r'$\\rho$',r'$u$',r'$p$') ):\n",
    "    ax.plot(x,W_)\n",
    "    ax.set_ylabel(y_label)\n",
    "    ax.set_xlabel('x')\n",
    "    ax.grid()\n",
    "    \n",
    "#судя по плотности контактный разрыв на 0,5\n",
    "#скорость и плотность как раз имеют три зоны: волна разряжения,\n",
    "#область разрыва и скачок уплотнения"
   ]
  },
  {
   "cell_type": "code",
   "execution_count": 16,
   "metadata": {},
   "outputs": [],
   "source": [
    "W_l,W_r,t = init('sod')\n",
    "p_init = guess_p(W_l,W_r,'TR')\n",
    "p_m, u_m, _ = newton(p_init,W_l,W_r)"
   ]
  },
  {
   "cell_type": "code",
   "execution_count": 17,
   "metadata": {},
   "outputs": [],
   "source": [
    "c_l = sound_speed(W_l[0],W_l[2])\n",
    "c_r = sound_speed(W_r[0],W_r[2])\n",
    "for i,x_ in enumerate(x):\n",
    "    s = (x_ - decay_pos)/t #наклон линии разрыва\n",
    "    W_correct[i] = np.asarray(sample(W_l,c_l,W_r, c_r, p_m, u_m, s))"
   ]
  },
  {
   "cell_type": "code",
   "execution_count": 18,
   "metadata": {},
   "outputs": [
    {
     "data": {
      "image/png": "[encoded data removed]",
      "text/plain": [
       "<Figure size 1296x432 with 3 Axes>"
      ]
     },
     "metadata": {
      "needs_background": "light"
     },
     "output_type": "display_data"
    }
   ],
   "source": [
    "fig,axs = pyplot.subplots(1,3,figsize=(18,6))\n",
    "for ax,W_,y_label in zip(axs,W_correct.T,(r'$\\rho$',r'$u$',r'$p$') ):\n",
    "    ax.plot(x,W_)\n",
    "    ax.set_ylabel(y_label)\n",
    "    ax.set_xlabel('x')\n",
    "    ax.grid()\n",
    "    \n",
    "#картинки совпадают со страницами 130-131 Торо"
   ]
  },
  {
   "cell_type": "code",
   "execution_count": 19,
   "metadata": {},
   "outputs": [
    {
     "name": "stdout",
     "output_type": "stream",
     "text": [
      "Stored 'W_correct' (ndarray)\n"
     ]
    }
   ],
   "source": [
    "%store W_correct"
   ]
  },
  {
   "cell_type": "code",
   "execution_count": 20,
   "metadata": {
    "jupyter": {
     "outputs_hidden": true
    }
   },
   "outputs": [],
   "source": [
    "#эта пачка функций конвертирует примитивные(W) и консервативные(U)\n",
    "#переменные друг в друга по формуле 3.3 из Торо(страницу не знаю)\n",
    "\n",
    "#U = [rho, rhou, E]\n",
    "#W = [rho, u, P]\n",
    "\n",
    "def U_to_W(U):\n",
    "    W = np.zeros_like(U)\n",
    "    W[0] = U[0]\n",
    "    W[1] = U[1]/U[0]\n",
    "    W[2] = g_m_1*(U[2] - 0.5*U[1]**2/U[0])\n",
    "    return W"
   ]
  },
  {
   "cell_type": "code",
   "execution_count": 21,
   "metadata": {},
   "outputs": [],
   "source": [
    "def W_to_U(W):\n",
    "    U = np.zeros_like(W)\n",
    "    U[0] = W[0]\n",
    "    U[1] = W[1]*W[0]\n",
    "    U[2] = 0.5*W[1]**2*W[0]+W[2]/ g_m_1\n",
    "    return U\n"
   ]
  },
  {
   "cell_type": "code",
   "execution_count": 22,
   "metadata": {
    "jupyter": {
     "outputs_hidden": true
    }
   },
   "outputs": [],
   "source": [
    "#потоки для шага по времени из W\n",
    "def flux(W):\n",
    "    F = np.zeros_like(W)\n",
    "    F[0] = W[1]*W[0]\n",
    "    F[1] = W[1]**2*W[0] + W[2]\n",
    "    F[2] = W[1]*(0.5*W[1]**2*W[0]+W[2]/ g_m_1 + W[2])\n",
    "    return F"
   ]
  },
  {
   "cell_type": "code",
   "execution_count": 23,
   "metadata": {},
   "outputs": [
    {
     "name": "stdout",
     "output_type": "stream",
     "text": [
      "Warning:flux is <function flux at 0x7f9bc23449d8>\n",
      "Proper storage of interactively declared classes (or instances\n",
      "of those classes) is not possible! Only instances\n",
      "of classes in real modules on file system can be %store'd.\n",
      "\n"
     ]
    }
   ],
   "source": [
    "%store flux"
   ]
  },
  {
   "cell_type": "code",
   "execution_count": 24,
   "metadata": {
    "jupyter": {
     "outputs_hidden": true
    }
   },
   "outputs": [],
   "source": [
    "dx = 1./(N_points - 1)\n",
    "sigma = 1 #число куранта\n",
    "\n",
    "W = np.zeros((N_points,3))\n",
    "fluxes = np.zeros((N_points - 1,3))\n",
    "U = np.zeros_like(W) "
   ]
  },
  {
   "cell_type": "code",
   "execution_count": 25,
   "metadata": {
    "jupyter": {
     "outputs_hidden": true
    }
   },
   "outputs": [],
   "source": [
    "W[np.where(x<decay_pos),:] = W_l\n",
    "W[np.where(x>=decay_pos),:] = W_r"
   ]
  },
  {
   "cell_type": "code",
   "execution_count": 26,
   "metadata": {},
   "outputs": [
    {
     "data": {
      "image/png": "[encoded data removed]",
      "text/plain": [
       "<Figure size 1296x432 with 3 Axes>"
      ]
     },
     "metadata": {
      "needs_background": "light"
     },
     "output_type": "display_data"
    }
   ],
   "source": [
    "fig,axs = pyplot.subplots(1,3,figsize=(18,6))\n",
    "for ax,W_,y_label in zip(axs,W.T,(r'$\\rho$',r'$u$',r'$p$') ):\n",
    "    ax.plot(x,W_)\n",
    "    ax.set_ylabel(y_label)\n",
    "    ax.set_xlabel('x')\n",
    "    \n",
    "    ax.grid()"
   ]
  },
  {
   "cell_type": "code",
   "execution_count": 27,
   "metadata": {},
   "outputs": [],
   "source": [
    "t_ = 0\n",
    "#dt = 0.0002\n",
    "U_n = np.copy(U)\n",
    "while t_<t:\n",
    "    U = W_to_U(W.T).T\n",
    "    big_values = np.zeros((N_points - 1,3)) #большие величины на гранях ячеек\n",
    "    speeds = np.zeros(N_points - 1)\n",
    "    for i,x_ in enumerate(x[:-1]):\n",
    "        p_init = guess_p(W[i],W[i+1],'TR')\n",
    "        p_m, u_m, _ = newton(p_init,W[i],W[i+1])\n",
    "        c_l = sound_speed(W[i][0],W[i][2])\n",
    "        c_r = sound_speed(W[i+1][0],W[i+1][2])\n",
    "        s = 0\n",
    "        big_values[i] = np.asarray(sample(W[i],c_l,W[i+1], c_r, p_m, u_m, s))\n",
    "        speeds[i] = get_S_max(W[i],c_l,W[i+1], c_r, p_m, u_m)\n",
    "\n",
    "    fluxes = flux(big_values.T).T\n",
    "    dt = sigma*dx/max(speeds)\n",
    "    U_n[1:-1,:] = U[1:-1,:] + dt/dx*(fluxes[:-1,:]-fluxes[1:,:]) \n",
    "    U_n[0,:] = U_n[1,:]\n",
    "    U_n[-1,:] = U_n[-2,:]\n",
    "    W = U_to_W(U_n.T).T\n",
    "    t_=t_+dt"
   ]
  },
  {
   "cell_type": "code",
   "execution_count": 28,
   "metadata": {},
   "outputs": [
    {
     "name": "stdout",
     "output_type": "stream",
     "text": [
      "Stored 'W_g' (ndarray)\n"
     ]
    }
   ],
   "source": [
    "W_g = np.copy(W)\n",
    "%store W_g"
   ]
  },
  {
   "cell_type": "code",
   "execution_count": 29,
   "metadata": {},
   "outputs": [
    {
     "data": {
      "image/png": "[encoded data removed]",
      "text/plain": [
       "<Figure size 1296x432 with 3 Axes>"
      ]
     },
     "metadata": {
      "needs_background": "light"
     },
     "output_type": "display_data"
    }
   ],
   "source": [
    "fig,axs = pyplot.subplots(1,3,figsize=(18,6))\n",
    "for ax,W_,W_g_, W_c,y_label in zip(axs,W.T, W_g.T,W_correct.T,(r'$\\rho$',r'$u$',r'$p$') ):\n",
    "    ax.plot(x,W_,'o',label=\"Roe\")\n",
    "    ax.plot(x, W_g_,'o',label='Godunov')\n",
    "    ax.plot(x,W_c,label='Exact')\n",
    "    ax.set_ylabel(y_label)\n",
    "    ax.set_xlabel('x')\n",
    "    ax.set_ylim(-1.1*abs(min(W_c)),1.1*max(W_c))\n",
    "    ax.legend(loc='best')\n",
    "    ax.grid()"
   ]
  },
  {
   "cell_type": "markdown",
   "metadata": {},
   "source": [
    "ставя задачу Сода(волна + скачок) и ненулевую скорость\n",
    "мы получаем небольшой скачок в области волны разряжения\n",
    "из \"энтропийного глюка\" в области околозвуковой\n",
    "этот скачок по мере уменьшения шага сетки уменьшается!\n",
    "\n",
    "скачок уплотнения при этом размазался на 4 ячейки"
   ]
  },
  {
   "cell_type": "code",
   "execution_count": 30,
   "metadata": {},
   "outputs": [
    {
     "data": {
      "text/plain": [
       "[<matplotlib.lines.Line2D at 0x7f9bc197b978>]"
      ]
     },
     "execution_count": 30,
     "metadata": {},
     "output_type": "execute_result"
    },
    {
     "data": {
      "image/png": "[encoded data removed]",
      "text/plain": [
       "<Figure size 576x432 with 1 Axes>"
      ]
     },
     "metadata": {
      "needs_background": "light"
     },
     "output_type": "display_data"
    }
   ],
   "source": [
    "pyplot.figure(figsize=(8,6))\n",
    "e = W[:,2]/W[:,0]/ g_m_1\n",
    "e_ex = W_correct[:,2]/W_correct[:,0]/ g_m_1\n",
    "pyplot.plot(x,e,'o',label='Godunov')\n",
    "pyplot.plot(x,e_ex,'-',label='Exact')"
   ]
  },
  {
   "cell_type": "raw",
   "metadata": {
    "collapsed": true,
    "jupyter": {
     "outputs_hidden": true
    }
   },
   "source": [
    "Ну и количество ячеек размазывания сохраняется при любом уточнении сетки\\подкручивания куранта\n",
    "\n",
    "Это свойство схемы, значит надо взять схему другого порядка\n",
    "Например, схему Роу, хотя бы линеаризованную"
   ]
  }
 ],
 "metadata": {
  "anaconda-cloud": {},
  "kernelspec": {
   "display_name": "Python 3",
   "language": "python",
   "name": "python3"
  },
  "language_info": {
   "codemirror_mode": {
    "name": "ipython",
    "version": 3
   },
   "file_extension": ".py",
   "mimetype": "text/x-python",
   "name": "python",
   "nbconvert_exporter": "python",
   "pygments_lexer": "ipython3",
   "version": "3.7.3"
  }
 },
 "nbformat": 4,
 "nbformat_minor": 4
}
