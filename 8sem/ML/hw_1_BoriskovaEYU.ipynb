{
 "cells": [
  {
   "cell_type": "code",
   "execution_count": 2,
   "metadata": {},
   "outputs": [],
   "source": [
    "import sys\n",
    "import string\n",
    "\n",
    "from keras.models import Sequential, load_model\n",
    "from keras.layers import Dense, Dropout\n",
    "from keras.optimizers import RMSprop\n",
    "from keras.layers import SimpleRNN, GRU, LSTM\n",
    "\n",
    "import numpy as np\n",
    "import matplotlib.pyplot as plt\n",
    "import pandas as pd\n",
    "import seaborn as sns\n",
    "import torch"
   ]
  },
  {
   "cell_type": "markdown",
   "metadata": {},
   "source": [
    "# Домашнее задание №1\n",
    "\n",
    "\n",
    "## Часть 1 - Генерация текста "
   ]
  },
  {
   "cell_type": "markdown",
   "metadata": {},
   "source": [
    "## Предобработка данных"
   ]
  },
  {
   "cell_type": "code",
   "execution_count": 2,
   "metadata": {},
   "outputs": [],
   "source": [
    "with open('sonnets.txt', 'r') as iofile:\n",
    "    text = iofile.readlines()\n",
    "    \n",
    "TEXT_START = 45\n",
    "TEXT_END = -368\n",
    "text = text[TEXT_START:TEXT_END]\n",
    "assert len(text) == 2616"
   ]
  },
  {
   "cell_type": "code",
   "execution_count": 3,
   "metadata": {},
   "outputs": [
    {
     "name": "stdout",
     "output_type": "stream",
     "text": [
      "Отлично!\n"
     ]
    }
   ],
   "source": [
    "Letters = string.ascii_uppercase #я не знаю в чем мем, но иначе не работает\n",
    "\n",
    "test = \"\"\n",
    "for string in text:\n",
    "    test += string.lower()\n",
    "\n",
    "text = test\n",
    "\n",
    "assert len(text) == 100225, 'Are you sure you have concatenated all the strings?'\n",
    "assert not any([x in set(text) for x in Letters]), 'Uppercase letters are present'\n",
    "print('Отлично!')"
   ]
  },
  {
   "cell_type": "code",
   "execution_count": 4,
   "metadata": {},
   "outputs": [
    {
     "name": "stdout",
     "output_type": "stream",
     "text": [
      "['\\n', ' ', '!', \"'\", '(', ')', ',', '-', '.', ':', ';', '?', 'a', 'b', 'c', 'd', 'e', 'f', 'g', 'h', 'i', 'j', 'k', 'l', 'm', 'n', 'o', 'p', 'q', 'r', 's', 't', 'u', 'v', 'w', 'x', 'y', 'z']\n"
     ]
    }
   ],
   "source": [
    "tokens = sorted(list(set(text)))\n",
    "print(tokens)"
   ]
  },
  {
   "cell_type": "code",
   "execution_count": 5,
   "metadata": {},
   "outputs": [
    {
     "name": "stdout",
     "output_type": "stream",
     "text": [
      "{'\\n': 0, ' ': 1, '!': 2, \"'\": 3, '(': 4, ')': 5, ',': 6, '-': 7, '.': 8, ':': 9, ';': 10, '?': 11, 'a': 12, 'b': 13, 'c': 14, 'd': 15, 'e': 16, 'f': 17, 'g': 18, 'h': 19, 'i': 20, 'j': 21, 'k': 22, 'l': 23, 'm': 24, 'n': 25, 'o': 26, 'p': 27, 'q': 28, 'r': 29, 's': 30, 't': 31, 'u': 32, 'v': 33, 'w': 34, 'x': 35, 'y': 36, 'z': 37}\n"
     ]
    }
   ],
   "source": [
    "idx_to_token = dict(enumerate(tokens))\n",
    "token_to_idx = dict((v,k) for k,v in idx_to_token.items())\n",
    "print(token_to_idx)"
   ]
  },
  {
   "cell_type": "markdown",
   "metadata": {},
   "source": [
    "*Комментарий: т.к. у нас всего 38 различных токенов, в этот раз воспользуемся one-hot encoding'ом.*\n"
   ]
  },
  {
   "cell_type": "markdown",
   "metadata": {},
   "source": [
    "## Построение модели."
   ]
  },
  {
   "cell_type": "code",
   "execution_count": 64,
   "metadata": {},
   "outputs": [
    {
     "name": "stdout",
     "output_type": "stream",
     "text": [
      "Model: \"sequential_16\"\n",
      "_________________________________________________________________\n",
      "Layer (type)                 Output Shape              Param #   \n",
      "=================================================================\n",
      "simple_rnn_16 (SimpleRNN)    (None, 64)                6592      \n",
      "_________________________________________________________________\n",
      "dense_16 (Dense)             (None, 38)                2470      \n",
      "=================================================================\n",
      "Total params: 9,062\n",
      "Trainable params: 9,062\n",
      "Non-trainable params: 0\n",
      "_________________________________________________________________\n"
     ]
    }
   ],
   "source": [
    "maxlen = 25\n",
    "\n",
    "model = Sequential()\n",
    "model.add(SimpleRNN(64, input_shape=(maxlen, len(tokens))))\n",
    "model.add(Dense(len(tokens), activation='softmax'))\n",
    "\n",
    "optimizer = RMSprop(lr=0.01)\n",
    "model.compile(loss='categorical_crossentropy', optimizer=optimizer)\n",
    "model.summary()"
   ]
  },
  {
   "cell_type": "code",
   "execution_count": 65,
   "metadata": {},
   "outputs": [
    {
     "name": "stdout",
     "output_type": "stream",
     "text": [
      "(4008, 25, 38) (4008, 38)\n",
      "Epoch 1/20\n",
      "113/113 [==============================] - 1s 6ms/step - loss: 3.0004 - val_loss: 2.8413\n",
      "Epoch 2/20\n",
      "113/113 [==============================] - 1s 5ms/step - loss: 2.5405 - val_loss: 2.4408\n",
      "Epoch 3/20\n",
      "113/113 [==============================] - 1s 5ms/step - loss: 2.3249 - val_loss: 2.3940\n",
      "Epoch 4/20\n",
      "113/113 [==============================] - 1s 5ms/step - loss: 2.2422 - val_loss: 2.3464\n",
      "Epoch 5/20\n",
      "113/113 [==============================] - 1s 5ms/step - loss: 2.1827 - val_loss: 2.3617\n",
      "Epoch 6/20\n",
      "113/113 [==============================] - 1s 5ms/step - loss: 2.1181 - val_loss: 2.3305\n",
      "Epoch 7/20\n",
      "113/113 [==============================] - 1s 5ms/step - loss: 2.0610 - val_loss: 2.3274\n",
      "Epoch 8/20\n",
      "113/113 [==============================] - 1s 5ms/step - loss: 2.0202 - val_loss: 2.3001\n",
      "Epoch 9/20\n",
      "113/113 [==============================] - 1s 5ms/step - loss: 1.9715 - val_loss: 2.2792\n",
      "Epoch 10/20\n",
      "113/113 [==============================] - 1s 5ms/step - loss: 1.9279 - val_loss: 2.3265\n",
      "Epoch 11/20\n",
      "113/113 [==============================] - 1s 5ms/step - loss: 1.8846 - val_loss: 2.2883\n",
      "Epoch 12/20\n",
      "113/113 [==============================] - 1s 5ms/step - loss: 1.8578 - val_loss: 2.4060\n",
      "Epoch 13/20\n",
      "113/113 [==============================] - 1s 5ms/step - loss: 1.8333 - val_loss: 2.3382\n",
      "Epoch 14/20\n",
      "113/113 [==============================] - 1s 5ms/step - loss: 1.7927 - val_loss: 2.3195\n",
      "Epoch 15/20\n",
      "113/113 [==============================] - 1s 5ms/step - loss: 1.7715 - val_loss: 2.3236\n",
      "Epoch 16/20\n",
      "113/113 [==============================] - 1s 5ms/step - loss: 1.7527 - val_loss: 2.3754\n",
      "Epoch 17/20\n",
      "113/113 [==============================] - 1s 5ms/step - loss: 1.7557 - val_loss: 2.4699\n",
      "Epoch 18/20\n",
      "113/113 [==============================] - 1s 5ms/step - loss: 1.7258 - val_loss: 2.3519\n",
      "Epoch 19/20\n",
      "113/113 [==============================] - 1s 6ms/step - loss: 1.7502 - val_loss: 2.3566\n",
      "Epoch 20/20\n",
      "113/113 [==============================] - 1s 5ms/step - loss: 1.7171 - val_loss: 2.4091\n"
     ]
    }
   ],
   "source": [
    "sentences = []\n",
    "next_chars = []\n",
    "\n",
    "for k in range(0, len(text)-maxlen, maxlen):\n",
    "    sentences.append(text[k:k+maxlen])\n",
    "    next_chars.append(text[k+maxlen])\n",
    "    \n",
    "x = np.zeros((len(sentences), maxlen, len(tokens)), dtype=np.integer)\n",
    "y = np.zeros((len(sentences), len(tokens)), dtype=np.integer)\n",
    "print(x.shape, y.shape)\n",
    "    \n",
    "for i,j in enumerate(sentences):\n",
    "    for k, token in enumerate(j):\n",
    "        x[i, k, token_to_idx[token]] = 1\n",
    "    y[i, token_to_idx[next_chars[i]]] = 1\n",
    "\n",
    "history = model.fit(x, y, batch_size=32, epochs=20, validation_split=0.1)"
   ]
  },
  {
   "cell_type": "markdown",
   "metadata": {},
   "source": [
    "Постройте график функции потерь в зависимости от номера эпохи."
   ]
  },
  {
   "cell_type": "code",
   "execution_count": 66,
   "metadata": {},
   "outputs": [
    {
     "data": {
      "image/png": "[encoded data removed]",
      "text/plain": [
       "<Figure size 432x288 with 1 Axes>"
      ]
     },
     "metadata": {
      "needs_background": "light"
     },
     "output_type": "display_data"
    }
   ],
   "source": [
    "history_dict = history.history\n",
    "loss_values = history_dict['loss']\n",
    "val_loss_values = history_dict['val_loss']\n",
    "\n",
    "epochs = range(len(loss_values))\n",
    "\n",
    "plt.plot(epochs, loss_values, 'o', label='Training Loss')\n",
    "plt.plot(epochs, val_loss_values, '--', label='Validation Loss')\n",
    "plt.title('Training & Validation Loss')\n",
    "plt.xlabel('Epochs')\n",
    "plt.ylabel('Loss')\n",
    "plt.legend()\n",
    "\n",
    "plt.show()"
   ]
  },
  {
   "cell_type": "code",
   "execution_count": 67,
   "metadata": {},
   "outputs": [
    {
     "name": "stdout",
     "output_type": "stream",
     "text": [
      "\n",
      "...Генерация текста. Температура:  0.4\n",
      "ch public manners breeds.\n",
      "  and soth my will uris my my mave dround of that so sthy \n",
      "  the so that with my live do storewne i bear with my live, and then my prach wealt deve,\n",
      "  and then more dich wrich whing and sor whing and bar when mo have drest shour rould dave then my live, and but hearthy picg my veve,\n",
      "  and then prich woth arle dove thy seve,\n",
      "  and sor whing and and the the priched so live droun dor whing and sore\n",
      "  and then so houst thing art ar wotling,\n",
      "  and bractuoun love thing and sore\n",
      "  and then efar so liv\n",
      "None\n"
     ]
    }
   ],
   "source": [
    "def sample(preds, temperature=1.0):\n",
    "    # helper function to sample an index from a probability array\n",
    "    preds = np.asarray(preds).astype('float64')\n",
    "    preds = np.log(preds) / temperature\n",
    "    exp_preds = np.exp(preds)\n",
    "    preds = exp_preds / np.sum(exp_preds)\n",
    "    probas = np.random.multinomial(1, preds, 1)\n",
    "    return np.argmax(probas)\n",
    "\n",
    "def generate_text(diversity, length, model):\n",
    "    print()\n",
    "    print('...Генерация текста. Температура: ', diversity)\n",
    "    start_index = np.random.randint(0, len(text) - maxlen - 1)\n",
    "    generated = ''\n",
    "    sentence = text[start_index: start_index + maxlen]\n",
    "    generated += sentence\n",
    "    sys.stdout.write(generated)\n",
    "    for i in range(length):\n",
    "        x_pred = np.zeros((1, maxlen, len(tokens)))\n",
    "        for t, char in enumerate(sentence):\n",
    "            x_pred[0, t, token_to_idx[char]] = 1.\n",
    "\n",
    "        preds = model.predict(x_pred, verbose=0)[0] #Вектор вероятностей, полученный с помощью модели\n",
    "        next_index = sample(preds, diversity) # Выбираем индекс\n",
    "        next_char = idx_to_token[next_index] #Выбираем символ из словаря \n",
    "\n",
    "        generated += next_char\n",
    "        sentence = sentence[1:] + next_char\n",
    "\n",
    "        sys.stdout.write(next_char)\n",
    "        sys.stdout.flush()\n",
    "    print()\n",
    "\n",
    "print(generate_text(0.4, 500, model))"
   ]
  },
  {
   "cell_type": "markdown",
   "metadata": {},
   "source": [
    "## Более поэтичная модель"
   ]
  },
  {
   "cell_type": "code",
   "execution_count": 79,
   "metadata": {},
   "outputs": [
    {
     "name": "stdout",
     "output_type": "stream",
     "text": [
      "Model: \"sequential_20\"\n",
      "_________________________________________________________________\n",
      "Layer (type)                 Output Shape              Param #   \n",
      "=================================================================\n",
      "lstm_3 (LSTM)                (None, 128)               85504     \n",
      "_________________________________________________________________\n",
      "dropout_3 (Dropout)          (None, 128)               0         \n",
      "_________________________________________________________________\n",
      "dense_20 (Dense)             (None, 38)                4902      \n",
      "=================================================================\n",
      "Total params: 90,406\n",
      "Trainable params: 90,406\n",
      "Non-trainable params: 0\n",
      "_________________________________________________________________\n"
     ]
    }
   ],
   "source": [
    "model = Sequential()\n",
    "model.add(LSTM(128, input_shape=(maxlen, len(tokens))))\n",
    "model.add(Dropout(0.2))\n",
    "model.add(Dense(len(tokens), activation='softmax'))\n",
    "\n",
    "optimizer = RMSprop(lr=0.01)\n",
    "model.compile(loss='categorical_crossentropy', optimizer=optimizer)\n",
    "model.summary()"
   ]
  },
  {
   "cell_type": "code",
   "execution_count": 83,
   "metadata": {},
   "outputs": [
    {
     "name": "stdout",
     "output_type": "stream",
     "text": [
      "Epoch 1/40\n",
      "29/29 [==============================] - 1s 42ms/step - loss: 1.8625 - val_loss: 2.1810\n",
      "Epoch 2/40\n",
      "29/29 [==============================] - 1s 41ms/step - loss: 1.7701 - val_loss: 2.2249\n",
      "Epoch 3/40\n",
      "29/29 [==============================] - 1s 41ms/step - loss: 1.6783 - val_loss: 2.1639\n",
      "Epoch 4/40\n",
      "29/29 [==============================] - 1s 41ms/step - loss: 1.5667 - val_loss: 2.2474\n",
      "Epoch 5/40\n",
      "29/29 [==============================] - 1s 48ms/step - loss: 1.4531 - val_loss: 2.4188\n",
      "Epoch 6/40\n",
      "29/29 [==============================] - 1s 43ms/step - loss: 1.3364 - val_loss: 2.4395\n",
      "Epoch 7/40\n",
      "29/29 [==============================] - 1s 47ms/step - loss: 1.2084 - val_loss: 2.4679\n",
      "Epoch 8/40\n",
      "29/29 [==============================] - 1s 42ms/step - loss: 1.0998 - val_loss: 2.5668\n",
      "Epoch 9/40\n",
      "29/29 [==============================] - 1s 41ms/step - loss: 0.9938 - val_loss: 2.5862\n",
      "Epoch 10/40\n",
      "29/29 [==============================] - 1s 42ms/step - loss: 0.8873 - val_loss: 2.7865\n",
      "Epoch 11/40\n",
      "29/29 [==============================] - 1s 43ms/step - loss: 0.7881 - val_loss: 2.8532\n",
      "Epoch 12/40\n",
      "29/29 [==============================] - 1s 44ms/step - loss: 0.6834 - val_loss: 2.9260\n",
      "Epoch 13/40\n",
      "29/29 [==============================] - 1s 42ms/step - loss: 0.6159 - val_loss: 2.9420\n",
      "Epoch 14/40\n",
      "29/29 [==============================] - 1s 44ms/step - loss: 0.5506 - val_loss: 3.1562\n",
      "Epoch 15/40\n",
      "29/29 [==============================] - 1s 41ms/step - loss: 0.5280 - val_loss: 3.1192\n",
      "Epoch 16/40\n",
      "29/29 [==============================] - 1s 43ms/step - loss: 0.4614 - val_loss: 3.2477\n",
      "Epoch 17/40\n",
      "29/29 [==============================] - 1s 42ms/step - loss: 0.4352 - val_loss: 3.1512\n",
      "Epoch 18/40\n",
      "29/29 [==============================] - 1s 42ms/step - loss: 0.3805 - val_loss: 3.2765\n",
      "Epoch 19/40\n",
      "29/29 [==============================] - 1s 42ms/step - loss: 0.3505 - val_loss: 3.4368\n",
      "Epoch 20/40\n",
      "29/29 [==============================] - 1s 41ms/step - loss: 0.3512 - val_loss: 3.3974\n",
      "Epoch 21/40\n",
      "29/29 [==============================] - 1s 41ms/step - loss: 0.3178 - val_loss: 3.4275\n",
      "Epoch 22/40\n",
      "29/29 [==============================] - 1s 47ms/step - loss: 0.2872 - val_loss: 3.5012\n",
      "Epoch 23/40\n",
      "29/29 [==============================] - 1s 44ms/step - loss: 0.2846 - val_loss: 3.4956\n",
      "Epoch 24/40\n",
      "29/29 [==============================] - 1s 41ms/step - loss: 0.2749 - val_loss: 3.6303\n",
      "Epoch 25/40\n",
      "29/29 [==============================] - 1s 41ms/step - loss: 0.2824 - val_loss: 3.7277\n",
      "Epoch 26/40\n",
      "29/29 [==============================] - 1s 41ms/step - loss: 0.2409 - val_loss: 3.8161\n",
      "Epoch 27/40\n",
      "29/29 [==============================] - 1s 41ms/step - loss: 0.2502 - val_loss: 3.7071\n",
      "Epoch 28/40\n",
      "29/29 [==============================] - 1s 41ms/step - loss: 0.2386 - val_loss: 3.7253\n",
      "Epoch 29/40\n",
      "29/29 [==============================] - 1s 41ms/step - loss: 0.2344 - val_loss: 3.8721\n",
      "Epoch 30/40\n",
      "29/29 [==============================] - 1s 41ms/step - loss: 0.2335 - val_loss: 3.7935\n",
      "Epoch 31/40\n",
      "29/29 [==============================] - 1s 43ms/step - loss: 0.2005 - val_loss: 3.9428\n",
      "Epoch 32/40\n",
      "29/29 [==============================] - 1s 41ms/step - loss: 0.2334 - val_loss: 3.9752\n",
      "Epoch 33/40\n",
      "29/29 [==============================] - 1s 45ms/step - loss: 0.2009 - val_loss: 4.0548\n",
      "Epoch 34/40\n",
      "29/29 [==============================] - 1s 45ms/step - loss: 0.1835 - val_loss: 4.0408\n",
      "Epoch 35/40\n",
      "29/29 [==============================] - 1s 41ms/step - loss: 0.2048 - val_loss: 3.9019\n",
      "Epoch 36/40\n",
      "29/29 [==============================] - 1s 41ms/step - loss: 0.1969 - val_loss: 3.8799\n",
      "Epoch 37/40\n",
      "29/29 [==============================] - 1s 47ms/step - loss: 0.2001 - val_loss: 4.0838\n",
      "Epoch 38/40\n",
      "29/29 [==============================] - 1s 41ms/step - loss: 0.2198 - val_loss: 3.9454\n",
      "Epoch 39/40\n",
      "29/29 [==============================] - 1s 46ms/step - loss: 0.1857 - val_loss: 4.1160\n",
      "Epoch 40/40\n",
      "29/29 [==============================] - 1s 46ms/step - loss: 0.1681 - val_loss: 4.0756\n"
     ]
    }
   ],
   "source": [
    "history = model.fit(x, y, batch_size=128, epochs=40, shuffle=True, validation_split=0.1)"
   ]
  },
  {
   "cell_type": "code",
   "execution_count": 84,
   "metadata": {},
   "outputs": [
    {
     "data": {
      "image/png": "[encoded data removed]",
      "text/plain": [
       "<Figure size 432x288 with 1 Axes>"
      ]
     },
     "metadata": {
      "needs_background": "light"
     },
     "output_type": "display_data"
    }
   ],
   "source": [
    "history_dict = history.history\n",
    "loss_values = history_dict['loss']\n",
    "val_loss_values = history_dict['val_loss']\n",
    "\n",
    "epochs = range(len(loss_values))\n",
    "\n",
    "plt.plot(epochs, loss_values, 'o', label='Training Loss')\n",
    "plt.plot(epochs, val_loss_values, '--', label='Validation Loss')\n",
    "plt.title('Training & Validation Loss')\n",
    "plt.xlabel('Epochs')\n",
    "plt.ylabel('Loss')\n",
    "plt.legend()\n",
    " \n",
    "plt.show()"
   ]
  },
  {
   "cell_type": "code",
   "execution_count": 85,
   "metadata": {},
   "outputs": [
    {
     "name": "stdout",
     "output_type": "stream",
     "text": [
      "\n",
      "...Генерация текста. Температура:  0.1\n",
      "der the blow of thralled fore thou down pave pring my have thy lessse mave prt and thought:\n",
      "  the prrptaus serartound of alfors,\n",
      "  and hupst digh thy buast, that dedould stall that beart that dedorghand comme.\n",
      "  and callime,\n",
      "  theno  thene ell thise thou, that sest lave and lichie ind thy beatt of meme dighuthoun baat of althend,\n",
      "  and callime de thing my heartith all that beart,\n",
      "  and lasss me call that beart that in oweet siine to mous,\n",
      "  a dore urt on althen bar llong,\n",
      "  and caksing ere thy faust thou artwould that d\n",
      "\n",
      "...Генерация текста. Температура:  0.2\n",
      "\n",
      "  will be a tatter'd weele thingseno howeethen,\n",
      "  ald that beating the pest beat rame thy farst thin thou dotn loveny brrgit of thou dotn allimen now thy mime, mellen now pith my huast,\n",
      "  and thous stime, sorell the pest cammy nower;\n",
      "  weet oull this rageveny farn, thy farst thou artwould thou doth loven no  have pring my haase thy farst dith thy baant of meme frorgh- commy,\n",
      "  and licks sore thou artown pord,\n",
      "  the rest beat right dith and the promy meme diss that dore the pars me have prrrget of meeclling erestincust \n",
      "\n",
      "...Генерация текста. Температура:  0.5\n",
      " i drown an eye, unused tomen nowh live yevery warl thing end come,\n",
      "  sorr withat of leeve thy lesssing mage dighoud,\n",
      "  when bat beat fare the have thy heart,\n",
      "  when thy farst thy veming ald thy beatt that live ngrestarice fromm chowee:\n",
      "  then membre that beto not doth andernglin,, t all ast,\n",
      "  when beatt thy wars- ceme dighutt thou art ongoundest in my vesenf of leven nou with  lave thou deth towers sammy\n",
      "  ard the love, and praces seave prrggeti ble thy best sime,\n",
      "  the prrctse bet ti thingaed stame, and lighe time di\n",
      "\n",
      "...Генерация текста. Температура:  1.0\n",
      "  even such a beauty as yeeningwerturigednou foll stalll nchend;\n",
      "  whene inot to bay seall:\n",
      "  and burtanged, anden, of mouminghering of meen, bethen tomen buiget of meling,\n",
      "  then live thou heartnow ald that swame thy west picem not doth mome blone,\n",
      "  when betiri this redound;\n",
      "  and ruost thou, with memust this and thou artwoe tove amm ming and thould dijorst of mome livequst thy farst digh thin for thing ery sous, and furmmech berore,\n",
      "  were in  lasss orn, went gracks singeling or might dith my buts, bet beart fore dos\n",
      "\n",
      "...Генерация текста. Температура:  2.0\n",
      "st, that best i wish in thou, be to woull thim rabdmenni nof why loven sy piost ta may s?lancule;\n",
      "  as wny levein'd, and greactoundeswhing,\n",
      "    be trymenbon nop yowr tham wieve thee sull eese belinggutt,\n",
      "  nor ing of morul, ddericen ubeestith lovs, pithend;\n",
      "  andosurl foomulys now dibe  wiil in my thue.\n",
      "  the hex, w all that gea!t sthen:\n",
      "  of hove yharved,;\n",
      "e with membe do's sfame y\n",
      "u simbeer clleedsss.\n",
      "- wercved ofr loven! sinl ;\n",
      "  whine;\n",
      "  thqun with  loven form fos,\n",
      "  \n",
      "  ar coepes\n",
      "  nig :uth-eft migh toong,\n",
      "  thee hi\n"
     ]
    }
   ],
   "source": [
    "temperatures = [0.1, 0.2, 0.5, 1.0, 2.0]\n",
    "for temp in temperatures:\n",
    "    generate_text(temp, 500, model)"
   ]
  },
  {
   "cell_type": "markdown",
   "metadata": {},
   "source": [
    "Мне такие поэмы уже кажутся правдоподобными, хотя модель переобучается судя по росту валидационного лосса, на тексте этого не видно совсем\n",
    "\n",
    "Я крутила и количество и размеры слоёв, и количество эпох, получить одновременно краисвые тексты и удобоваримый график лосс не удалось"
   ]
  },
  {
   "cell_type": "markdown",
   "metadata": {},
   "source": [
    "## Сохранение и загрузка модели"
   ]
  },
  {
   "cell_type": "code",
   "execution_count": 95,
   "metadata": {},
   "outputs": [
    {
     "name": "stdout",
     "output_type": "stream",
     "text": [
      "INFO:tensorflow:Assets written to: LSTM/assets\n",
      "\n",
      "...Генерация текста. Температура:  0.1\n",
      "he basest weed outbraves sime,\n",
      "  then mend more that redous sormeftling, mere pest barten, of meenest thie all thise-thoun barty fould that dedould stall that beart that in of meevest thing my fals thou ward, outhat,\n",
      "  and calsing of lime,\n",
      "  the prrcts me cemy dight dith thy beatt that beart,\n",
      "  and laksing my furmmy,\n",
      "  ast lever saing thought:\n",
      "  the keove thee the heast this art thee.\n",
      "  whine the pest beat right dith and the promy meme diss thou dotn soall the woull thing end comme.\n",
      "  sorrn sould shall my hearty, as wer\n",
      "None\n"
     ]
    }
   ],
   "source": [
    "model.save('LSTM')\n",
    "model = load_model('LSTM')\n",
    "print(generate_text(0.1, 500, model))"
   ]
  },
  {
   "cell_type": "markdown",
   "metadata": {},
   "source": [
    "## Часть 2 - Применение методов NLP"
   ]
  },
  {
   "cell_type": "markdown",
   "metadata": {},
   "source": [
    "1. Подготовка __[10%]__:\n",
    "    - Скачайте данные, проведите первоначальные EDA: баланс классов, пересечение классов и т.д. \n",
    "    - Придумайте и обоснуйте стратегию валидации. \n",
    "    - Сделайте предбработку данных. Оцените что требуется делать с символами, заглавными буквами. Проведите лемматизацию или стеминг."
   ]
  },
  {
   "cell_type": "code",
   "execution_count": 3,
   "metadata": {},
   "outputs": [],
   "source": [
    "train = pd.read_csv(\"./comments/train.csv\", encoding = \"ISO-8859-1\")\n",
    "test = pd.read_csv(\"./comments/test.csv\", encoding = \"ISO-8859-1\")\n",
    "train = train.drop(['id'], axis=1)"
   ]
  },
  {
   "cell_type": "code",
   "execution_count": 4,
   "metadata": {},
   "outputs": [
    {
     "data": {
      "image/png": "[encoded data removed]",
      "text/plain": [
       "<Figure size 720x360 with 2 Axes>"
      ]
     },
     "metadata": {},
     "output_type": "display_data"
    }
   ],
   "source": [
    "colors=['#00558a', '#446f9d', '#6c8ab0', '#91a6c4', '#b5c2d7', '#dae0eb']\n",
    "\n",
    "train_ = train.drop(['comment_text'], axis=1)\n",
    "train_['label_number'] = 0\n",
    "train_['label_number'] = train.sum(axis=1)\n",
    "train_.head(10)\n",
    "\n",
    "toxic_num = np.count_nonzero(train_.label_number)\n",
    "\n",
    "plt.subplots(figsize=(10,5))\n",
    "plt.subplot(121)\n",
    "plt.title(\"Labels density\")\n",
    "plt.pie([len(train_)-toxic_num, toxic_num], labels=['harmless','hateful'], \\\n",
    "        colors=colors[:2], explode=(0, 0.1), autopct='%1.1f%%', shadow=True)\n",
    "\n",
    "plt.subplot(122)\n",
    "pst = train_.groupby('label_number').size()\n",
    "pst[1:].plot(kind='pie', colors=colors, explode=(0,0,0,0.1,0.2,0.4),\\\n",
    "             shadow=True, autopct='%1.1f%%')\n",
    "plt.title(\"Amount of labels, occuring simultaneously\")\n",
    "plt.ylabel(\"\")\n",
    "plt.xlabel(\"\")\n",
    "plt.show()"
   ]
  },
  {
   "cell_type": "code",
   "execution_count": 5,
   "metadata": {},
   "outputs": [
    {
     "data": {
      "image/png": "[encoded data removed]",
      "text/plain": [
       "<Figure size 1080x360 with 3 Axes>"
      ]
     },
     "metadata": {
      "needs_background": "light"
     },
     "output_type": "display_data"
    }
   ],
   "source": [
    "classes = []\n",
    "train_ = train_.drop(['label_number'], axis=1)\n",
    "\n",
    "for tag in train_.columns:\n",
    "    classes.append(train_[tag].sum())\n",
    "\n",
    "corr = train_.corr()\n",
    "    \n",
    "plt.subplots(figsize=(15,5))\n",
    "\n",
    "plt.subplot(121)\n",
    "plt.title(\"Disbalance of classes\")\n",
    "plt.bar(train_.columns, classes, color=colors)\n",
    "\n",
    "plt.subplot(122)\n",
    "plt.title(\"Classes correlation\")\n",
    "sns.heatmap(corr, annot=True, cmap='Blues')\n",
    "plt.show()"
   ]
  },
  {
   "cell_type": "code",
   "execution_count": 6,
   "metadata": {},
   "outputs": [],
   "source": [
    "import re\n",
    "from nltk.stem import WordNetLemmatizer\n",
    "lemmatizer = WordNetLemmatizer()\n",
    "\n",
    "def clean_comment(comment):\n",
    "    comment = re.sub(r\"@[A-Za-z0-9]+\", ' ', comment)\n",
    "    comment = re.sub(r\"https?://[A-Za-z0-9./]+\", ' ', comment) #delete links\n",
    "    comment = re.sub(r\"[^a-zA-Z.!?']\", ' ', comment) #and other symbols\n",
    "    comment = re.sub(r\" +\", ' ', comment) #and additional spaces\n",
    "    #capitalization heats comments up, so I keep it\n",
    "    return comment\n",
    "\n",
    "x_train = train['comment_text'].apply(lambda x: clean_comment(x))\n",
    "x_test = test['comment_text'].apply(lambda x: clean_comment(x))\n",
    "train_label = train.drop(['comment_text'], axis=1)"
   ]
  },
  {
   "cell_type": "markdown",
   "metadata": {},
   "source": [
    "Так как некоторые классы сильно коррелируют <br>\n",
    "Беру старый добрый сплит без прекрас, разве что шафлю иногда"
   ]
  },
  {
   "cell_type": "markdown",
   "metadata": {},
   "source": [
    "2. Примените любой Embedding (word2vec или Glove) __[5%]__"
   ]
  },
  {
   "cell_type": "code",
   "execution_count": 7,
   "metadata": {},
   "outputs": [],
   "source": [
    "from keras.preprocessing.text import Tokenizer\n",
    "from keras.preprocessing.sequence import pad_sequences\n",
    "from keras.utils import to_categorical\n",
    "from keras.layers import Embedding, Input, Conv1D, GlobalMaxPooling1D\n",
    "from sklearn.model_selection import train_test_split\n",
    "\n",
    "tokenizer = Tokenizer(num_words = 50000)\n",
    "tokenizer.fit_on_texts(x_train)\n",
    "\n",
    "x_train = tokenizer.texts_to_sequences(x_train)\n",
    "x_test = tokenizer.texts_to_sequences(x_test)\n",
    "\n",
    "train_padded = pad_sequences(x_train, maxlen=100)\n",
    "test_padded = pad_sequences(x_test, maxlen=100)"
   ]
  },
  {
   "cell_type": "markdown",
   "metadata": {},
   "source": [
    "3. Постройте следующие модели (для каждой необходимо самостоятельно выбрать оптимальное количество слоеев и архитектуру, оценить качество, переобученность, построить кривые обучения и валидации, сделать выводы по примению модели):\n",
    "    - Одномерные свертки __[20%]__\n",
    "    - LSTM или GRU __[20%]__\n",
    "    - Bidirectional LSTM __[20%]__   "
   ]
  },
  {
   "cell_type": "code",
   "execution_count": 10,
   "metadata": {},
   "outputs": [
    {
     "name": "stdout",
     "output_type": "stream",
     "text": [
      "Model: \"sequential_1\"\n",
      "_________________________________________________________________\n",
      "Layer (type)                 Output Shape              Param #   \n",
      "=================================================================\n",
      "embedding_1 (Embedding)      (None, None, 128)         6400000   \n",
      "_________________________________________________________________\n",
      "conv1d_1 (Conv1D)            (None, None, 32)          12320     \n",
      "_________________________________________________________________\n",
      "global_max_pooling1d_1 (Glob (None, 32)                0         \n",
      "_________________________________________________________________\n",
      "dense_1 (Dense)              (None, 6)                 198       \n",
      "=================================================================\n",
      "Total params: 6,412,518\n",
      "Trainable params: 6,412,518\n",
      "Non-trainable params: 0\n",
      "_________________________________________________________________\n"
     ]
    }
   ],
   "source": [
    "## одномерные свертки\n",
    "model = Sequential()\n",
    "model.add(Embedding(50000, 128))\n",
    "model.add(Conv1D(32, kernel_size = 3, padding = \"valid\"))\n",
    "model.add(GlobalMaxPooling1D())\n",
    "model.add(Dense(units = 6, activation = 'sigmoid'))\n",
    "model.summary()"
   ]
  },
  {
   "cell_type": "code",
   "execution_count": 11,
   "metadata": {},
   "outputs": [
    {
     "name": "stdout",
     "output_type": "stream",
     "text": [
      "3740/3740 [==============================] - 314s 84ms/step - loss: 0.0667 - auc: 0.9671 - val_loss: 0.0492 - val_auc: 0.9801\n"
     ]
    },
    {
     "data": {
      "text/plain": [
       "<tensorflow.python.keras.callbacks.History at 0x7fea82329240>"
      ]
     },
     "execution_count": 11,
     "metadata": {},
     "output_type": "execute_result"
    }
   ],
   "source": [
    "model.compile(loss = \"binary_crossentropy\", optimizer = \"adam\", metrics = [\"AUC\"])\n",
    "x_train, x_val, y_train, y_val = train_test_split(train_padded, train_label, \\\n",
    "                                        shuffle = True, random_state = 123)\n",
    "model.fit(x_train, y_train, batch_size = 32, epochs = 1, validation_data = (x_val, y_val))"
   ]
  },
  {
   "cell_type": "code",
   "execution_count": 12,
   "metadata": {},
   "outputs": [
    {
     "data": {
      "text/html": [
       "<div>\n",
       "<style scoped>\n",
       "    .dataframe tbody tr th:only-of-type {\n",
       "        vertical-align: middle;\n",
       "    }\n",
       "\n",
       "    .dataframe tbody tr th {\n",
       "        vertical-align: top;\n",
       "    }\n",
       "\n",
       "    .dataframe thead th {\n",
       "        text-align: right;\n",
       "    }\n",
       "</style>\n",
       "<table border=\"1\" class=\"dataframe\">\n",
       "  <thead>\n",
       "    <tr style=\"text-align: right;\">\n",
       "      <th></th>\n",
       "      <th>id</th>\n",
       "      <th>toxic</th>\n",
       "      <th>severe_toxic</th>\n",
       "      <th>obscene</th>\n",
       "      <th>threat</th>\n",
       "      <th>insult</th>\n",
       "      <th>identity_hate</th>\n",
       "    </tr>\n",
       "  </thead>\n",
       "  <tbody>\n",
       "    <tr>\n",
       "      <th>0</th>\n",
       "      <td>00001cee341fdb12</td>\n",
       "      <td>0.991767</td>\n",
       "      <td>0.203469</td>\n",
       "      <td>0.955996</td>\n",
       "      <td>0.046824</td>\n",
       "      <td>0.879343</td>\n",
       "      <td>0.185859</td>\n",
       "    </tr>\n",
       "    <tr>\n",
       "      <th>1</th>\n",
       "      <td>0000247867823ef7</td>\n",
       "      <td>0.000928</td>\n",
       "      <td>0.000038</td>\n",
       "      <td>0.000250</td>\n",
       "      <td>0.000125</td>\n",
       "      <td>0.000409</td>\n",
       "      <td>0.000185</td>\n",
       "    </tr>\n",
       "    <tr>\n",
       "      <th>2</th>\n",
       "      <td>00013b17ad220c46</td>\n",
       "      <td>0.024505</td>\n",
       "      <td>0.000362</td>\n",
       "      <td>0.002930</td>\n",
       "      <td>0.000917</td>\n",
       "      <td>0.003660</td>\n",
       "      <td>0.000726</td>\n",
       "    </tr>\n",
       "    <tr>\n",
       "      <th>3</th>\n",
       "      <td>00017563c3f7919a</td>\n",
       "      <td>0.002213</td>\n",
       "      <td>0.000204</td>\n",
       "      <td>0.000464</td>\n",
       "      <td>0.000211</td>\n",
       "      <td>0.001276</td>\n",
       "      <td>0.000318</td>\n",
       "    </tr>\n",
       "    <tr>\n",
       "      <th>4</th>\n",
       "      <td>00017695ad8997eb</td>\n",
       "      <td>0.013406</td>\n",
       "      <td>0.000571</td>\n",
       "      <td>0.003547</td>\n",
       "      <td>0.001452</td>\n",
       "      <td>0.002472</td>\n",
       "      <td>0.000835</td>\n",
       "    </tr>\n",
       "  </tbody>\n",
       "</table>\n",
       "</div>"
      ],
      "text/plain": [
       "                 id     toxic  severe_toxic   obscene    threat    insult  \\\n",
       "0  00001cee341fdb12  0.991767      0.203469  0.955996  0.046824  0.879343   \n",
       "1  0000247867823ef7  0.000928      0.000038  0.000250  0.000125  0.000409   \n",
       "2  00013b17ad220c46  0.024505      0.000362  0.002930  0.000917  0.003660   \n",
       "3  00017563c3f7919a  0.002213      0.000204  0.000464  0.000211  0.001276   \n",
       "4  00017695ad8997eb  0.013406      0.000571  0.003547  0.001452  0.002472   \n",
       "\n",
       "   identity_hate  \n",
       "0       0.185859  \n",
       "1       0.000185  \n",
       "2       0.000726  \n",
       "3       0.000318  \n",
       "4       0.000835  "
      ]
     },
     "execution_count": 12,
     "metadata": {},
     "output_type": "execute_result"
    }
   ],
   "source": [
    "predict = model.predict(test_padded)\n",
    "target_cols = np.array(['toxic','severe_toxic','obscene', 'threat','insult', 'identity_hate'])\n",
    "final_predict_test = pd.concat([pd.DataFrame(predict, columns=target_cols)], 1)\n",
    "t1 = test['id']\n",
    "final_predict_test = pd.concat([t1,final_predict_test],1)\n",
    "final_predict_test.head()"
   ]
  },
  {
   "cell_type": "code",
   "execution_count": 13,
   "metadata": {},
   "outputs": [],
   "source": [
    "final_predict_test.to_csv('hw_1_BoriskovaEYU.csv', index=False)"
   ]
  },
  {
   "cell_type": "markdown",
   "metadata": {},
   "source": [
    "Свертка сработала лучше всего остального - 0.96728"
   ]
  },
  {
   "cell_type": "code",
   "execution_count": 163,
   "metadata": {},
   "outputs": [
    {
     "name": "stdout",
     "output_type": "stream",
     "text": [
      "Model: \"sequential_37\"\n",
      "_________________________________________________________________\n",
      "Layer (type)                 Output Shape              Param #   \n",
      "=================================================================\n",
      "embedding_16 (Embedding)     (None, None, 128)         6400000   \n",
      "_________________________________________________________________\n",
      "lstm_22 (LSTM)               (None, None, 64)          49408     \n",
      "_________________________________________________________________\n",
      "lstm_23 (LSTM)               (None, 64)                33024     \n",
      "_________________________________________________________________\n",
      "dense_34 (Dense)             (None, 6)                 390       \n",
      "=================================================================\n",
      "Total params: 6,482,822\n",
      "Trainable params: 6,482,822\n",
      "Non-trainable params: 0\n",
      "_________________________________________________________________\n"
     ]
    }
   ],
   "source": [
    "## LSTM\n",
    "model = Sequential()\n",
    "model.add(Embedding(50000, 128))\n",
    "model.add(LSTM(units = 64, dropout = 0.2,return_sequences=True))\n",
    "model.add(LSTM(units = 64, dropout = 0.2))\n",
    "model.add(Dense(units = 6, activation = 'sigmoid'))\n",
    "model.summary()"
   ]
  },
  {
   "cell_type": "code",
   "execution_count": 118,
   "metadata": {},
   "outputs": [
    {
     "name": "stdout",
     "output_type": "stream",
     "text": [
      "3740/3740 [==============================] - 779s 208ms/step - loss: 0.0699 - auc: 0.9594 - val_loss: 0.0497 - val_auc: 0.9790\n"
     ]
    },
    {
     "data": {
      "text/plain": [
       "<tensorflow.python.keras.callbacks.History at 0x7f778a230cc0>"
      ]
     },
     "execution_count": 118,
     "metadata": {},
     "output_type": "execute_result"
    }
   ],
   "source": [
    "model.compile(loss = \"binary_crossentropy\", optimizer = \"adam\", metrics = [\"AUC\"])\n",
    "x_train, x_val, y_train, y_val = train_test_split(train_padded, train_label, \\\n",
    "                                        shuffle = True, random_state = 123)\n",
    "model.fit(x_train, y_train, batch_size = 32, epochs = 1, validation_data = (x_val, y_val))"
   ]
  },
  {
   "cell_type": "code",
   "execution_count": 119,
   "metadata": {},
   "outputs": [
    {
     "data": {
      "text/html": [
       "<div>\n",
       "<style scoped>\n",
       "    .dataframe tbody tr th:only-of-type {\n",
       "        vertical-align: middle;\n",
       "    }\n",
       "\n",
       "    .dataframe tbody tr th {\n",
       "        vertical-align: top;\n",
       "    }\n",
       "\n",
       "    .dataframe thead th {\n",
       "        text-align: right;\n",
       "    }\n",
       "</style>\n",
       "<table border=\"1\" class=\"dataframe\">\n",
       "  <thead>\n",
       "    <tr style=\"text-align: right;\">\n",
       "      <th></th>\n",
       "      <th>id</th>\n",
       "      <th>toxic</th>\n",
       "      <th>severe_toxic</th>\n",
       "      <th>obscene</th>\n",
       "      <th>threat</th>\n",
       "      <th>insult</th>\n",
       "      <th>identity_hate</th>\n",
       "    </tr>\n",
       "  </thead>\n",
       "  <tbody>\n",
       "    <tr>\n",
       "      <th>0</th>\n",
       "      <td>00001cee341fdb12</td>\n",
       "      <td>0.983961</td>\n",
       "      <td>0.266412</td>\n",
       "      <td>0.940029</td>\n",
       "      <td>0.052926</td>\n",
       "      <td>0.800918</td>\n",
       "      <td>0.157120</td>\n",
       "    </tr>\n",
       "    <tr>\n",
       "      <th>1</th>\n",
       "      <td>0000247867823ef7</td>\n",
       "      <td>0.006120</td>\n",
       "      <td>0.000042</td>\n",
       "      <td>0.000835</td>\n",
       "      <td>0.000141</td>\n",
       "      <td>0.000419</td>\n",
       "      <td>0.000204</td>\n",
       "    </tr>\n",
       "    <tr>\n",
       "      <th>2</th>\n",
       "      <td>00013b17ad220c46</td>\n",
       "      <td>0.028059</td>\n",
       "      <td>0.000118</td>\n",
       "      <td>0.003021</td>\n",
       "      <td>0.000477</td>\n",
       "      <td>0.001549</td>\n",
       "      <td>0.000657</td>\n",
       "    </tr>\n",
       "    <tr>\n",
       "      <th>3</th>\n",
       "      <td>00017563c3f7919a</td>\n",
       "      <td>0.021568</td>\n",
       "      <td>0.000082</td>\n",
       "      <td>0.002268</td>\n",
       "      <td>0.000345</td>\n",
       "      <td>0.001043</td>\n",
       "      <td>0.000445</td>\n",
       "    </tr>\n",
       "    <tr>\n",
       "      <th>4</th>\n",
       "      <td>00017695ad8997eb</td>\n",
       "      <td>0.022470</td>\n",
       "      <td>0.000090</td>\n",
       "      <td>0.002442</td>\n",
       "      <td>0.000351</td>\n",
       "      <td>0.001196</td>\n",
       "      <td>0.000496</td>\n",
       "    </tr>\n",
       "  </tbody>\n",
       "</table>\n",
       "</div>"
      ],
      "text/plain": [
       "                 id     toxic  severe_toxic   obscene    threat    insult  \\\n",
       "0  00001cee341fdb12  0.983961      0.266412  0.940029  0.052926  0.800918   \n",
       "1  0000247867823ef7  0.006120      0.000042  0.000835  0.000141  0.000419   \n",
       "2  00013b17ad220c46  0.028059      0.000118  0.003021  0.000477  0.001549   \n",
       "3  00017563c3f7919a  0.021568      0.000082  0.002268  0.000345  0.001043   \n",
       "4  00017695ad8997eb  0.022470      0.000090  0.002442  0.000351  0.001196   \n",
       "\n",
       "   identity_hate  \n",
       "0       0.157120  \n",
       "1       0.000204  \n",
       "2       0.000657  \n",
       "3       0.000445  \n",
       "4       0.000496  "
      ]
     },
     "execution_count": 119,
     "metadata": {},
     "output_type": "execute_result"
    }
   ],
   "source": [
    "predict = model.predict(test_padded)\n",
    "target_cols = np.array(['toxic','severe_toxic','obscene', 'threat','insult', 'identity_hate'])\n",
    "final_predict_test = pd.concat([pd.DataFrame(predict, columns=target_cols)], 1)\n",
    "t1 = test['id']\n",
    "final_predict_test = pd.concat([t1,final_predict_test],1)\n",
    "final_predict_test.head()"
   ]
  },
  {
   "cell_type": "code",
   "execution_count": 148,
   "metadata": {},
   "outputs": [],
   "source": [
    "final_predict_test.to_csv('hw_1_BoriskovaEYU.csv', index=False)"
   ]
  },
  {
   "cell_type": "markdown",
   "metadata": {},
   "source": [
    "Применимость LSTM здесь очевидна, так как моя сеть обучается быстро(всего за одну эпоху) тут и кривых строить не из чего <br>\n",
    "Late Submission выдал 0.96149 - что я считаю очень хорошо"
   ]
  },
  {
   "cell_type": "code",
   "execution_count": 146,
   "metadata": {},
   "outputs": [
    {
     "name": "stdout",
     "output_type": "stream",
     "text": [
      "Model: \"sequential_34\"\n",
      "_________________________________________________________________\n",
      "Layer (type)                 Output Shape              Param #   \n",
      "=================================================================\n",
      "embedding_13 (Embedding)     (None, None, 128)         6400000   \n",
      "_________________________________________________________________\n",
      "bidirectional_12 (Bidirectio (None, None, 128)         98816     \n",
      "_________________________________________________________________\n",
      "bidirectional_13 (Bidirectio (None, 128)               98816     \n",
      "_________________________________________________________________\n",
      "dense_32 (Dense)             (None, 6)                 774       \n",
      "=================================================================\n",
      "Total params: 6,598,406\n",
      "Trainable params: 6,598,406\n",
      "Non-trainable params: 0\n",
      "_________________________________________________________________\n"
     ]
    }
   ],
   "source": [
    "##bidirectional LSTM\n",
    "from keras.layers import Bidirectional, Flatten\n",
    "model = Sequential()\n",
    "model.add(Embedding(50000, 128))\n",
    "model.add(Bidirectional(LSTM(units = 64, dropout = 0.2, return_sequences=True)))\n",
    "model.add(Bidirectional(LSTM(units = 64, dropout = 0.2)))\n",
    "model.add(Dense(units = 6, activation = 'sigmoid'))\n",
    "model.summary()"
   ]
  },
  {
   "cell_type": "code",
   "execution_count": 147,
   "metadata": {
    "scrolled": false
   },
   "outputs": [
    {
     "name": "stdout",
     "output_type": "stream",
     "text": [
      "3740/3740 [==============================] - 952s 255ms/step - loss: 0.0686 - auc: 0.9595 - val_loss: 0.0497 - val_auc: 0.9762\n"
     ]
    },
    {
     "data": {
      "text/plain": [
       "<tensorflow.python.keras.callbacks.History at 0x7f777e0b7668>"
      ]
     },
     "execution_count": 147,
     "metadata": {},
     "output_type": "execute_result"
    }
   ],
   "source": [
    "model.compile(loss = \"binary_crossentropy\", optimizer = \"adam\", metrics = [\"AUC\"])\n",
    "x_train, x_val, y_train, y_val = train_test_split(train_padded, train_label, \\\n",
    "                                        shuffle = True, random_state = 123)\n",
    "model.fit(x_train, y_train, batch_size = 32, epochs = 1, validation_data = (x_val, y_val))"
   ]
  },
  {
   "cell_type": "code",
   "execution_count": 149,
   "metadata": {},
   "outputs": [
    {
     "data": {
      "text/html": [
       "<div>\n",
       "<style scoped>\n",
       "    .dataframe tbody tr th:only-of-type {\n",
       "        vertical-align: middle;\n",
       "    }\n",
       "\n",
       "    .dataframe tbody tr th {\n",
       "        vertical-align: top;\n",
       "    }\n",
       "\n",
       "    .dataframe thead th {\n",
       "        text-align: right;\n",
       "    }\n",
       "</style>\n",
       "<table border=\"1\" class=\"dataframe\">\n",
       "  <thead>\n",
       "    <tr style=\"text-align: right;\">\n",
       "      <th></th>\n",
       "      <th>id</th>\n",
       "      <th>toxic</th>\n",
       "      <th>severe_toxic</th>\n",
       "      <th>obscene</th>\n",
       "      <th>threat</th>\n",
       "      <th>insult</th>\n",
       "      <th>identity_hate</th>\n",
       "    </tr>\n",
       "  </thead>\n",
       "  <tbody>\n",
       "    <tr>\n",
       "      <th>0</th>\n",
       "      <td>00001cee341fdb12</td>\n",
       "      <td>0.977689</td>\n",
       "      <td>0.248755</td>\n",
       "      <td>0.941777</td>\n",
       "      <td>0.080713</td>\n",
       "      <td>0.867671</td>\n",
       "      <td>0.133474</td>\n",
       "    </tr>\n",
       "    <tr>\n",
       "      <th>1</th>\n",
       "      <td>0000247867823ef7</td>\n",
       "      <td>0.002898</td>\n",
       "      <td>0.000075</td>\n",
       "      <td>0.000616</td>\n",
       "      <td>0.000133</td>\n",
       "      <td>0.000779</td>\n",
       "      <td>0.000281</td>\n",
       "    </tr>\n",
       "    <tr>\n",
       "      <th>2</th>\n",
       "      <td>00013b17ad220c46</td>\n",
       "      <td>0.010508</td>\n",
       "      <td>0.000212</td>\n",
       "      <td>0.001878</td>\n",
       "      <td>0.000390</td>\n",
       "      <td>0.002611</td>\n",
       "      <td>0.000911</td>\n",
       "    </tr>\n",
       "    <tr>\n",
       "      <th>3</th>\n",
       "      <td>00017563c3f7919a</td>\n",
       "      <td>0.004293</td>\n",
       "      <td>0.000095</td>\n",
       "      <td>0.000707</td>\n",
       "      <td>0.000189</td>\n",
       "      <td>0.000934</td>\n",
       "      <td>0.000418</td>\n",
       "    </tr>\n",
       "    <tr>\n",
       "      <th>4</th>\n",
       "      <td>00017695ad8997eb</td>\n",
       "      <td>0.029205</td>\n",
       "      <td>0.000356</td>\n",
       "      <td>0.004100</td>\n",
       "      <td>0.000892</td>\n",
       "      <td>0.006436</td>\n",
       "      <td>0.002545</td>\n",
       "    </tr>\n",
       "  </tbody>\n",
       "</table>\n",
       "</div>"
      ],
      "text/plain": [
       "                 id     toxic  severe_toxic   obscene    threat    insult  \\\n",
       "0  00001cee341fdb12  0.977689      0.248755  0.941777  0.080713  0.867671   \n",
       "1  0000247867823ef7  0.002898      0.000075  0.000616  0.000133  0.000779   \n",
       "2  00013b17ad220c46  0.010508      0.000212  0.001878  0.000390  0.002611   \n",
       "3  00017563c3f7919a  0.004293      0.000095  0.000707  0.000189  0.000934   \n",
       "4  00017695ad8997eb  0.029205      0.000356  0.004100  0.000892  0.006436   \n",
       "\n",
       "   identity_hate  \n",
       "0       0.133474  \n",
       "1       0.000281  \n",
       "2       0.000911  \n",
       "3       0.000418  \n",
       "4       0.002545  "
      ]
     },
     "execution_count": 149,
     "metadata": {},
     "output_type": "execute_result"
    }
   ],
   "source": [
    "predict = model.predict(test_padded)\n",
    "target_cols = np.array(['toxic','severe_toxic','obscene', 'threat','insult', 'identity_hate'])\n",
    "final_predict_test = pd.concat([pd.DataFrame(predict, columns=target_cols)], 1)\n",
    "t1 = test['id']\n",
    "final_predict_test = pd.concat([t1,final_predict_test],1)\n",
    "final_predict_test.head()"
   ]
  },
  {
   "cell_type": "code",
   "execution_count": 150,
   "metadata": {},
   "outputs": [],
   "source": [
    "final_predict_test.to_csv('hw_1_BoriskovaEYU.csv', index=False)"
   ]
  },
  {
   "cell_type": "markdown",
   "metadata": {},
   "source": [
    "Bidirectional LSTM показал себя чуть хуже - 0.96077 <br>\n",
    "Однако все равно применим и очень успешно"
   ]
  },
  {
   "cell_type": "markdown",
   "metadata": {},
   "source": [
    "4. Попробуйте применить к этой задаче BERT или GPT-2. Выбор оптимального количества слоеев и архитектура на ваш вкус (но не забудьте обосновать его). Оцените качетво и другие параметры работы модели. __[25%]__"
   ]
  },
  {
   "cell_type": "code",
   "execution_count": 152,
   "metadata": {},
   "outputs": [
    {
     "name": "stderr",
     "output_type": "stream",
     "text": [
      "100%|██████████| 433/433 [00:00<00:00, 48914.15B/s]\n",
      "100%|██████████| 440473133/440473133 [42:52<00:00, 171231.36B/s] \n"
     ]
    }
   ],
   "source": [
    "#! pip install pytorch-transformers\n",
    "\n",
    "x_train, x_val, y_train, y_val = train_test_split(train_padded, train_label, \\\n",
    "                                        shuffle = True, random_state = 123)\n",
    "\n",
    "#train_inputs = torch.tensor(x_train)\n",
    "#train_labels = torch.tensor(y_train)\n",
    "\n",
    "#val_inputs = torch.tensor(x_val)\n",
    "#val_labels = torch.tensor(y_val)\n",
    "\n",
    "from pytorch_transformers import AdamW, BertForSequenceClassification\n",
    "\n",
    "model = BertForSequenceClassification.from_pretrained('bert-base-uncased', num_labels=6)"
   ]
  },
  {
   "cell_type": "markdown",
   "metadata": {},
   "source": [
    "Берт так и не заработал, но я пыталась...."
   ]
  },
  {
   "cell_type": "markdown",
   "metadata": {},
   "source": [
    "5. Основываясь на полученных результатах, сделайте свою лучшую модель и сделайте Late Submission на тестовых данных [challenge](https://www.kaggle.com/c/jigsaw-toxic-comment-classification-challenge). Не забудьте <u>приложить</u> скриншот с Вашим скором. Скриншот вставьте прямо в ноутбук с решением или выведите в stdout. "
   ]
  },
  {
   "cell_type": "markdown",
   "metadata": {},
   "source": [
    "На одномерной свертке скор уже космический <br>\n",
    "Я могла бы придумывать еще модели, но смысл, если уже почти 0.97"
   ]
  },
  {
   "cell_type": "code",
   "execution_count": 15,
   "metadata": {},
   "outputs": [
    {
     "data": {
      "image/png": "[encoded data removed]",
      "text/plain": [
       "<IPython.core.display.Image object>"
      ]
     },
     "execution_count": 15,
     "metadata": {},
     "output_type": "execute_result"
    }
   ],
   "source": [
    "from IPython.display import Image\n",
    "Image(\"pic.png\")"
   ]
  },
  {
   "cell_type": "markdown",
   "metadata": {},
   "source": [
    "## Часть 3 - Attention Basics\n",
    "\n",
    "Original notebook is provided by Udacity at [github](https://github.com/udacity/deep-learning-v2-pytorch/blob/master/attention/Attention_Basics.ipynb) \n",
    "\n",
    "In this notebook, we look at how attention is implemented. We will focus on implementing attention in isolation from a larger model. That's because when implementing attention in a real-world model, a lot of the focus goes into piping the data and juggling the various vectors rather than the concepts of attention themselves.\n",
    "\n",
    "We will implement attention scoring as well as calculating an attention context vector.\n",
    "\n",
    "## Attention Scoring\n",
    "### Inputs to the scoring function\n",
    "Let's start by looking at the inputs we'll give to the scoring function. We will assume we're in the first step in the decoding phase. The first input to the scoring function is the hidden state of decoder (assuming a toy RNN with three hidden nodes -- not usable in real life, but easier to illustrate):"
   ]
  },
  {
   "cell_type": "code",
   "execution_count": 27,
   "metadata": {},
   "outputs": [],
   "source": [
    "dec_hidden_state = [5,1,20]"
   ]
  },
  {
   "cell_type": "markdown",
   "metadata": {},
   "source": [
    "Let's visualize this vector:"
   ]
  },
  {
   "cell_type": "code",
   "execution_count": 28,
   "metadata": {},
   "outputs": [
    {
     "data": {
      "text/plain": [
       "<matplotlib.axes._subplots.AxesSubplot at 0x7f5121013198>"
      ]
     },
     "execution_count": 28,
     "metadata": {},
     "output_type": "execute_result"
    },
    {
     "data": {
      "image/png": "[encoded data removed]",
      "text/plain": [
       "<Figure size 108x324 with 2 Axes>"
      ]
     },
     "metadata": {
      "needs_background": "light"
     },
     "output_type": "display_data"
    }
   ],
   "source": [
    "%matplotlib inline\n",
    "import numpy as np\n",
    "import matplotlib.pyplot as plt\n",
    "import seaborn as sns\n",
    "\n",
    "plt.figure(figsize=(1.5, 4.5))\n",
    "sns.heatmap(np.transpose(np.matrix(dec_hidden_state)), annot=True, cmap=sns.light_palette(\"purple\", as_cmap=True), linewidths=1)"
   ]
  },
  {
   "cell_type": "markdown",
   "metadata": {},
   "source": [
    "Our first scoring function will score a single annotation (encoder hidden state), which looks like this:"
   ]
  },
  {
   "cell_type": "code",
   "execution_count": 29,
   "metadata": {},
   "outputs": [],
   "source": [
    "annotation = [3,12,45]"
   ]
  },
  {
   "cell_type": "code",
   "execution_count": 30,
   "metadata": {},
   "outputs": [
    {
     "data": {
      "text/plain": [
       "<matplotlib.axes._subplots.AxesSubplot at 0x7f50cc5ddc18>"
      ]
     },
     "execution_count": 30,
     "metadata": {},
     "output_type": "execute_result"
    },
    {
     "data": {
      "image/png": "[encoded data removed]",
      "text/plain": [
       "<Figure size 108x324 with 2 Axes>"
      ]
     },
     "metadata": {
      "needs_background": "light"
     },
     "output_type": "display_data"
    }
   ],
   "source": [
    "plt.figure(figsize=(1.5, 4.5))\n",
    "sns.heatmap(np.transpose(np.matrix(annotation)), annot=True, cmap=sns.light_palette(\"orange\", as_cmap=True), linewidths=1)"
   ]
  },
  {
   "cell_type": "markdown",
   "metadata": {},
   "source": [
    "### IMPLEMENT: Scoring a Single Annotation\n",
    "Let's calculate the dot product of a single annotation. NumPy's [dot()](https://docs.scipy.org/doc/numpy/reference/generated/numpy.dot.html) is a good candidate for this operation"
   ]
  },
  {
   "cell_type": "code",
   "execution_count": 33,
   "metadata": {},
   "outputs": [
    {
     "data": {
      "text/plain": [
       "927"
      ]
     },
     "execution_count": 33,
     "metadata": {},
     "output_type": "execute_result"
    }
   ],
   "source": [
    "def single_dot_attention_score(dec_hidden_state, enc_hidden_state):\n",
    "    return np.dot(dec_hidden_state, enc_hidden_state)\n",
    "    \n",
    "single_dot_attention_score(dec_hidden_state, annotation)"
   ]
  },
  {
   "cell_type": "markdown",
   "metadata": {},
   "source": [
    "\n",
    "### Annotations Matrix\n",
    "Let's now look at scoring all the annotations at once. To do that, here's our annotation matrix:"
   ]
  },
  {
   "cell_type": "code",
   "execution_count": 34,
   "metadata": {},
   "outputs": [],
   "source": [
    "annotations = np.transpose([[3,12,45], [59,2,5], [1,43,5], [4,3,45.3]])"
   ]
  },
  {
   "cell_type": "markdown",
   "metadata": {},
   "source": [
    "And it can be visualized like this (each column is a hidden state of an encoder time step):"
   ]
  },
  {
   "cell_type": "code",
   "execution_count": 35,
   "metadata": {},
   "outputs": [
    {
     "data": {
      "image/png": "[encoded data removed]",
      "text/plain": [
       "<Figure size 432x288 with 2 Axes>"
      ]
     },
     "metadata": {
      "needs_background": "light"
     },
     "output_type": "display_data"
    }
   ],
   "source": [
    "ax = sns.heatmap(annotations, annot=True, cmap=sns.light_palette(\"orange\", as_cmap=True), linewidths=1)"
   ]
  },
  {
   "cell_type": "markdown",
   "metadata": {},
   "source": [
    "### IMPLEMENT: Scoring All Annotations at Once\n",
    "Let's calculate the scores of all the annotations in one step using matrix multiplication. Let's continue to us the dot scoring method\n",
    "\n",
    "<img src=\"https://github.com/udacity/deep-learning-v2-pytorch/blob/master/attention/images/scoring_functions.png?raw=true\" />\n",
    "\n",
    "To do that, we'll have to transpose `dec_hidden_state` and [matrix multiply](https://docs.scipy.org/doc/numpy/reference/generated/numpy.matmul.html) it with `annotations`."
   ]
  },
  {
   "cell_type": "code",
   "execution_count": 37,
   "metadata": {},
   "outputs": [
    {
     "data": {
      "text/plain": [
       "array([927., 397., 148., 929.])"
      ]
     },
     "execution_count": 37,
     "metadata": {},
     "output_type": "execute_result"
    }
   ],
   "source": [
    "def dot_attention_score(dec_hidden_state, annotations):\n",
    "    return np.matmul(np.transpose(dec_hidden_state), annotations)\n",
    "    \n",
    "attention_weights_raw = dot_attention_score(dec_hidden_state, annotations)\n",
    "attention_weights_raw"
   ]
  },
  {
   "cell_type": "markdown",
   "metadata": {},
   "source": [
    "Looking at these scores, can you guess which of the four vectors will get the most attention from the decoder at this time step?\n",
    "\n",
    "## Softmax\n",
    "Now that we have our scores, let's apply softmax:\n",
    "<img src=\"https://github.com/udacity/deep-learning-v2-pytorch/blob/master/attention/images/softmax.png?raw=true\" />"
   ]
  },
  {
   "cell_type": "code",
   "execution_count": 38,
   "metadata": {},
   "outputs": [
    {
     "data": {
      "text/plain": [
       "array([1.19202922e-001, 7.94715151e-232, 5.76614420e-340, 8.80797078e-001],\n",
       "      dtype=float128)"
      ]
     },
     "execution_count": 38,
     "metadata": {},
     "output_type": "execute_result"
    }
   ],
   "source": [
    "def softmax(x):\n",
    "    x = np.array(x, dtype=np.float128)\n",
    "    e_x = np.exp(x)\n",
    "    return e_x / e_x.sum(axis=0) \n",
    "\n",
    "attention_weights = softmax(attention_weights_raw)\n",
    "attention_weights"
   ]
  },
  {
   "cell_type": "markdown",
   "metadata": {},
   "source": [
    "Even when knowing which annotation will get the most focus, it's interesting to see how drastic softmax makes the end score become. The first and last annotation had the respective scores of 927 and 929. But after softmax, the attention they'll get is 0.12 and 0.88 respectively.\n",
    "\n",
    "# Applying the scores back on the annotations\n",
    "Now that we have our scores, let's multiply each annotation by its score to proceed closer to the attention context vector. This is the multiplication part of this formula (we'll tackle the summation part in the latter cells)\n",
    "\n",
    "<img src=\"https://github.com/udacity/deep-learning-v2-pytorch/blob/master/attention/images/Context_vector.png?raw=true\" />"
   ]
  },
  {
   "cell_type": "code",
   "execution_count": 39,
   "metadata": {},
   "outputs": [
    {
     "data": {
      "text/plain": [
       "array([[3.57608766e-001, 4.68881939e-230, 5.76614420e-340,\n",
       "        3.52318831e+000],\n",
       "       [1.43043506e+000, 1.58943030e-231, 2.47944200e-338,\n",
       "        2.64239123e+000],\n",
       "       [5.36413149e+000, 3.97357575e-231, 2.88307210e-339,\n",
       "        3.99001076e+001]], dtype=float128)"
      ]
     },
     "execution_count": 39,
     "metadata": {},
     "output_type": "execute_result"
    }
   ],
   "source": [
    "def apply_attention_scores(attention_weights, annotations):\n",
    "    return attention_weights * annotations\n",
    "\n",
    "applied_attention = apply_attention_scores(attention_weights, annotations)\n",
    "applied_attention"
   ]
  },
  {
   "cell_type": "markdown",
   "metadata": {},
   "source": [
    "Let's visualize how the context vector looks now that we've applied the attention scores back on it:"
   ]
  },
  {
   "cell_type": "code",
   "execution_count": 40,
   "metadata": {},
   "outputs": [
    {
     "data": {
      "image/png": "[encoded data removed]",
      "text/plain": [
       "<Figure size 432x288 with 2 Axes>"
      ]
     },
     "metadata": {
      "needs_background": "light"
     },
     "output_type": "display_data"
    }
   ],
   "source": [
    "# Let's visualize our annotations after applying attention to them\n",
    "ax = sns.heatmap(applied_attention, annot=True, cmap=sns.light_palette(\"orange\", as_cmap=True), linewidths=1)"
   ]
  },
  {
   "cell_type": "markdown",
   "metadata": {},
   "source": [
    "Contrast this with the raw annotations visualized earlier in the notebook, and we can see that the second and third annotations (columns) have been nearly wiped out. The first annotation maintains some of its value, and the fourth annotation is the most pronounced.\n",
    "\n",
    "# Calculating the Attention Context Vector\n",
    "All that remains to produce our attention context vector now is to sum up the four columns to produce a single attention context vector\n",
    "\n"
   ]
  },
  {
   "cell_type": "code",
   "execution_count": 41,
   "metadata": {},
   "outputs": [
    {
     "data": {
      "text/plain": [
       "array([ 3.88079708,  4.0728263 , 45.26423912], dtype=float128)"
      ]
     },
     "execution_count": 41,
     "metadata": {},
     "output_type": "execute_result"
    }
   ],
   "source": [
    "def calculate_attention_vector(applied_attention):\n",
    "    return np.sum(applied_attention, axis=1)\n",
    "\n",
    "attention_vector = calculate_attention_vector(applied_attention)\n",
    "attention_vector"
   ]
  },
  {
   "cell_type": "code",
   "execution_count": 42,
   "metadata": {},
   "outputs": [
    {
     "data": {
      "text/plain": [
       "<matplotlib.axes._subplots.AxesSubplot at 0x7f50cc3f7fd0>"
      ]
     },
     "execution_count": 42,
     "metadata": {},
     "output_type": "execute_result"
    },
    {
     "data": {
      "image/png": "[encoded data removed]",
      "text/plain": [
       "<Figure size 108x324 with 2 Axes>"
      ]
     },
     "metadata": {
      "needs_background": "light"
     },
     "output_type": "display_data"
    }
   ],
   "source": [
    "plt.figure(figsize=(1.5, 4.5))\n",
    "sns.heatmap(np.transpose(np.matrix(attention_vector)), annot=True, cmap=sns.light_palette(\"Blue\", as_cmap=True), linewidths=1)"
   ]
  },
  {
   "cell_type": "markdown",
   "metadata": {},
   "source": [
    "Now that we have the context vector, we can concatenate it with the hidden state and pass it through a hidden layer to produce the the result of this decoding time step.\n",
    "\n",
    "__Готовый ноутбук загрузите в эту форму: [http://bit.ly/ml_hw_2021](http://bit.ly/ml_hw_2021)__\n",
    "\n",
    "\n"
   ]
  }
 ],
 "metadata": {
  "kernelspec": {
   "display_name": "Python 3",
   "language": "python",
   "name": "python3"
  },
  "language_info": {
   "codemirror_mode": {
    "name": "ipython",
    "version": 3
   },
   "file_extension": ".py",
   "mimetype": "text/x-python",
   "name": "python",
   "nbconvert_exporter": "python",
   "pygments_lexer": "ipython3",
   "version": "3.7.3"
  }
 },
 "nbformat": 4,
 "nbformat_minor": 2
}
