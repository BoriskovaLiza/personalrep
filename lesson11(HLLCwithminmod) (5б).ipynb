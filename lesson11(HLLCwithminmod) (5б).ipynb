{
 "cells": [
  {
   "cell_type": "code",
   "execution_count": 178,
   "metadata": {},
   "outputs": [],
   "source": [
    "%matplotlib inline\n",
    "import matplotlib\n",
    "from matplotlib import pyplot \n",
    "import numpy as np\n",
    "from matplotlib import rcParams\n",
    "rcParams['font.family'] = 'serif'\n",
    "rcParams['font.size'] = 16"
   ]
  },
  {
   "cell_type": "markdown",
   "metadata": {},
   "source": [
    "### Схема HLLC для уравнений Эйлера"
   ]
  },
  {
   "cell_type": "code",
   "execution_count": 179,
   "metadata": {},
   "outputs": [],
   "source": [
    "gamma = 1.4     #Гамма, она же каппа\n",
    "#Различные формулы из гаммы\n",
    "g_m_1_over_2g = (gamma-1)/2/gamma      #g1\n",
    "g_p_1_over_2g = (gamma+1)/2/gamma      #g2\n",
    "g_m_1_over_2g_inv = 1/g_m_1_over_2g    #g3\n",
    "g_m_1_over_2_inv = 2/(gamma-1)         #g4\n",
    "g_p_1_over_2_inv = 2/(gamma+1)         #g5\n",
    "g_m_1_over_g_p_1 = (gamma-1)/(gamma+1) #g6\n",
    "g_m_1_over_2 = (gamma-1)/2             #g7\n",
    "g_m_1 = gamma-1  \n",
    "\n",
    "tol = 1e-8"
   ]
  },
  {
   "cell_type": "code",
   "execution_count": 180,
   "metadata": {},
   "outputs": [],
   "source": [
    "def sound_speed(d,p):\n",
    "    return (gamma*(p/d))**0.5"
   ]
  },
  {
   "cell_type": "code",
   "execution_count": 181,
   "metadata": {},
   "outputs": [],
   "source": [
    "def sound_speed_w(W):\n",
    "    d = W[0]\n",
    "    p = W[2]\n",
    "    return sound_speed(d,p) "
   ]
  },
  {
   "cell_type": "code",
   "execution_count": 182,
   "metadata": {},
   "outputs": [],
   "source": [
    "def guess_p(W_l,W_r,label):\n",
    "    c_l = sound_speed(W_l[0],W_l[2])\n",
    "    c_r = sound_speed(W_r[0],W_r[2])\n",
    "\n",
    "    \n",
    "    W_aver = 0.5*(W_l+W_r)\n",
    "    p_pv = W_aver[2] - 0.5*(W_r[1]-W_l[1])*W_aver[0]*0.5*(c_l+c_r)\n",
    "    p_0 = max(tol,p_pv)\n",
    "    \n",
    "    if label == 'TR':\n",
    "        return ((c_l + c_r - 0.5*g_m_1*(W_r[1] - W_l[1]))/\n",
    "                ((c_l/W_l[2]**g_m_1_over_2g) + (c_r/W_r[2]**g_m_1_over_2g) ))**g_m_1_over_2g_inv\n",
    "    \n",
    "    elif label == 'PV':\n",
    "\n",
    "        return p_0\n",
    "    \n",
    "    elif label == 'TS':\n",
    "        A_k = lambda x : g_p_1_over_2_inv/x\n",
    "        B_k = lambda x : g_m_1_over_g_p_1*x\n",
    "        p_ts = ((A_k(W_l[0])/(p_pv + B_k(W_l[2])))**0.5*W_l[2] + (A_k(W_r[0])/(p_pv + B_k(W_r[2])))**0.5*W_r[2] \\\n",
    "                - (W_r[1]-W_l[1])) /\\\n",
    "        ((A_k(W_l[0])/(p_pv + B_k(W_l[2])))**0.5 + (A_k(W_r[0])/(p_pv + B_k(W_r[2])))**0.5)  \n",
    "        return max(tol,p_ts)\n",
    "    else:\n",
    "        return W_aver[2]\n",
    "        \n",
    "        "
   ]
  },
  {
   "cell_type": "code",
   "execution_count": 183,
   "metadata": {
    "jupyter": {
     "outputs_hidden": false
    }
   },
   "outputs": [],
   "source": [
    "def init(case):\n",
    "    if case == 'sod':\n",
    "        W_l = np.array([1, 0.75, 1])\n",
    "        W_r = np.array([0.125, 0, 0.1])\n",
    "        t = 0.25\n",
    "    elif case == '123':\n",
    "        W_l = np.array([1, -2, 0.4])\n",
    "        W_r = np.array([1, 2, 0.4])\n",
    "        t = 0.15\n",
    "    elif case == 'left-woodward':\n",
    "        W_l = np.array([1, 0, 1000])\n",
    "        W_r = np.array([1, 0, 0.1])\n",
    "        \n",
    "        t = 0.012\n",
    "    else : print('Unknown case!')\n",
    "    return W_l, W_r, t"
   ]
  },
  {
   "cell_type": "code",
   "execution_count": 184,
   "metadata": {
    "jupyter": {
     "outputs_hidden": true
    }
   },
   "outputs": [],
   "source": [
    "def U_to_W(U):\n",
    "    W = np.zeros_like(U)\n",
    "    W[0] = U[0]\n",
    "    W[1] = U[1]/U[0]\n",
    "    W[2] = g_m_1*(U[2] - 0.5*U[1]**2/U[0])\n",
    "    return W"
   ]
  },
  {
   "cell_type": "code",
   "execution_count": 185,
   "metadata": {
    "jupyter": {
     "outputs_hidden": false
    }
   },
   "outputs": [],
   "source": [
    "def W_to_U(W):\n",
    "    U = np.zeros_like(W)\n",
    "    U[0] = W[0]\n",
    "    U[1] = W[1]*W[0]\n",
    "    U[2] = 0.5*W[1]**2*W[0]+W[2]/ g_m_1\n",
    "    return U\n"
   ]
  },
  {
   "cell_type": "code",
   "execution_count": 186,
   "metadata": {
    "jupyter": {
     "outputs_hidden": true
    }
   },
   "outputs": [],
   "source": [
    "def flux(W):\n",
    "    F = np.zeros_like(W)\n",
    "    F[0] = W[1]*W[0]\n",
    "    F[1] = W[1]**2*W[0] + W[2]\n",
    "    F[2] = W[1]*(0.5*W[1]**2*W[0]+W[2]/ g_m_1 + W[2])\n",
    "    return F"
   ]
  },
  {
   "cell_type": "code",
   "execution_count": 187,
   "metadata": {
    "jupyter": {
     "outputs_hidden": true
    }
   },
   "outputs": [],
   "source": [
    "def q(p,p_star):\n",
    "    if p_star > p:\n",
    "        return (1 + g_p_1_over_2g*(p_star/p - 1))**0.5\n",
    "    else :\n",
    "        return 1"
   ]
  },
  {
   "cell_type": "code",
   "execution_count": 188,
   "metadata": {
    "jupyter": {
     "outputs_hidden": true
    }
   },
   "outputs": [],
   "source": [
    "def get_speeds_hllc(W_l,W_r,p_star):\n",
    "    S_l = W_l[1] - sound_speed_w(W_l)*q(W_l[2],p_star)\n",
    "    S_r = W_r[1] + sound_speed_w(W_r)*q(W_r[2],p_star)\n",
    "    \n",
    "    S_star = (W_r[2] - W_l[2] + \\\n",
    "              W_l[0]*W_l[1]*(S_l - W_l[1]) - \\\n",
    "              W_r[0]*W_r[1]*(S_r - W_r[1]))/( W_l[0]*(S_l - W_l[1]) - \\\n",
    "              W_r[0]*(S_r - W_r[1]) )\n",
    "    return np.asarray((S_l,S_r,S_star))"
   ]
  },
  {
   "cell_type": "code",
   "execution_count": 189,
   "metadata": {},
   "outputs": [],
   "source": [
    "def get_speeds(W_l,W_r,p_star):\n",
    "    S_star = max(np.abs(W_l[1])+sound_speed_w(W_l), np.abs(W_r[1])+sound_speed_w(W_r))\n",
    "    \n",
    "    S_l = -S_star \n",
    "    S_r = S_star\n",
    "    return np.asarray((S_l,S_r,S_star))"
   ]
  },
  {
   "cell_type": "code",
   "execution_count": 190,
   "metadata": {},
   "outputs": [],
   "source": [
    "def minmod_kolgan(e, dx):\n",
    "    sigma = np.zeros_like(e)\n",
    "    for i in range(1, len(e) - 1):\n",
    "        de_minus = (e[i] - e[i-1]) / dx\n",
    "        de_plus = (e[i + 1] - e[i]) / dx\n",
    "        for j in range(3):\n",
    "            \n",
    "            if de_minus[j] > 0 and de_plus[j] > 0:\n",
    "                sigma[i,j] = min(de_minus[j], de_plus[j])\n",
    "            elif de_minus[j] < 0 and de_plus[j] < 0:\n",
    "                sigma[i,j] = max(de_minus[j], de_plus[j])\n",
    "            else:\n",
    "                sigma[i,j] = 0.0\n",
    "    return sigma"
   ]
  },
  {
   "cell_type": "code",
   "execution_count": 191,
   "metadata": {},
   "outputs": [],
   "source": [
    "def minmod_vanleer(e, dx):\n",
    "    sigma = np.zeros_like(e)\n",
    "    for i in range(1, len(e) - 1):\n",
    "        de_minus = (e[i] - e[i-1]) / dx\n",
    "        de_plus = (e[i + 1] - e[i]) / dx\n",
    "        for j in range(3):\n",
    "            \n",
    "            if de_minus[j] * de_plus[j] <= 0:\n",
    "                sigma[i,j] = 0.0\n",
    "            else:\n",
    "                sigma[i,j] = 2*de_plus[j]*de_minus[j]/(de_plus[j] + de_minus[j])\n",
    "    return sigma"
   ]
  },
  {
   "cell_type": "code",
   "execution_count": 192,
   "metadata": {
    "jupyter": {
     "outputs_hidden": true
    }
   },
   "outputs": [],
   "source": [
    "def F_HLLC(W,S_star,S):\n",
    "    D = np.asarray([0,1,S_star])\n",
    "    F_star = (S_star*(S*W_to_U(W) - flux(W)) + \\\n",
    "              S*(W[2] + W[0]*(S - W[1])*(S_star - W[1]))*D)/\\\n",
    "    (S - S_star)\n",
    "    return F_star"
   ]
  },
  {
   "cell_type": "code",
   "execution_count": 193,
   "metadata": {
    "jupyter": {
     "outputs_hidden": true
    }
   },
   "outputs": [],
   "source": [
    "def hllc_flux(W_l, W_r):\n",
    "    \n",
    "    p_star = guess_p(W_l,W_r,'TR')\n",
    "    S_l,S_r,S_star = get_speeds_hllc(W_l,W_r,p_star)\n",
    "    if 0 <= S_l:\n",
    "        return flux(W_l)\n",
    "    if S_l <= 0 <= S_star:\n",
    "        return F_HLLC(W_l,S_star,S_l)\n",
    "    if S_star <= 0 <= S_r:\n",
    "        return F_HLLC(W_r,S_star,S_r)\n",
    "    if 0 >= S_r:\n",
    "        return flux(W_r)"
   ]
  },
  {
   "cell_type": "code",
   "execution_count": 194,
   "metadata": {
    "jupyter": {
     "outputs_hidden": true
    }
   },
   "outputs": [],
   "source": [
    "N_points = 101\n",
    "x = np.linspace(0,1,N_points)\n",
    "decay_pos = 0.3\n",
    "W_correct= np.zeros((N_points,3))\n",
    "\n",
    "%store -r"
   ]
  },
  {
   "cell_type": "code",
   "execution_count": 195,
   "metadata": {
    "jupyter": {
     "outputs_hidden": true
    }
   },
   "outputs": [],
   "source": [
    "W_l,W_r,t = init('sod')"
   ]
  },
  {
   "cell_type": "code",
   "execution_count": 196,
   "metadata": {},
   "outputs": [],
   "source": [
    "#hllc kolgan limitor\n",
    "dx = 1./(N_points - 1)\n",
    "sigma = 1\n",
    "\n",
    "Wc = np.zeros((N_points,3))\n",
    "Wc[np.where(x<decay_pos),:] = W_l\n",
    "Wc[np.where(x>=decay_pos),:] = W_r\n",
    "\n",
    "Uc = np.zeros_like(Wc) "
   ]
  },
  {
   "cell_type": "code",
   "execution_count": 197,
   "metadata": {},
   "outputs": [],
   "source": [
    "t_ = 0\n",
    "#dt = 0.0002\n",
    "U_n = np.copy(Uc)\n",
    "U_n_star = np.copy(Uc)\n",
    "\n",
    "big_values = np.zeros((N_points - 1,3))\n",
    "speeds = np.zeros(N_points - 1)\n",
    "hllc_fluxes = np.zeros((N_points - 1,3))\n",
    "\n",
    "while t_<t:\n",
    "    Uc = W_to_U(Wc.T).T\n",
    "    speeds = np.zeros(N_points - 1)\n",
    "    \n",
    "    grads = minmod_kolgan(Wc,dx)\n",
    "    W_l = (Wc + grads * dx / 2.0)[:-1]\n",
    "    W_r = (Wc - grads * dx / 2.0)[1:]\n",
    "        \n",
    "    for i,x_ in enumerate(x[:-1]):\n",
    "        hllc_fluxes[i] =hllc_flux(W_l[i], W_r[i])\n",
    "        \n",
    "        c_l = sound_speed(W_l[i][0],W_l[i][2])\n",
    "        c_r = sound_speed(W_r[i][0],W_r[i][2])\n",
    "        speeds[i] = max(abs(W_l[i][1])+c_l,abs(W_r[i][1])+  c_r)\n",
    "\n",
    "    dt = sigma*dx/max(speeds)\n",
    "    U_n_star[1:-1,:] = Uc[1:-1,:] + dt/dx*(hllc_fluxes[:-1,:]-hllc_fluxes[1:,:]) \n",
    "    U_n_star[0,:] = U_n_star[1,:]\n",
    "    U_n_star[-1,:] = U_n_star[-2,:]\n",
    "    \n",
    "    W_star = U_to_W(U_n_star.T).T\n",
    "    grads = minmod_kolgan(W_star,dx)\n",
    "    W_l = (W_star + grads * dx / 2.0)[:-1]\n",
    "    W_r = (W_star - grads * dx / 2.0)[1:]\n",
    "    \n",
    "    for i,x_ in enumerate(x[:-1]):\n",
    "        hllc_fluxes[i] = hllc_flux(W_l[i],W_r[i])\n",
    "\n",
    "    U_n[1:-1,:] = 0.5*(Uc[1:-1,:] + U_n_star[1:-1,:] + dt/dx*(hllc_fluxes[:-1,:]-hllc_fluxes[1:,:]))\n",
    "    U_n[0,:] = U_n[1,:]\n",
    "    U_n[-1,:] = U_n[-2,:]\n",
    "    \n",
    "    Wc = U_to_W(U_n.T).T\n",
    "    t_=t_+dt"
   ]
  },
  {
   "cell_type": "code",
   "execution_count": 198,
   "metadata": {},
   "outputs": [],
   "source": [
    "W_l,W_r,t = init('sod')"
   ]
  },
  {
   "cell_type": "code",
   "execution_count": 199,
   "metadata": {},
   "outputs": [],
   "source": [
    "#hllc vanleer limitor\n",
    "dx = 1./(N_points - 1)\n",
    "sigma = 1\n",
    "\n",
    "Wv = np.zeros((N_points,3))\n",
    "Wv[np.where(x<decay_pos),:] = W_l\n",
    "Wv[np.where(x>=decay_pos),:] = W_r\n",
    "\n",
    "Uv = np.zeros_like(Wv) "
   ]
  },
  {
   "cell_type": "code",
   "execution_count": 200,
   "metadata": {},
   "outputs": [],
   "source": [
    "t_ = 0\n",
    "#dt = 0.0002\n",
    "U_n = np.copy(Uv)\n",
    "U_n_star = np.copy(Uv)\n",
    "\n",
    "big_values = np.zeros((N_points - 1,3))\n",
    "speeds = np.zeros(N_points - 1)\n",
    "hllc_fluxes = np.zeros((N_points - 1,3))\n",
    "\n",
    "while t_<t:\n",
    "    Uv = W_to_U(Wv.T).T\n",
    "    speeds = np.zeros(N_points - 1)\n",
    "    \n",
    "    grads = minmod_vanleer(Wv,dx)\n",
    "    W_l = (Wv + grads * dx / 2.0)[:-1]\n",
    "    W_r = (Wv - grads * dx / 2.0)[1:]\n",
    "    \n",
    "    for i,x_ in enumerate(x[:-1]):\n",
    "        hllc_fluxes[i] =hllc_flux(W_l[i], W_r[i])\n",
    "        c_l = sound_speed(W_l[i][0],W_l[i][2])\n",
    "        c_r = sound_speed(W_r[i][0],W_r[i][2])\n",
    "        speeds[i] = max(abs(W_l[i][1])+c_l,abs(W_r[i][1])+  c_r)\n",
    "\n",
    "    dt = sigma*dx/max(speeds)\n",
    "    U_n_star[1:-1,:] = Uv[1:-1,:] + dt/dx*(hllc_fluxes[:-1,:]-hllc_fluxes[1:,:]) \n",
    "    U_n_star[0,:] = U_n_star[1,:]\n",
    "    U_n_star[-1,:] = U_n_star[-2,:]\n",
    "    \n",
    "    W_star = U_to_W(U_n_star.T).T\n",
    "    grads = minmod_vanleer(W_star,dx)\n",
    "    W_l = (W_star + grads * dx / 2.0)[:-1]\n",
    "    W_r = (W_star - grads * dx / 2.0)[1:]\n",
    "    \n",
    "    for i,x_ in enumerate(x[:-1]):\n",
    "        hllc_fluxes[i] = hllc_flux(W_l[i],W_r[i])\n",
    "\n",
    "    U_n[1:-1,:] = 0.5*(Uv[1:-1,:] + U_n_star[1:-1,:] + dt/dx*(hllc_fluxes[:-1,:]-hllc_fluxes[1:,:]))\n",
    "    U_n[0,:] = U_n[1,:]\n",
    "    U_n[-1,:] = U_n[-2,:]\n",
    "    \n",
    "    Wv = U_to_W(U_n.T).T\n",
    "    t_=t_+dt"
   ]
  },
  {
   "cell_type": "code",
   "execution_count": 201,
   "metadata": {
    "jupyter": {
     "outputs_hidden": false
    }
   },
   "outputs": [
    {
     "data": {
      "image/png": "[encoded data removed]",
      "text/plain": [
       "<Figure size 1296x432 with 3 Axes>"
      ]
     },
     "metadata": {
      "needs_background": "light"
     },
     "output_type": "display_data"
    }
   ],
   "source": [
    "fig,axs = pyplot.subplots(1,3,figsize=(18,6)\n",
    "                         )\n",
    "for ax, Wc_, Wv_, W_c, y_label in zip(axs, Wc.T, Wv.T, W_correct.T, (r'$\\rho$',r'$u$',r'$p$') ):\n",
    "    ax.plot(x,Wc_,'o',label='kolgan')\n",
    "    ax.plot(x, Wv_, 'o', label='van leer')\n",
    "    ax.plot(x,W_c,label='Exact')\n",
    "    ax.set_ylabel(y_label)\n",
    "    ax.set_xlabel('x')\n",
    "    scale_y = 1.1*abs(max(W_c)-min(W_c))\n",
    "    ax.set_ylim(0.5*(max(W_c)+min(W_c) - scale_y), 0.5*(max(W_c)+min(W_c) + scale_y))\n",
    "    ax.legend(loc='best')\n",
    "    ax.grid()"
   ]
  },
  {
   "cell_type": "code",
   "execution_count": null,
   "metadata": {},
   "outputs": [],
   "source": []
  }
 ],
 "metadata": {
  "anaconda-cloud": {},
  "kernelspec": {
   "display_name": "Python 3",
   "language": "python",
   "name": "python3"
  },
  "language_info": {
   "codemirror_mode": {
    "name": "ipython",
    "version": 3
   },
   "file_extension": ".py",
   "mimetype": "text/x-python",
   "name": "python",
   "nbconvert_exporter": "python",
   "pygments_lexer": "ipython3",
   "version": "3.7.3"
  }
 },
 "nbformat": 4,
 "nbformat_minor": 4
}
