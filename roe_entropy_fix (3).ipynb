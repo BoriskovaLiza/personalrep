{
 "cells": [
  {
   "cell_type": "code",
   "execution_count": 1,
   "metadata": {},
   "outputs": [],
   "source": [
    "%matplotlib inline\n",
    "import matplotlib\n",
    "from matplotlib import pyplot \n",
    "import numpy as np\n",
    "from matplotlib import rcParams\n",
    "rcParams['font.family'] = 'serif'\n",
    "rcParams['font.size'] = 16"
   ]
  },
  {
   "cell_type": "markdown",
   "metadata": {},
   "source": [
    "# Энтропийная коррекция для метода Роу"
   ]
  },
  {
   "cell_type": "markdown",
   "metadata": {},
   "source": [
    "В решение линеаризованной задачи Римана присутствуют только скачки. Оно неплохо описывает скачок уплотнения и контактный разрыв, в то время как волну разрежения, когда вдоль протяженной области параметры изменеяются непрерывно, сложно представить как линию разрыва, где параметры меняются скачообразно. Это особенно заметно в случае трансзвуковой волны разрежения, которая в линеаризованном виде превращается в *скачок разрежения*, существование которого противоречит второму началу термодинамики."
   ]
  },
  {
   "cell_type": "markdown",
   "metadata": {},
   "source": [
    "Структура волн, соответсвующая точному решению задачи Сода, представлена на рисунке.\n",
    "\n",
    "![Левая трансзвуковая волна разрежения](./figures/left_transonic_rar_wave.png)\n",
    "\n",
    "Она содержит левую _трансзвуковую_ волну разрежения, контактный разрыв и правый скачок уплотнения. Вдоль левой волны разрежения собтвенное число $\\lambda_1 = u-a$ меняет знак при движении слева напрво. Значит, есть точка, где $\\lambda_1 = u- a=0$ и выполняется условие $u=a$."
   ]
  },
  {
   "cell_type": "markdown",
   "metadata": {},
   "source": [
    "Скорость _головы_ волны разрежения определяется по параметрам слева\n",
    "\n",
    "$$\n",
    "\\lambda_1^L(\\mathbf{U}_L) = S_{HL} = u_L - a_L \\lt 0,\n",
    "$$\n",
    "\n",
    "а скорость _хвоста_ — по параметрам в зоне со хвехдочкой:\n",
    "\n",
    "$$\n",
    "\\lambda_1^R(\\mathbf{U}_{*L}) = S_{HL} = u_{*} - a_{* L} \\gt 0.\n",
    "$$"
   ]
  },
  {
   "cell_type": "markdown",
   "metadata": {},
   "source": [
    "Предположим, что величины $u_*$ и $a_{*L}$ нам известны. Элементарный скачок начальных условий\n",
    "\n",
    "\n",
    "$$\\mathbf{U}_{*L} - \\mathbf{U}_{L} = \\tilde{\\alpha_1}\\tilde{\\mathbf{K}}^{(1)},$$\n",
    "\n",
    "движущийся со скоростью $\\tilde{\\lambda}_1$ разделяется на два скачка поменьше: $\\mathbf{U}_{SL} - \\mathbf{U}_{L}$ и $\\mathbf{U}_{*L} - \\mathbf{U}_{SL}$, которые движутся со скоростями $\\lambda_1^L$ и $\\lambda_1^R$. $\\mathbf{U}_{SL}$ – трансзвуковое решение, которое нужно найти.\n",
    "\n",
    "![Энтропийная коррекция](./figures/entropy_fix.png)"
   ]
  },
  {
   "cell_type": "markdown",
   "metadata": {},
   "source": [
    "Если записать интегральный закон сохранения, получим соотношение\n",
    "\n",
    "$$\n",
    "\\lambda_1^R(\\mathbf{U}_{SL} - U_{*L}) + \\lambda_1^L(\\mathbf{U}_{L} - U_{SL}) = \\tilde{\\lambda}_1^R(\\mathbf{U}_{L} - \\mathbf{U}_{*L}),\n",
    "$$\n",
    "\n",
    "из которого можно выразить $\\mathbf{U}_{SL}$:\n",
    "\n",
    "$$\n",
    "\\mathbf{U}_{SL} = \\frac{(\\tilde{\\lambda}_1 - \\lambda_1^L)\\mathbf{U}_{L} + (\\lambda_1^R - \\tilde{\\lambda}_1)\\mathbf{U}_{*L} }{\\lambda_1^R - \\lambda_1^L}\n",
    "$$"
   ]
  },
  {
   "cell_type": "markdown",
   "metadata": {},
   "source": [
    "Для расчета потока по формуле\n",
    "\n",
    "$$\n",
    "\\mathbf{F}_{i+\\frac{1}{2}} = \\mathbf{F}_L + \\sum_{\\tilde{\\lambda}_i\\le0} \\tilde{\\lambda}_i \\tilde{\\alpha}_i  \\tilde{\\mathbf{K}^{(i)}},\n",
    "$$\n",
    "\n",
    "в сумме будет только одно слагаемое, соответсвующее скачку $\\mathbf{U}_{SL} - \\mathbf{U}_{L}$ и скорости $\\lambda_1^L \\lt 0$.\n",
    "\n",
    "Поскольку \n",
    "\n",
    "$$\n",
    "\\mathbf{U}_{SL} - \\mathbf{U}_{L} = \\frac{\\lambda_1^R - \\tilde{\\lambda}_1}{{\\lambda_1^R - \\lambda_1^L}}(\\mathbf{U}_{*L} - \\mathbf{U}_{L}),\n",
    "$$\n",
    "\n",
    "а с другой стороны\n",
    "\n",
    "$$\\mathbf{U}_{*L} - \\mathbf{U}_{L} = \\tilde{\\alpha_1}\\tilde{\\mathbf{K}}^{(1)},$$\n",
    "\n",
    "то соответвствующее волне $\\lambda_1^L$ изменение потока $\\mathbf{\\Delta F}_1^L$ можно записать в виде\n",
    "\n",
    "$$\n",
    "\\mathbf{\\Delta F}_1^L = \\lambda_1^L \\left( \\frac{\\lambda_1^R - \\tilde{\\lambda}_1}{{\\lambda_1^R - \\lambda_1^L}}\\right)\\tilde{\\alpha}_i\\tilde{\\mathbf{K}^{(1)}}\n",
    "$$"
   ]
  },
  {
   "cell_type": "markdown",
   "metadata": {},
   "source": [
    "Таким образом, введя новую, поправленную, скорость распространения волны\n",
    "\n",
    "$$\n",
    "\\overline{\\lambda}_1 = \\lambda_1^L \\left( \\frac{\\lambda_1^R - \\tilde{\\lambda}_1}{{\\lambda_1^R - \\lambda_1^L}}\\right),\n",
    "$$\n",
    "\n",
    "поток на грани ячейки снова можно записать в привычном виде:\n",
    "\n",
    "$$\n",
    "\\mathbf{F}_{i+\\frac{1}{2}} = \\mathbf{F}_L + \\overline{\\lambda}_1 \\tilde{\\alpha}_1 \\tilde{\\mathbf{K}^{(1)}}.\n",
    "$$\n"
   ]
  },
  {
   "cell_type": "markdown",
   "metadata": {},
   "source": [
    "В случае правой волны разрежения можно получить аналогичные формулы:\n",
    "\n",
    "* Скорости хвоста и головы волны разрежения:\n",
    "\n",
    "$$\n",
    "\\lambda_3^L = u_*+a_{*R}, \\ \\lambda_3^R = u_R+a_{R}\n",
    "$$\n",
    "\n",
    "если $\\lambda_3^L \\lt 0 \\lt \\lambda_3^R$, то волна трансзвуковая, и нужно вводить поправку.\n",
    "* Поправленная скорость распространения волны:\n",
    "\n",
    "$$\n",
    "\\overline{\\lambda}_3 = \\lambda_3^R \\left( \\frac{\\tilde{\\lambda}_3 - \\lambda_3^L }{{\\lambda_3^R - \\lambda_3^L}}\\right),\n",
    "$$\n",
    "\n",
    "* Поток на грани ячейки :\n",
    "\n",
    "$$\n",
    "\\mathbf{F}_{i+\\frac{1}{2}} = \\mathbf{F}_R - \\overline{\\lambda}_3 \\tilde{\\alpha}_3 \\tilde{\\mathbf{K}^{(3)}}.\n",
    "$$"
   ]
  },
  {
   "cell_type": "markdown",
   "metadata": {},
   "source": [
    "## Откуда брать скорости?"
   ]
  },
  {
   "cell_type": "markdown",
   "metadata": {},
   "source": [
    "Для того чтобы определить $u_∗, a_{∗L}, a_{∗R}$ и скоростии волн $\\overline{\\lambda}_1$ и $\\overline{\\lambda}_3$, необходимы параметры в зоне со звездочкой, например, $\\mathbf{U}_{*L}$ и $\\mathbf{U}_{*R}$. Это можно сделать разными способами. Для удобства, функции, созданные для реализации метода Роу, помещены во внешний файл `roe.py`. Чтобы воспользоваться ими в этом ноутбуке, подгорузим файл при помощи \"магической\" комманды\n",
    "\n",
    "```\n",
    "%run roe.py\n",
    "```"
   ]
  },
  {
   "cell_type": "code",
   "execution_count": 2,
   "metadata": {},
   "outputs": [],
   "source": [
    "%run roe.py"
   ]
  },
  {
   "cell_type": "markdown",
   "metadata": {},
   "source": [
    "### Готовые значения из метода Роу\n",
    "\n",
    "Вообще говоря, если у нас реализован метод Роу для решения задачи Римана, то все необходимые данные уже присутсвуют. Поскольку уже вычислены собственные значения и собственные векторы $\\tilde{\\alpha}_i$ и $\\tilde{\\mathbf{K}}^{(i)}$, для левой волны можно записать: \n",
    "\n",
    "$$\\mathbf{U}_{*L} = \\mathbf{U}_{L} + \\tilde{\\alpha_1}\\tilde{\\mathbf{K}}^{(1)},$$\n",
    "\n",
    "а для правой:\n",
    "\n",
    "$$\\mathbf{U}_{*R} = \\mathbf{U}_{R} - \\tilde{\\alpha_3}\\tilde{\\mathbf{K}}^{(3)},$$\n",
    "\n",
    "\n",
    "что позволить вычислить примитивные переменные и скорости звука $a_{∗L} = \\sqrt{\\frac{\\gamma p_∗}{ρ_{∗L}}}$ и $a_{∗R} = \\sqrt{\\frac{\\gamma p_∗}{ρ_{∗R}}}$\n",
    "\n",
    "\n"
   ]
  },
  {
   "cell_type": "code",
   "execution_count": 3,
   "metadata": {},
   "outputs": [],
   "source": [
    "def RAS(Wl,Wr):\n",
    "    #расщепление волны разряжения\n",
    "    cl = sound_speed(Wl)\n",
    "    cr = sound_speed(Wr)\n",
    "    \n",
    "    averages = roe_average(Wl,Wr)\n",
    "    lambdas = roe_eigen_values(averages)\n",
    "    K = roe_eigen_vectors(averages)\n",
    "    alphas = alfas(W_to_U(Wr) - W_to_U(Wl), averages)\n",
    "    \n",
    "    \n",
    "    UL_star = W_to_U(Wl) + alphas[0]*K[0]\n",
    "    WL_star = U_to_W(UL_star)\n",
    "    cl_star = sound_speed(WL_star)\n",
    "    u_l_star = WL_star[1]\n",
    "    \n",
    "    UR_star = W_to_U(Wr) - alphas[2]*K[2]\n",
    "    WR_star = U_to_W(UR_star)\n",
    "    cr_star = sound_speed(WR_star)\n",
    "    u_r_star = WR_star[1]\n",
    "    \n",
    "   \n",
    "    return {'left':np.array([cl_star,u_l_star]),\n",
    "           'right':np.array([cr_star,u_r_star])}\n",
    "    "
   ]
  },
  {
   "cell_type": "markdown",
   "metadata": {},
   "source": [
    "### Решение для двух волн разрежения\n",
    "\n",
    "Другой вариант — воспользоваться каким-либо из точных решений, считая что конфигурация волн нам изветсна. Например, для случая двух волн разрежения можно сразу выписать значение давления в зоне со звездой:\n",
    "\n",
    "$$\n",
    "p_* = \\left[\\frac{a_L+a_R - \\frac{\\gamma-1}{2}(u_R - u_L)}{a_L/p_L^z + a_R/p_R^z} \\right]^\\frac{1}{2},\n",
    "$$\n",
    "\n",
    "где $z = \\frac{\\gamma-1}{2\\gamma}$. Искомые значения скростей звука и скоростей газа для левой и правой волны получатся по изоэнтропическим формулам:\n",
    "\n",
    "$$\n",
    "a_{*L} = a_{L}(p_*/p_L)^z,\\ u_* = u_L + \\frac{2}{(\\gamma - 1)}(a_L - a_{*L})\n",
    "$$\n",
    "\n",
    "и\n",
    "\n",
    "$$\n",
    "a_{*R} = a_{R}(p_*/p_R)^z,\\ u_* = u_R + \\frac{2}{(\\gamma - 1)}(a_{*R} - a_R )\n",
    "$$"
   ]
  },
  {
   "cell_type": "code",
   "execution_count": 4,
   "metadata": {},
   "outputs": [],
   "source": [
    "def TRRS(Wl,Wr):\n",
    "    cl = sound_speed(Wl)\n",
    "    cr = sound_speed(Wr)\n",
    "    p_star = ((cl + cr - 0.5*g_m_1*(Wr[1] - Wl[1]))/\n",
    "                ((cl/Wl[2]**g_m_1_over_2g) + (cr/Wr[2]**g_m_1_over_2g) ))**g_m_1_over_2g_inv\n",
    "    cl_star = cl*(p_star/Wl[2])**g_m_1_over_2g\n",
    "    u_l_star = Wl[1] + 2/g_m_1 *(cl - cl_star)\n",
    "    cr_star = cr*(p_star/Wr[2])**g_m_1_over_2g\n",
    "    u_r_star = Wr[1] + 2/g_m_1 *(cr - cr_star)\n",
    "    return {'left':np.array([cl_star,u_l_star]),\n",
    "           'right':np.array([cr_star,u_r_star])}\n",
    "    "
   ]
  },
  {
   "cell_type": "markdown",
   "metadata": {},
   "source": [
    "Собственно, ради чего все затевалось – нужно подправить функцию вычисления потоков Роу. Нужно выяснить, выполняется ли условие трансзвуковой волны разрежения для правой или левой волны. Если выполняется – вычислить поток по соответсвующей формуле с подправленными скоростями волн, если нет – вычислить значение потока на грани по исходной формуле для потока."
   ]
  },
  {
   "cell_type": "code",
   "execution_count": 5,
   "metadata": {},
   "outputs": [],
   "source": [
    "def roe_flux_fix(Wl,Wr):\n",
    "    #энтропийная коррекция!\n",
    "    \n",
    "    Fl,Fr = flux(Wl),flux(Wr)\n",
    "    averages = roe_average(Wl,Wr)\n",
    "    lambdas = roe_eigen_values(averages)\n",
    "    K = roe_eigen_vectors(averages)\n",
    "    alphas = alfas(W_to_U(Wr) - W_to_U(Wl), averages)\n",
    "    \n",
    "    #cl_star,ul_star = TRRS(Wl,Wr)['left']\n",
    "    #cr_star,ur_star = TRRS(Wl,Wr)['right']\n",
    "    \n",
    "    cl_star,ul_star = RAS(Wl,Wr)['left']\n",
    "        #волна слева, скачок справа\n",
    "    cr_star,ur_star = RAS(Wl,Wr)['right']\n",
    "        #волна справа, расщепляем ее\n",
    "    \n",
    "    lambda_0_l = Wl[1] - sound_speed(Wl)\n",
    "    lambda_0_r = ul_star - cl_star\n",
    "    \n",
    "    if lambda_0_l < 0 < lambda_0_r:    #тогда по левым формулам\n",
    "        lambda_0_fix = lambda_0_l*((lambda_0_r - lambdas[0])/(lambda_0_r - lambda_0_l))\n",
    "        roe_flux = Fl + lambda_0_fix*alphas[0]*K[0]\n",
    "        return roe_flux\n",
    "    \n",
    "    lambda_2_r = Wr[1] + sound_speed(Wr)\n",
    "    lambda_2_l = ur_star + cr_star\n",
    "    \n",
    "    if lambda_2_l < 0 < lambda_2_r:     #поток по правым формулам\n",
    "        lambda_2_fix = lambda_2_r*((lambdas[2] - lambda_2_l)/(lambda_2_r - lambda_2_l))\n",
    "        roe_flux = Fr - lambda_2_fix*alphas[2]*K[2]\n",
    "        return roe_flux\n",
    "    \n",
    "    roe_flux = 0.5*(Fl + Fr - np.dot(alphas*abs(lambdas),K)) #поток по стандартным формулам\n",
    "    return roe_flux"
   ]
  },
  {
   "cell_type": "markdown",
   "metadata": {},
   "source": [
    "Проверяем, что получилось"
   ]
  },
  {
   "cell_type": "code",
   "execution_count": 6,
   "metadata": {},
   "outputs": [],
   "source": [
    "def init(case):\n",
    "    if case == 'sod':\n",
    "        W_l = np.array([1, 0.75, 1])\n",
    "        W_r = np.array([0.125, 0, 0.1])\n",
    "        t = 0.25\n",
    "    elif case == '123':\n",
    "        W_l = np.array([1, -2, 0.4])\n",
    "        W_r = np.array([1, 2, 0.4])\n",
    "        t = 0.15\n",
    "    elif case == 'left-woodward':\n",
    "        W_l = np.array([1, 0, 1000])\n",
    "        W_r = np.array([1, 0, 0.1])\n",
    "        \n",
    "        t = 0.012\n",
    "    else : print('Unknown case!')\n",
    "    return W_l, W_r, t"
   ]
  },
  {
   "cell_type": "code",
   "execution_count": 7,
   "metadata": {},
   "outputs": [],
   "source": [
    "N_points = 101\n",
    "x = np.linspace(0,1,N_points)\n",
    "decay_pos = 0.3\n",
    "W_correct= np.zeros((N_points,3))"
   ]
  },
  {
   "cell_type": "code",
   "execution_count": 8,
   "metadata": {},
   "outputs": [],
   "source": [
    "dx = 1./(N_points - 1)\n",
    "sigma = 0.9\n",
    "\n",
    "W = np.zeros((N_points,3))\n",
    "fluxes = np.zeros((N_points - 1,3))\n",
    "U = np.zeros_like(W) "
   ]
  },
  {
   "cell_type": "code",
   "execution_count": 9,
   "metadata": {},
   "outputs": [],
   "source": [
    "W_l,W_r,t = init('sod')\n",
    "W[np.where(x<decay_pos),:] = W_l\n",
    "W[np.where(x>=decay_pos),:] = W_r"
   ]
  },
  {
   "cell_type": "code",
   "execution_count": 10,
   "metadata": {},
   "outputs": [],
   "source": [
    "t_ = 0\n",
    "#dt = 0.0002\n",
    "U_n = np.copy(U)\n",
    "while t_<t:\n",
    "    U = W_to_U(W.T).T\n",
    "    roe_fluxes = np.zeros((N_points - 1,3))\n",
    "    speeds = np.zeros(N_points - 1)\n",
    "    for i,x_ in enumerate(x[:-1]):\n",
    "        \n",
    "        roe_fluxes[i] =roe_flux_fix(W[i],W[i+1])\n",
    "        c_l = sound_speed(W[i])\n",
    "        c_r = sound_speed(W[i+1])\n",
    "        speeds[i] = max(abs(W[i][1])+c_l,abs(W[i+1][1])+  c_r)\n",
    "\n",
    "    \n",
    "    dt = sigma*dx/max(speeds)\n",
    "    U_n[1:-1,:] = U[1:-1,:] + dt/dx*(roe_fluxes[:-1,:]-roe_fluxes[1:,:]) \n",
    "    U_n[0,:] = U_n[1,:]\n",
    "    U_n[-1,:] = U_n[-2,:]\n",
    "    W = U_to_W(U_n.T).T\n",
    "    t_=t_+dt"
   ]
  },
  {
   "cell_type": "code",
   "execution_count": 11,
   "metadata": {},
   "outputs": [],
   "source": [
    "%store -r"
   ]
  },
  {
   "cell_type": "code",
   "execution_count": 12,
   "metadata": {},
   "outputs": [
    {
     "data": {
      "image/png": "[encoded data removed]",
      "text/plain": [
       "<Figure size 1296x432 with 3 Axes>"
      ]
     },
     "metadata": {
      "needs_background": "light"
     },
     "output_type": "display_data"
    }
   ],
   "source": [
    "fig,axs = pyplot.subplots(1,3,figsize=(18,6) )\n",
    "\n",
    "for ax, W_,  W_c, y_label in zip(axs, W.T, W_correct.T, (r'$\\rho$',r'$u$',r'$p$') ):\n",
    "    ax.plot(x,W_,'o',label='Roe')\n",
    "  #  ax.plot(x,W_g_,'o',label='Godunov')\n",
    "    ax.plot(x,W_c,label='Exact')\n",
    "    ax.set_ylabel(y_label)\n",
    "    ax.set_xlabel('x')\n",
    "    scale_y = 1.1*abs(max(W_c)-min(W_c))\n",
    "    ax.set_ylim(0.5*(max(W_c)+min(W_c) - scale_y), 0.5*(max(W_c)+min(W_c) + scale_y))\n",
    "    ax.legend(loc='best')\n",
    "    ax.grid()\n",
    "    "
   ]
  },
  {
   "cell_type": "markdown",
   "metadata": {},
   "source": [
    "Как видно, коррекции работают, на волне разрежения пропал разрыв. Как обстоит дело с другими тестами?"
   ]
  },
  {
   "cell_type": "code",
   "execution_count": 13,
   "metadata": {},
   "outputs": [
    {
     "name": "stdout",
     "output_type": "stream",
     "text": [
      "Stored 'W_roe' (ndarray)\n"
     ]
    }
   ],
   "source": [
    "W_roe = np.copy(W)\n",
    "%store W_roe"
   ]
  },
  {
   "cell_type": "code",
   "execution_count": null,
   "metadata": {},
   "outputs": [],
   "source": []
  }
 ],
 "metadata": {
  "kernelspec": {
   "display_name": "Python 3",
   "language": "python",
   "name": "python3"
  },
  "language_info": {
   "codemirror_mode": {
    "name": "ipython",
    "version": 3
   },
   "file_extension": ".py",
   "mimetype": "text/x-python",
   "name": "python",
   "nbconvert_exporter": "python",
   "pygments_lexer": "ipython3",
   "version": "3.7.3"
  }
 },
 "nbformat": 4,
 "nbformat_minor": 4
}
