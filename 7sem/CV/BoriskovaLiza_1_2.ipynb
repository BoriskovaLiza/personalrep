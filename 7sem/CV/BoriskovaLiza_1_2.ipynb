{
 "cells": [
  {
   "cell_type": "code",
   "execution_count": 190,
   "metadata": {},
   "outputs": [],
   "source": [
    "import cv2\n",
    "import numpy as np\n",
    "\n",
    "import matplotlib.pyplot as plt\n",
    "%matplotlib inline"
   ]
  },
  {
   "cell_type": "code",
   "execution_count": 411,
   "metadata": {},
   "outputs": [],
   "source": [
    "def plot_one_image(image: np.ndarray) -> None:\n",
    "    fig, axs = plt.subplots(1, 1, figsize=(10, 8))\n",
    "    \n",
    "    axs.imshow(image)\n",
    "    axs.axis('off')\n",
    "    plt.plot()"
   ]
  },
  {
   "cell_type": "markdown",
   "metadata": {},
   "source": [
    "### Task 2"
   ]
  },
  {
   "cell_type": "code",
   "execution_count": 412,
   "metadata": {},
   "outputs": [
    {
     "data": {
      "image/png": "[encoded data removed]",
      "text/plain": [
       "<Figure size 720x576 with 1 Axes>"
      ]
     },
     "metadata": {
      "needs_background": "light"
     },
     "output_type": "display_data"
    }
   ],
   "source": [
    "test_image = cv2.imread('task_2/image_01.jpg')\n",
    "test_image = cv2.cvtColor(test_image, cv2.COLOR_BGR2RGB)\n",
    "plot_one_image(test_image)"
   ]
  },
  {
   "cell_type": "code",
   "execution_count": 413,
   "metadata": {},
   "outputs": [],
   "source": [
    "def what_is(pix):\n",
    "    if pix[0] > 220 and pix[1] < 180 and pix[2] < 180:\n",
    "        return 1 #red obstacle\n",
    "    \n",
    "    if pix[2] > 220 and pix[1] < 150 and pix[0] < 100:\n",
    "        return 2 #blue car\n",
    "    \n",
    "    if int(pix[0]) - int(pix[2]) > 50:\n",
    "        return 3 #yellow border\n",
    "\n",
    "    if np.sum(pix) < 30:\n",
    "        return 4 #black line\n",
    "    \n",
    "    if np.sum(pix)//3 <= 220 and np.sum(pix)//3 >= 200:\n",
    "        return 0 #grey road [213, 213, 213]\n",
    "    return -1 #unknown color\n",
    "\n",
    "def find_road_number(image):\n",
    "    #determining roads\n",
    "    roads = []\n",
    "    on_road = False\n",
    "    for i in range(image.shape[0]):\n",
    "        if on_road and what_is(image[0][i]) == 3:\n",
    "            roads.append(i)\n",
    "            on_road = False\n",
    "        if not on_road and what_is(image[0][i]) == 0:\n",
    "            roads.append(i)\n",
    "            on_road = True\n",
    "\n",
    "    roads_number = len(roads)//2\n",
    "    meancolor = np.zeros((3), dtype=int)\n",
    "    roads_objects = np.zeros((roads_number,2))\n",
    "    \n",
    "    #searching for objects on roads\n",
    "    for i in range(roads_number):\n",
    "        center_y = (roads[2*i+1] + roads[2*i])//2\n",
    "        for j in range(10,image.shape[0]-10):\n",
    "            for k in range(3):\n",
    "                b = int(image[j-10:j+10, center_y][:, k].sum()/20)\n",
    "                if b >= 255: \n",
    "                    meancolor[k] = 255\n",
    "                else:\n",
    "                    meancolor[k] = b\n",
    "            if what_is(meancolor) > 0:\n",
    "                roads_objects[i, what_is(meancolor)-1] = 1\n",
    "    \n",
    "    #choosing an empty road\n",
    "    for i in range(roads_number):\n",
    "        if np.all(roads_objects[i] == [0, 1]):\n",
    "            return i #current road is clear\n",
    "        if np.all(road == [1, 1]):\n",
    "            break #current road is not clear\n",
    "    \n",
    "    for j in range(roads_number):\n",
    "        if np.all(roads_objects[j] == [0, 0]): return j #a clear road\n",
    "    return -1 #no clear roads found"
   ]
  },
  {
   "cell_type": "code",
   "execution_count": 414,
   "metadata": {},
   "outputs": [
    {
     "name": "stdout",
     "output_type": "stream",
     "text": [
      "Нужно перестроиться на дорогу номер 3\n"
     ]
    }
   ],
   "source": [
    "road_number = find_road_number(test_image)\n",
    "print(f'Нужно перестроиться на дорогу номер {road_number}')"
   ]
  }
 ],
 "metadata": {
  "kernelspec": {
   "display_name": "Python 3",
   "language": "python",
   "name": "python3"
  },
  "language_info": {
   "codemirror_mode": {
    "name": "ipython",
    "version": 3
   },
   "file_extension": ".py",
   "mimetype": "text/x-python",
   "name": "python",
   "nbconvert_exporter": "python",
   "pygments_lexer": "ipython3",
   "version": "3.7.3"
  }
 },
 "nbformat": 4,
 "nbformat_minor": 2
}
