{
 "cells": [
  {
   "cell_type": "markdown",
   "metadata": {},
   "source": [
    "# Homework 7"
   ]
  },
  {
   "cell_type": "markdown",
   "metadata": {},
   "source": [
    "# Задача №1 - Можете ли вы отличить сорняки от рассады (v2)?\n",
    "\n",
    "Усоврешенствуем подход решения задачи из домашней работы №6 следующим образом. На предыдущих парах мы проделали первые шаги в области машинного обучения: изучили понятия метрик, обучения, валидации, алгоритмы knn и линейных моделей. Закрепим все эти моменты на примере решения задачи мульти-классификации.\n",
    "\n",
    "На занятиях мы отметили, что модели машинного обучения из некоторых признаков $X$ и меток к ним (зависимости) $y$ пытаемся восстановить такую функцию $f: f(X) = y$. Из предыдущих лекций по CV мы научились выделять признаки изобразений, то есть строить множество $X$. Теперь займемся построением функции $f$ с помощью методов машинного обучения."
   ]
  },
  {
   "cell_type": "markdown",
   "metadata": {},
   "source": [
    "Исходные изображения возьмите из соревнования на площадке [Kaggle](https://www.kaggle.com/c/plant-seedlings-classification/overview) \n",
    "\n",
    "Для нашего задания выделим только 4 класса:\n",
    "- Loose Silky-bent\n",
    "- Maize\n",
    "- Scentless Mayweed\n",
    "- Small-flowered Cranesbill\n",
    "\n",
    "Примеры изображений для теста:\n",
    "<table><tr>\n",
    "    <td> <img src=\"https://i.ibb.co/tbqR37m/fhj.png\" alt=\"Drawing\" style=\"width: 200px;\"/> </td>\n",
    "    <td> <img src=\"https://i.ibb.co/6yL3Wmt/sfg.png\" alt=\"Drawing\" style=\"width: 200px;\"/> </td>\n",
    "    <td> <img src=\"https://i.ibb.co/pvn7NvF/asd.png\" alt=\"Drawing\" style=\"width: 200px;\"/> </td>\n",
    "</tr></table>\n",
    "\n",
    "Итоговое решение сделать по аналогии с sample_submission.csv, которое есть в исходных данных на площадке Kaggle. Ваше решение будет оцениваться  только на тех изображениях, которые действительно принадлежат к выделенным классам выше. Это уже забота проверяющего.\n",
    "\n",
    "## В итоге вы должны предоставить ноутбук с решением и sample_submission.csv с ответом "
   ]
  },
  {
   "cell_type": "markdown",
   "metadata": {},
   "source": [
    "# Подготовка данных\n",
    "\n",
    "Вопспользуйтесь наработками для решения домашней работы №5 и сгенерируйте вектор признаков для обучащей выборки и создайте набор признаков $X$. Если ваш алгоритм вычислительно сложный и долго формирует признаки, вы можете их сохранить и приложить к ответу (код с генерацией этих признаков также должен быть приложен в ноутбуке или отдельном файле). "
   ]
  },
  {
   "cell_type": "code",
   "execution_count": 69,
   "metadata": {},
   "outputs": [],
   "source": [
    "import numpy as np\n",
    "import torch\n",
    "import os\n",
    "import cv2\n",
    "\n",
    "from PIL import Image\n",
    "from pathlib import Path\n",
    "\n",
    "from matplotlib import pyplot as plt\n",
    "%matplotlib inline\n",
    "\n",
    "TRAIN_DIR = Path('./../../../plants/train')\n",
    "TEST_DIR = Path('./../../../plants/test')\n",
    "\n",
    "train_files = sorted(list(TRAIN_DIR.rglob('*.png')))\n",
    "test_files = sorted(list(TEST_DIR.rglob('*.png')))\n",
    "\n",
    "classes = ['Maize', 'Scentless Mayweed', 'Small-flowered Cranesbill', 'Loose Silky-bent']\n",
    "y_test = [3,3,0,0,3,3,3,2,0,3,0,0,3,2,1,2,1,2,3,2,1,1,2,0,2,1,1,0,2,2,3,1,3,3,0,1,2,1,0,0]"
   ]
  },
  {
   "cell_type": "code",
   "execution_count": 17,
   "metadata": {},
   "outputs": [],
   "source": [
    "def get_characteristics(image, threshold=120):\n",
    "    x = []\n",
    "    \n",
    "    gray = cv2.cvtColor(image, cv2.COLOR_RGB2GRAY)\n",
    "    mask = np.zeros_like(gray)\n",
    "    \n",
    "    for i in range(mask.shape[0]):\n",
    "        for j in range(mask.shape[1]):\n",
    "            if image[i,j,1] - 8 >= image[i,j,0] and\\\n",
    "                np.all(image[i,j] < threshold):\n",
    "                mask[i,j] = 255\n",
    "            else:\n",
    "                image[i,j,:] = 0\n",
    "                \n",
    "    mask = cv2.morphologyEx(mask, cv2.MORPH_OPEN, np.ones((5,5),np.uint8)) \n",
    "    mask = cv2.morphologyEx(mask, cv2.MORPH_CLOSE, np.ones((5,5),np.uint8)) \n",
    "    x = np.append(x, np.count_nonzero(mask)/image.shape[0]/image.shape[1])\n",
    "    \n",
    "    gray = cv2.bitwise_and(mask, gray)\n",
    "    \n",
    "    detector = cv2.xfeatures2d.SIFT_create(nfeatures=1000, nOctaveLayers=5, contrastThreshold=0.07, \\\n",
    "                                       edgeThreshold=10, sigma=1.3)\n",
    "\n",
    "    keypoints = detector.detect(image, None)\n",
    "    keypoints.sort(key=lambda x: x.size, reverse=True)\n",
    "    \n",
    "    contours, hierarchy = cv2.findContours(gray, cv2.RETR_TREE, cv2.CHAIN_APPROX_SIMPLE)\n",
    "    contours.sort(key=len, reverse=True)\n",
    "    \n",
    "    if len(contours) < 3:\n",
    "        if threshold >= 200:\n",
    "            return np.zeros((11))\n",
    "        x = get_characteristics(image, threshold + 20)\n",
    "        return x\n",
    "        \n",
    "    for cont in contours[:3]:\n",
    "        area = cv2.contourArea(cont)\n",
    "        x = np.append(x, area/cv2.arcLength(cont, True))\n",
    "        \n",
    "    M = cv2.moments(contours[0])\n",
    "    hu = cv2.HuMoments(M)\n",
    "    x = np.append(x, hu)\n",
    "    \n",
    "    return x"
   ]
  },
  {
   "cell_type": "code",
   "execution_count": 47,
   "metadata": {},
   "outputs": [],
   "source": [
    "x_train = np.zeros((len(train_files), 11))\n",
    "y_train = np.zeros((len(train_files)))\n",
    "\n",
    "for k, path in enumerate(train_files):\n",
    "    image = Image.open(train_files[k])\n",
    "    image.load()\n",
    "    image = np.array(image)\n",
    "    \n",
    "    x_train[k] = get_characteristics(image)\n",
    "    y_train[k] = classes.index(path.parent.name)"
   ]
  },
  {
   "cell_type": "code",
   "execution_count": 35,
   "metadata": {},
   "outputs": [],
   "source": [
    "x_test = np.zeros((len(test_files), 11))\n",
    "\n",
    "for k, path in enumerate(test_files):\n",
    "    image = Image.open(test_files[k])\n",
    "    image.load()\n",
    "    image = np.array(image)\n",
    "    \n",
    "    x_test[k] = get_characteristics(image)"
   ]
  },
  {
   "cell_type": "markdown",
   "metadata": {},
   "source": [
    "## Обзор сформированных характеристик\n",
    "\n",
    "Так как алгоритм формирования характеристик изображений детерменирован, то полученные характеристки можно интепретировать. Постройте графики/гистограммы, как выделенные вами характеристки распределены у каждого класса в обучающей выборке.\n",
    "\n",
    "Такая визуализация позволит вам анализировать - насколько ваши признаки позволяют решать поставленную задачу классификации."
   ]
  },
  {
   "cell_type": "markdown",
   "metadata": {},
   "source": [
    "# Стратегия валидации \n",
    "\n",
    "\n",
    "Итак, у вас есть данные для обучения и данные, на которых необходимо сделать предсказание. Для оценки точности необходимо проводить валидацию (так как мало данных, можно проводить кросс валидацию). Валидацию проще всего реализовать методами sklearn, например:\n",
    "- KFold\n",
    "- ShuffleSplit\n",
    "- StratifiedKFold\n",
    "- StratifiedShuffleSplit\n",
    "- GroupKFold\n",
    "- GroupShuffleSplit"
   ]
  },
  {
   "cell_type": "code",
   "execution_count": 63,
   "metadata": {},
   "outputs": [],
   "source": [
    "from sklearn.model_selection import train_test_split\n",
    "from sklearn.model_selection import StratifiedShuffleSplit\n",
    "\n",
    "sss = StratifiedShuffleSplit(n_splits=10, test_size=0.5,random_state=42)"
   ]
  },
  {
   "cell_type": "markdown",
   "metadata": {},
   "source": [
    "# Обучение алгоритма"
   ]
  },
  {
   "cell_type": "markdown",
   "metadata": {},
   "source": [
    "## kNN"
   ]
  },
  {
   "cell_type": "code",
   "execution_count": 77,
   "metadata": {},
   "outputs": [
    {
     "name": "stdout",
     "output_type": "stream",
     "text": [
      "MSE is within 0.00 and 1.20 with an average 0.76\n"
     ]
    },
    {
     "data": {
      "image/png": "[encoded data removed]",
      "text/plain": [
       "<Figure size 432x288 with 1 Axes>"
      ]
     },
     "metadata": {
      "needs_background": "light"
     },
     "output_type": "display_data"
    }
   ],
   "source": [
    "from sklearn.neighbors import KNeighborsClassifier\n",
    "from sklearn.metrics import mean_squared_error, r2_score\n",
    "\n",
    "MSE = []\n",
    "\n",
    "for train_idx, test_idx in sss.split(x_train, y_train):\n",
    "    X_train, X_val, Y_train, Y_val = x_train[train_idx], x_train[test_idx], y_train[train_idx], y_train[test_idx]\n",
    "    knn = KNeighborsClassifier(n_neighbors=3)\n",
    "    knn.fit(X_train, Y_train)\n",
    "    \n",
    "    knn_predictons = knn.predict(X_val).round()\n",
    "    MSE = np.append(MSE, mean_squared_error(Y_val, knn_predictons))\n",
    "    \n",
    "plt.scatter(range(10), MSE, s=10)\n",
    "plt.grid(True)\n",
    "print(\"MSE is within %.2f and %.2f with an average %.2f\" % (MSE.min(), MSE.max(), MSE.mean()))"
   ]
  },
  {
   "cell_type": "markdown",
   "metadata": {},
   "source": [
    "## Линейные модели"
   ]
  },
  {
   "cell_type": "code",
   "execution_count": 78,
   "metadata": {},
   "outputs": [
    {
     "name": "stdout",
     "output_type": "stream",
     "text": [
      "MSE is within 4.90 and 621587.40 with an average 63273.93\n"
     ]
    },
    {
     "data": {
      "image/png": "[encoded data removed]",
      "text/plain": [
       "<Figure size 432x288 with 1 Axes>"
      ]
     },
     "metadata": {
      "needs_background": "light"
     },
     "output_type": "display_data"
    }
   ],
   "source": [
    "from sklearn.linear_model import LinearRegression\n",
    "\n",
    "MSE = []\n",
    "\n",
    "for train_idx, test_idx in sss.split(x_train, y_train):\n",
    "    X_train, X_val, Y_train, Y_val = x_train[train_idx], x_train[test_idx], y_train[train_idx], y_train[test_idx]\n",
    "    reg = LinearRegression().fit(X_train, Y_train)\n",
    "    \n",
    "    reg_predictons = reg.predict(X_val).round()\n",
    "    MSE = np.append(MSE, mean_squared_error(Y_val, reg_predictons))\n",
    "    \n",
    "plt.scatter(range(10), MSE, s=10)\n",
    "plt.grid(True)\n",
    "print(\"MSE is within %.2f and %.2f with an average %.2f\" % (MSE.min(), MSE.max(), MSE.mean()))"
   ]
  },
  {
   "cell_type": "markdown",
   "metadata": {},
   "source": [
    "# Точность решения на отложенной выборке\n",
    "\n",
    "Воспользуйтесь метриками для оценки точности мульти-классификации:\n",
    "- F2\n",
    "- confusion matrix"
   ]
  },
  {
   "cell_type": "markdown",
   "metadata": {},
   "source": [
    "## F2"
   ]
  },
  {
   "cell_type": "code",
   "execution_count": 79,
   "metadata": {},
   "outputs": [
    {
     "data": {
      "text/plain": [
       "0.85"
      ]
     },
     "execution_count": 79,
     "metadata": {},
     "output_type": "execute_result"
    }
   ],
   "source": [
    "from sklearn.metrics import f1_score\n",
    "y_pred = knn.predict(x_test).round()\n",
    "f1_score(y_test, y_pred, average='micro')"
   ]
  },
  {
   "cell_type": "markdown",
   "metadata": {},
   "source": [
    "## Confusion matrix"
   ]
  },
  {
   "cell_type": "code",
   "execution_count": 80,
   "metadata": {
    "ExecuteTime": {
     "end_time": "2020-11-21T10:46:04.463340Z",
     "start_time": "2020-11-21T10:46:04.458346Z"
    }
   },
   "outputs": [
    {
     "data": {
      "image/png": "[encoded data removed]",
      "text/plain": [
       "<Figure size 864x432 with 2 Axes>"
      ]
     },
     "metadata": {
      "needs_background": "light"
     },
     "output_type": "display_data"
    }
   ],
   "source": [
    "from sklearn.metrics import confusion_matrix\n",
    "import seaborn as sns\n",
    "\n",
    "confusionmatrix = confusion_matrix(y_test, y_pred)\n",
    "\n",
    "plt.figure(figsize=(12, 6))\n",
    "sns.heatmap(confusionmatrix, cmap='Greens', annot=True,\n",
    "            xticklabels=classes,\n",
    "            yticklabels=classes)\n",
    "plt.show()"
   ]
  },
  {
   "cell_type": "markdown",
   "metadata": {},
   "source": [
    "# Финальное предсказание на тестовые данные \n",
    "\n",
    "Решением домашнего задания является данный ноутбук + .csv файл с предсказанием. Заполните его в соотвествии с примером sample_submission.csv"
   ]
  },
  {
   "cell_type": "code",
   "execution_count": 118,
   "metadata": {},
   "outputs": [],
   "source": [
    "import pandas as pd\n",
    "\n",
    "file_names = [os.path.basename(file) for file in test_files]\n",
    "submission = pd.DataFrame(file_names, columns=['filename'])\n",
    "submission['type'] = [classes[int(g)] for g in y_pred]\n",
    "submission.to_csv('submission.csv', index=False)"
   ]
  },
  {
   "cell_type": "code",
   "execution_count": null,
   "metadata": {},
   "outputs": [],
   "source": []
  }
 ],
 "metadata": {
  "hide_input": false,
  "kernelspec": {
   "display_name": "Python 3",
   "language": "python",
   "name": "python3"
  },
  "language_info": {
   "codemirror_mode": {
    "name": "ipython",
    "version": 3
   },
   "file_extension": ".py",
   "mimetype": "text/x-python",
   "name": "python",
   "nbconvert_exporter": "python",
   "pygments_lexer": "ipython3",
   "version": "3.7.3"
  },
  "toc": {
   "base_numbering": 1,
   "nav_menu": {},
   "number_sections": true,
   "sideBar": true,
   "skip_h1_title": false,
   "title_cell": "Table of Contents",
   "title_sidebar": "Contents",
   "toc_cell": false,
   "toc_position": {},
   "toc_section_display": true,
   "toc_window_display": false
  },
  "varInspector": {
   "cols": {
    "lenName": 16,
    "lenType": 16,
    "lenVar": 40
   },
   "kernels_config": {
    "python": {
     "delete_cmd_postfix": "",
     "delete_cmd_prefix": "del ",
     "library": "var_list.py",
     "varRefreshCmd": "print(var_dic_list())"
    },
    "r": {
     "delete_cmd_postfix": ") ",
     "delete_cmd_prefix": "rm(",
     "library": "var_list.r",
     "varRefreshCmd": "cat(var_dic_list()) "
    }
   },
   "types_to_exclude": [
    "module",
    "function",
    "builtin_function_or_method",
    "instance",
    "_Feature"
   ],
   "window_display": false
  }
 },
 "nbformat": 4,
 "nbformat_minor": 2
}
