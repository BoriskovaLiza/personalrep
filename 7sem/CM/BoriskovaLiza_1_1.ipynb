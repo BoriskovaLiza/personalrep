{
 "cells": [
  {
   "cell_type": "code",
   "execution_count": 118,
   "metadata": {},
   "outputs": [],
   "source": [
    "import cv2\n",
    "import numpy as np\n",
    "\n",
    "import matplotlib.pyplot as plt\n",
    "%matplotlib inline"
   ]
  },
  {
   "cell_type": "code",
   "execution_count": 119,
   "metadata": {},
   "outputs": [],
   "source": [
    "def plot_one_image(image: np.ndarray) -> None:\n",
    "    fig, axs = plt.subplots(1, 1, figsize=(10, 8))\n",
    "    \n",
    "    axs.imshow(image)\n",
    "    axs.axis('off')\n",
    "    plt.plot()"
   ]
  },
  {
   "cell_type": "markdown",
   "metadata": {},
   "source": [
    "### Task 1"
   ]
  },
  {
   "cell_type": "code",
   "execution_count": 120,
   "metadata": {},
   "outputs": [],
   "source": [
    "def plot_maze_path(image: np.ndarray, coords: tuple) -> np.ndarray:\n",
    "\n",
    "    if image.ndim != 3:\n",
    "        img = cv2.cvtColor(img, cv2.COLOR_GRAY2BGR)\n",
    "        \n",
    "    img_wpath = image.copy()\n",
    "    if coords:\n",
    "        x, y = coords\n",
    "        img_wpath[x, y, :] = [0, 0, 255]\n",
    "\n",
    "    return img_wpath"
   ]
  },
  {
   "cell_type": "code",
   "execution_count": 203,
   "metadata": {},
   "outputs": [
    {
     "data": {
      "image/png": "[encoded data removed]",
      "text/plain": [
       "<Figure size 720x576 with 1 Axes>"
      ]
     },
     "metadata": {
      "needs_background": "light"
     },
     "output_type": "display_data"
    }
   ],
   "source": [
    "test_image = cv2.imread('Лабиринты/20 by 22 orthogonal maze.png')\n",
    "\n",
    "plot_one_image(test_image)"
   ]
  },
  {
   "cell_type": "code",
   "execution_count": 208,
   "metadata": {},
   "outputs": [],
   "source": [
    "def goto(x, y, cur_x, cur_y):\n",
    "    #updates the pathway through maze\n",
    "    last_x, last_y = x[-1], y[-1]\n",
    "    if (last_x != cur_x):\n",
    "        if last_x < cur_x:\n",
    "            for inc in range(last_x, cur_x+1):\n",
    "                x = np.append(x, inc)\n",
    "                y = np.append(y, cur_y)\n",
    "        else:\n",
    "            for inc in range(last_x, cur_x-1, -1):\n",
    "                x = np.append(x, inc)\n",
    "                y = np.append(y, cur_y)\n",
    "        return x, y\n",
    "    if (last_y != cur_y):\n",
    "        if last_y < cur_y:\n",
    "            for inc in range(last_y, cur_y+1):\n",
    "                x = np.append(x, cur_x)\n",
    "                y = np.append(y, inc)\n",
    "        else:\n",
    "            for inc in range(last_y, cur_y-1, -1):\n",
    "                x = np.append(x, cur_x)\n",
    "                y = np.append(y, inc)\n",
    "    return x, y\n",
    "\n",
    "def new_path(image, cur_x, cur_y, a, b, prev_x, prev_y, dead_end_x, dead_end_y):\n",
    "    empty = np.array([255,255,255])\n",
    "    return np.all(image[cur_x+a][cur_y+b] == empty) and\\\n",
    "            cur_x+a > 0 and cur_x+b > 0 and\\\n",
    "            (prev_x != cur_x+2*a or prev_y != cur_y+2*b) and\\\n",
    "            (dead_end_x != cur_x+2*a or dead_end_y != cur_y+2*b)\n",
    "\n",
    "def find_way_from_maze(image: np.ndarray) -> np.array:\n",
    "    \n",
    "    border = np.array([0,0,0])\n",
    "    empty = np.array([255,255,255])\n",
    "    \n",
    "    #determining exit and entrance\n",
    "    width = np.count_nonzero(image[0])//3\n",
    "    enter = 0, (np.nonzero(image[0])[0][0] + width//2)\n",
    "    step = width + 2\n",
    "    print(step)\n",
    "    exit = len(image[:][0])-1, (np.nonzero(image[-1])[0][0] + width//2)\n",
    "    \n",
    "    x = prev_x = np.array([enter[0]])\n",
    "    y = prev_y = np.array([enter[1]])\n",
    "    dead_end_x = dead_end_y = 0\n",
    "    \n",
    "    cur_x = enter[0] + step//2 + 1\n",
    "    cur_y = enter[1]\n",
    "    x, y = goto(x, y, cur_x, cur_y)\n",
    "\n",
    "    i = 0\n",
    "    \n",
    "    while np.all((cur_x+step//2 + 1, cur_y) != exit): \n",
    "        i+=1\n",
    "        #left\n",
    "        if new_path(image, cur_x, cur_y, 0, -step//2, prev_x[-1], prev_y[-1], dead_end_x, dead_end_y):\n",
    "            #print(cur_x, cur_x)\n",
    "            cur_y-=step\n",
    "            print(\"left\", cur_x, cur_y)\n",
    "            prev_x = np.append(prev_x, x[-1])\n",
    "            prev_y = np.append(prev_y, y[-1])\n",
    "            x, y = goto(x, y, cur_x, cur_y)\n",
    "            continue\n",
    "            \n",
    "        #up\n",
    "        if new_path(image, cur_x, cur_y, -step//2, 0, prev_x[-1], prev_y[-1], dead_end_x, dead_end_y):\n",
    "            if cur_x <= step//2 + 1: #not to exit the mase from entrance\n",
    "                break          \n",
    "            cur_x-=step\n",
    "            print(\"up\", cur_x, cur_y)\n",
    "            prev_x = np.append(prev_x, x[-1])\n",
    "            prev_y = np.append(prev_y, y[-1])\n",
    "            x, y = goto(x, y, cur_x, cur_y)\n",
    "            continue\n",
    "            \n",
    "        #right\n",
    "        if new_path(image, cur_x, cur_y, 0, +step//2, prev_x[-1], prev_y[-1], dead_end_x, dead_end_y):\n",
    "            cur_y+=step\n",
    "            print(\"right\", cur_x, cur_y)\n",
    "            prev_x = np.append(prev_x, x[-1])\n",
    "            prev_y = np.append(prev_y, y[-1])\n",
    "            x, y = goto(x, y, cur_x, cur_y)\n",
    "            continue\n",
    "            \n",
    "        #down\n",
    "        if new_path(image, cur_x, cur_y, +step//2, 0, prev_x[-1], prev_y[-1], dead_end_x, dead_end_y):\n",
    "            #print(cur_x, cur_x)\n",
    "            cur_x+=step\n",
    "            print(\"down\", cur_x, cur_y)\n",
    "            prev_x = np.append(prev_x, x[-1])\n",
    "            prev_y = np.append(prev_y, y[-1])\n",
    "            x, y = goto(x, y, cur_x, cur_y)\n",
    "            if i > 10:\n",
    "                return x, y\n",
    "            continue\n",
    "        \n",
    "        #reached a dead end\n",
    "        prev_x = np.append(prev_x, x[-1])\n",
    "        prev_y = np.append(prev_y, y[-1])\n",
    "        x = x[:-step-1]\n",
    "        y = y[:-step-1]\n",
    "        dead_end_x = x[-step-1]\n",
    "        dead_end_y = y[-step-1]\n",
    "        cur_x = x[-1]\n",
    "        cur_y = y[-1]\n",
    "    \n",
    "    x, y = goto(x, y, exit[0], exit[1])\n",
    "    return x, y"
   ]
  },
  {
   "cell_type": "code",
   "execution_count": 209,
   "metadata": {
    "scrolled": false
   },
   "outputs": [
    {
     "name": "stdout",
     "output_type": "stream",
     "text": [
      "16\n"
     ]
    },
    {
     "data": {
      "image/png": "[encoded data removed]",
      "text/plain": [
       "<Figure size 720x576 with 1 Axes>"
      ]
     },
     "metadata": {
      "needs_background": "light"
     },
     "output_type": "display_data"
    }
   ],
   "source": [
    "way_coords = find_way_from_maze(test_image)  # вычислить координаты пути через лабиринт\n",
    "image_with_way = plot_maze_path(test_image, way_coords)\n",
    "\n",
    "plot_one_image(image_with_way)"
   ]
  },
  {
   "cell_type": "code",
   "execution_count": null,
   "metadata": {},
   "outputs": [],
   "source": []
  }
 ],
 "metadata": {
  "kernelspec": {
   "display_name": "Python 3",
   "language": "python",
   "name": "python3"
  },
  "language_info": {
   "codemirror_mode": {
    "name": "ipython",
    "version": 3
   },
   "file_extension": ".py",
   "mimetype": "text/x-python",
   "name": "python",
   "nbconvert_exporter": "python",
   "pygments_lexer": "ipython3",
   "version": "3.7.3"
  }
 },
 "nbformat": 4,
 "nbformat_minor": 2
}
