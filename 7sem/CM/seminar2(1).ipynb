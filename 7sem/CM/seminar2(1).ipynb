{
 "cells": [
  {
   "cell_type": "markdown",
   "metadata": {},
   "source": [
    "## Метод Годунова для уравнения Бюргерса"
   ]
  },
  {
   "cell_type": "code",
   "execution_count": 1,
   "metadata": {},
   "outputs": [],
   "source": [
    "%matplotlib inline\n",
    "import matplotlib\n",
    "import matplotlib.pyplot as plt\n",
    "import numpy as np\n",
    "from matplotlib import rcParams\n",
    "rcParams['font.family'] = 'serif'\n",
    "rcParams['font.size'] = 16"
   ]
  },
  {
   "cell_type": "code",
   "execution_count": 2,
   "metadata": {},
   "outputs": [],
   "source": [
    "def df_burgers(u):\n",
    "    \"\"\"The derivative of the flux function, here defined for Burger's equation.\"\"\"\n",
    "\n",
    "    return uо"
   ]
  },
  {
   "cell_type": "code",
   "execution_count": 3,
   "metadata": {},
   "outputs": [],
   "source": [
    "def plot_characteristics(df, ul, ur):\n",
    "    \"\"\"Plot the characteristic lines for the initial data of a scalar Riemann problem.\"\"\"\n",
    "    \n",
    "    fig = plt.figure(figsize=(12,6))\n",
    "    ax1 = fig.add_subplot(121)\n",
    "\n",
    "    du = np.max([abs(ur-ul), 0.1])\n",
    "    umin = np.min([ul, ur])\n",
    "    umax = np.max([ul, ur])\n",
    "    ax1.plot([-1.0, 0.0], [ul, ul], 'b-', lw=2)\n",
    "    ax1.plot([0.0, 1.0], [ur, ur], 'g-',lw=2)\n",
    "    ax1.set_xbound(-1.0, 1.0)\n",
    "    ax1.set_ybound(umin - 0.1*du, umax + 0.1*du)\n",
    "    ax1.set_xlabel(r\"$x$\")\n",
    "    ax1.set_ylabel(r\"$u(x, t=0)$\")\n",
    "    \n",
    "    ax2 = fig.add_subplot(122)\n",
    "    \n",
    "    slope_l = df(ul)\n",
    "    slope_r = df(ur)\n",
    "    left_edge = np.min([-1.0, -1.0 - slope_l])\n",
    "    right_edge = np.max([1.0, 1.0 - slope_r])\n",
    "    x_start_points_l = np.linspace(left_edge, 0.0, 20)\n",
    "    x_start_points_r = np.linspace(0.0, right_edge, 20) \n",
    "    x_end_points_l = x_start_points_l + slope_l\n",
    "    x_end_points_r = x_start_points_r + slope_r\n",
    "    \n",
    "    for xs, xe in zip(x_start_points_l, x_end_points_l):\n",
    "        ax2.plot([xs, xe], [0.0, 1.0], 'b-')\n",
    "    for xs, xe in zip(x_start_points_r, x_end_points_r):\n",
    "        ax2.plot([xs, xe], [0.0, 1.0], 'g-')\n",
    "        \n",
    "    x_fill = [x_end_points_l[-1], x_start_points_l[-1], x_end_points_r[0]]\n",
    "    t_fill = [1.0, 0.0, 1.0]\n",
    "    ax2.fill_between(x_fill, t_fill, 1.0, facecolor = 'red', alpha = 0.5)\n",
    "        \n",
    "    ax2.set_xbound(-1.0, 1.0)\n",
    "    ax2.set_ybound(0.0, 1.0)\n",
    "    ax2.set_xlabel(r\"$x$\")\n",
    "    ax2.set_ylabel(r\"$t$\")\n",
    "    \n",
    "    fig.tight_layout()"
   ]
  },
  {
   "cell_type": "code",
   "execution_count": 4,
   "metadata": {},
   "outputs": [
    {
     "ename": "NameError",
     "evalue": "name 'uо' is not defined",
     "output_type": "error",
     "traceback": [
      "\u001b[0;31m---------------------------------------------------------------------------\u001b[0m",
      "\u001b[0;31mNameError\u001b[0m                                 Traceback (most recent call last)",
      "\u001b[0;32m<ipython-input-4-0504737f1461>\u001b[0m in \u001b[0;36m<module>\u001b[0;34m\u001b[0m\n\u001b[0;32m----> 1\u001b[0;31m \u001b[0mplot_characteristics\u001b[0m\u001b[0;34m(\u001b[0m\u001b[0mdf_burgers\u001b[0m\u001b[0;34m,\u001b[0m \u001b[0;36m0.1\u001b[0m\u001b[0;34m,\u001b[0m \u001b[0;34m-\u001b[0m\u001b[0;36m0.2\u001b[0m\u001b[0;34m)\u001b[0m\u001b[0;34m\u001b[0m\u001b[0;34m\u001b[0m\u001b[0m\n\u001b[0m",
      "\u001b[0;32m<ipython-input-3-1934725802f4>\u001b[0m in \u001b[0;36mplot_characteristics\u001b[0;34m(df, ul, ur)\u001b[0m\n\u001b[1;32m     17\u001b[0m     \u001b[0max2\u001b[0m \u001b[0;34m=\u001b[0m \u001b[0mfig\u001b[0m\u001b[0;34m.\u001b[0m\u001b[0madd_subplot\u001b[0m\u001b[0;34m(\u001b[0m\u001b[0;36m122\u001b[0m\u001b[0;34m)\u001b[0m\u001b[0;34m\u001b[0m\u001b[0;34m\u001b[0m\u001b[0m\n\u001b[1;32m     18\u001b[0m \u001b[0;34m\u001b[0m\u001b[0m\n\u001b[0;32m---> 19\u001b[0;31m     \u001b[0mslope_l\u001b[0m \u001b[0;34m=\u001b[0m \u001b[0mdf\u001b[0m\u001b[0;34m(\u001b[0m\u001b[0mul\u001b[0m\u001b[0;34m)\u001b[0m\u001b[0;34m\u001b[0m\u001b[0;34m\u001b[0m\u001b[0m\n\u001b[0m\u001b[1;32m     20\u001b[0m     \u001b[0mslope_r\u001b[0m \u001b[0;34m=\u001b[0m \u001b[0mdf\u001b[0m\u001b[0;34m(\u001b[0m\u001b[0mur\u001b[0m\u001b[0;34m)\u001b[0m\u001b[0;34m\u001b[0m\u001b[0;34m\u001b[0m\u001b[0m\n\u001b[1;32m     21\u001b[0m     \u001b[0mleft_edge\u001b[0m \u001b[0;34m=\u001b[0m \u001b[0mnp\u001b[0m\u001b[0;34m.\u001b[0m\u001b[0mmin\u001b[0m\u001b[0;34m(\u001b[0m\u001b[0;34m[\u001b[0m\u001b[0;34m-\u001b[0m\u001b[0;36m1.0\u001b[0m\u001b[0;34m,\u001b[0m \u001b[0;34m-\u001b[0m\u001b[0;36m1.0\u001b[0m \u001b[0;34m-\u001b[0m \u001b[0mslope_l\u001b[0m\u001b[0;34m]\u001b[0m\u001b[0;34m)\u001b[0m\u001b[0;34m\u001b[0m\u001b[0;34m\u001b[0m\u001b[0m\n",
      "\u001b[0;32m<ipython-input-2-1ccb9f913385>\u001b[0m in \u001b[0;36mdf_burgers\u001b[0;34m(u)\u001b[0m\n\u001b[1;32m      2\u001b[0m     \u001b[0;34m\"\"\"The derivative of the flux function, here defined for Burger's equation.\"\"\"\u001b[0m\u001b[0;34m\u001b[0m\u001b[0;34m\u001b[0m\u001b[0m\n\u001b[1;32m      3\u001b[0m \u001b[0;34m\u001b[0m\u001b[0m\n\u001b[0;32m----> 4\u001b[0;31m     \u001b[0;32mreturn\u001b[0m \u001b[0muо\u001b[0m\u001b[0;34m\u001b[0m\u001b[0;34m\u001b[0m\u001b[0m\n\u001b[0m",
      "\u001b[0;31mNameError\u001b[0m: name 'uо' is not defined"
     ]
    },
    {
     "data": {
      "image/png": "[encoded data removed]",
      "text/plain": [
       "<Figure size 864x432 with 2 Axes>"
      ]
     },
     "metadata": {
      "needs_background": "light"
     },
     "output_type": "display_data"
    }
   ],
   "source": [
    "plot_characteristics(df_burgers, 0.1, -0.2)"
   ]
  },
  {
   "cell_type": "code",
   "execution_count": null,
   "metadata": {},
   "outputs": [],
   "source": [
    "plot_characteristics(df_burgers, -0.1, 0.2)"
   ]
  },
  {
   "cell_type": "code",
   "execution_count": 5,
   "metadata": {},
   "outputs": [
    {
     "data": {
      "application/vnd.jupyter.widget-view+json": {
       "model_id": "65f423c02d56415cb865f0150c60d60f",
       "version_major": 2,
       "version_minor": 0
      },
      "text/plain": [
       "interactive(children=(FloatSlider(value=0.1, description='ul', max=2.0, min=-2.0), FloatSlider(value=-0.2, des…"
      ]
     },
     "metadata": {},
     "output_type": "display_data"
    },
    {
     "data": {
      "image/png": "[encoded data removed]",
      "text/plain": [
       "<Figure size 864x432 with 2 Axes>"
      ]
     },
     "metadata": {
      "needs_background": "light"
     },
     "output_type": "display_data"
    }
   ],
   "source": [
    "from ipywidgets import interactive, FloatSlider\n",
    "def interactive_characteristics(ul, ur):\n",
    "    return plot_characteristics(df_burgers, ul, ur)\n",
    "interactive(interactive_characteristics, \n",
    "            ul = FloatSlider(min=-2.0, max=2.0, step=0.1, value=0.1), \n",
    "            ur = FloatSlider(min=-2.0, max=2.0, step=0.1, value=-0.2))"
   ]
  },
  {
   "cell_type": "code",
   "execution_count": 6,
   "metadata": {},
   "outputs": [],
   "source": [
    "def plot_shock_burgers(ul, ur):\n",
    "    \"\"\"Plot the characteristic lines for the shock solution to Burger's equation.\"\"\"\n",
    "    \n",
    "    assert(ul > ur)\n",
    "    \n",
    "    fig = plt.figure(figsize=(12,6))\n",
    "    ax1 = fig.add_subplot(121)\n",
    "\n",
    "    du = np.max([abs(ur-ul), 0.1])\n",
    "    umin = np.min([ul, ur])\n",
    "    umax = np.max([ul, ur])\n",
    "    ax1.plot([-1.0, 0.0], [ul, ul], 'b-',lw=2)\n",
    "    ax1.plot([0.0, 1.0], [ur, ur], 'g-',lw=2)\n",
    "    ax1.set_xbound(-1.0, 1.0)\n",
    "    ax1.set_ybound(umin - 0.1*du, umax + 0.1*du)\n",
    "    ax1.set_xlabel(r\"$x$\")\n",
    "    ax1.set_ylabel(r\"$u(x, t=0)$\")\n",
    "    \n",
    "    ax2 = fig.add_subplot(122)\n",
    "    \n",
    "    slope_l = ul\n",
    "    slope_r = ur\n",
    "    s = 0.5 * (ur + ul)\n",
    "    ax2.plot([0.0, s], [0.0, 1.0], 'k-', linewidth=3)\n",
    "    \n",
    "    left_edge = np.min([-1.0, -1.0 - slope_l])\n",
    "    right_edge = np.max([1.0, 1.0 - slope_r])\n",
    "    x_start_points_l = np.linspace(left_edge, 0.0, 20)\n",
    "    x_start_points_r = np.linspace(0.0, right_edge, 20) \n",
    "    t_end_points_l = np.ones_like(x_start_points_l)\n",
    "    t_end_points_r = np.ones_like(x_start_points_r)\n",
    "    \n",
    "    # Look for intersections\n",
    "    t_end_points_l = np.minimum(t_end_points_l, x_start_points_l / (s - slope_l))\n",
    "    t_end_points_r = np.minimum(t_end_points_r, x_start_points_r / (s - slope_r))\n",
    "    x_end_points_l = x_start_points_l + slope_l * t_end_points_l\n",
    "    x_end_points_r = x_start_points_r + slope_r * t_end_points_r\n",
    "    \n",
    "    for xs, xe, te in zip(x_start_points_l, x_end_points_l, t_end_points_l):\n",
    "        ax2.plot([xs, xe], [0.0, te], 'b-')\n",
    "    for xs, xe, te in zip(x_start_points_r, x_end_points_r, t_end_points_r):\n",
    "        ax2.plot([xs, xe], [0.0, te], 'g-')\n",
    "    \n",
    "        \n",
    "    ax2.set_xbound(-1.0, 1.0)\n",
    "    ax2.set_ybound(0.0, 1.0)\n",
    "    ax2.set_xlabel(r\"$x$\")\n",
    "    ax2.set_ylabel(r\"$t$\")\n",
    "    \n",
    "    fig.tight_layout()"
   ]
  },
  {
   "cell_type": "code",
   "execution_count": 7,
   "metadata": {},
   "outputs": [
    {
     "data": {
      "application/vnd.jupyter.widget-view+json": {
       "model_id": "1cdd30b186ef4ce7b72a5b0111349a56",
       "version_major": 2,
       "version_minor": 0
      },
      "text/plain": [
       "interactive(children=(FloatSlider(value=0.1, description='ul', max=2.0, min=-2.0), FloatSlider(value=-0.2, des…"
      ]
     },
     "metadata": {},
     "output_type": "display_data"
    }
   ],
   "source": [
    "interactive(plot_shock_burgers, \n",
    "            ul = FloatSlider(min=-2.0, max=2.0, step=0.1, value=0.1), \n",
    "            ur = FloatSlider(min=-2.0, max=2.0, step=0.1, value=-0.2))"
   ]
  },
  {
   "cell_type": "code",
   "execution_count": 15,
   "metadata": {},
   "outputs": [],
   "source": [
    "def nonlinearconv(nx):\n",
    "    \"\"\"Solve the linear convection equation.\n",
    "    \n",
    "    Solves the equation d_t u + d_x F = 0 where \n",
    "    * the domain is x \\in [0, 2]\n",
    "    * 20 timesteps are taken, with \\Delta t computed using the CFL 0.5\n",
    "    * the initial data is the hat function\n",
    "    \n",
    "    Produces a plot of the results\n",
    "    \n",
    "    Parameters\n",
    "    ----------\n",
    "    \n",
    "    nx : integer\n",
    "        number of internal grid points\n",
    "        \n",
    "    Returns\n",
    "    -------\n",
    "    \n",
    "    None : none\n",
    "    \"\"\"\n",
    "    dx = 2/(nx-1)\n",
    "    nt = 1000\n",
    "    x = np.linspace(0,2,nx)\n",
    "    \n",
    "    dt = 0.5*dx\n",
    "    un = np.ones(nx)\n",
    "    u = np.ones(nx) \n",
    "    u[np.intersect1d(np.where(x >= 0.5), np.where(x <= 1))]=2 \n",
    "\n",
    "    for n in range(nt):  \n",
    "        un = u.copy()\n",
    "        for i in range(1, len(x)-1):\n",
    "            \n",
    "            s = 1/2*(un[i+1]+un[i])\n",
    "            \n",
    "            if (un[i] >= un[i+1]): #скачок\n",
    "                if (s >= 0):\n",
    "                    u[i] = un[i] -dt/dx*(un[i]**2 - un[i-1]**2)/2\n",
    "                else:\n",
    "                    u[i] = un[i] -dt/dx*(un[i+1]**2 - un[i]**2)/2\n",
    "            elif (un[i] < un[i+1]): #волна разряжения\n",
    "                if (un[i] > 0):\n",
    "                    u[i] = un[i] -dt/dx*(un[i]**2 - un[i-1]**2)/2\n",
    "                if (un[i+1] < 0):\n",
    "                    u[i] = un[i] -dt/dx*(un[i+1]**2 - un[i]**2)/2\n",
    "        u[0] = u[-1] = 1.0\n",
    "        \n",
    "    plt.plot(x, u, color='#003366', ls='--', lw=3)\n",
    "    plt.ylim(0,2.5);"
   ]
  },
  {
   "cell_type": "code",
   "execution_count": 16,
   "metadata": {},
   "outputs": [
    {
     "data": {
      "image/png": "[encoded data removed]",
      "text/plain": [
       "<Figure size 432x288 with 1 Axes>"
      ]
     },
     "metadata": {
      "needs_background": "light"
     },
     "output_type": "display_data"
    }
   ],
   "source": [
    "nonlinearconv(1000)"
   ]
  },
  {
   "cell_type": "code",
   "execution_count": null,
   "metadata": {},
   "outputs": [],
   "source": []
  }
 ],
 "metadata": {
  "kernelspec": {
   "display_name": "Python 3",
   "language": "python",
   "name": "python3"
  },
  "language_info": {
   "codemirror_mode": {
    "name": "ipython",
    "version": 3
   },
   "file_extension": ".py",
   "mimetype": "text/x-python",
   "name": "python",
   "nbconvert_exporter": "python",
   "pygments_lexer": "ipython3",
   "version": "3.7.3"
  }
 },
 "nbformat": 4,
 "nbformat_minor": 2
}
