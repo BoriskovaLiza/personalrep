{
 "cells": [
  {
   "cell_type": "markdown",
   "metadata": {
    "id": "pA3kv-qv8VZD"
   },
   "source": [
    "# Домашнее задание № 0\n"
   ]
  },
  {
   "cell_type": "code",
   "execution_count": 2,
   "metadata": {
    "id": "tsZ0BYr48VZE"
   },
   "outputs": [],
   "source": [
    "import numpy as np\n",
    "import pandas as pd\n",
    "from matplotlib import pyplot as plt\n",
    "%matplotlib inline"
   ]
  },
  {
   "cell_type": "markdown",
   "metadata": {
    "id": "xqTRySxB8VZJ"
   },
   "source": [
    "### Самостоятельное написание дерева решений\n",
    "Источник: [mlcourse.ai](https://mlcourse.ai) от [Юрия Кашницкого](https://yorko.github.io) и [OpenDataScience](https://ods.ai)"
   ]
  },
  {
   "cell_type": "markdown",
   "metadata": {
    "id": "2LCRsrdD8VZK"
   },
   "source": [
    "Рассмотрим следующую одномерную задачу восстановления регрессии. Неформально, нужно построить функцию $a(x)$, приближающую искомую зависимость $y = f(x)$ в терминах среднеквадратичной ошибки: $min \\sum_i {(a(x_i) - f(x_i))}^2$. "
   ]
  },
  {
   "cell_type": "code",
   "execution_count": 3,
   "metadata": {
    "id": "cgMF2uxk8VZK"
   },
   "outputs": [
    {
     "data": {
      "image/png": "[encoded data removed]",
      "text/plain": [
       "<Figure size 432x288 with 1 Axes>"
      ]
     },
     "metadata": {
      "needs_background": "light"
     },
     "output_type": "display_data"
    }
   ],
   "source": [
    "X = np.linspace(-2, 2, 7)\n",
    "y = X ** 3\n",
    "\n",
    "plt.scatter(X, y)\n",
    "plt.xlabel(r'$x$')\n",
    "plt.plot(np.linspace(-2,2,50), np.linspace(np.mean(y),np.mean(y),50))\n",
    "plt.ylabel(r'$y$');"
   ]
  },
  {
   "cell_type": "markdown",
   "metadata": {
    "id": "LjlGqtIH8VZN"
   },
   "source": [
    "Проделаем несколько шагов в построении дерева решений. Исходя из соображений симметрии, выберем пороги для разбиения равными соответственно 0, 1.5 и -1.5. Напомним, что в случае задачи восстановления регрессии листовая вершина выдает среднее значение ответа по всем объектам обучающей выборки, попавшим в эту вершину.\n",
    "\n",
    "Итак, начнём. Дерево глубины 0 состоит из одного корня, который содержит всю обучающую выборку. Как будут выглядеть предсказания данного дерева для $x \\in [-2, 2]$? Постройте соответствующий график."
   ]
  },
  {
   "cell_type": "code",
   "execution_count": 4,
   "metadata": {
    "id": "CfUzm6_78VZO"
   },
   "outputs": [
    {
     "data": {
      "image/png": "[encoded data removed]",
      "text/plain": [
       "<Figure size 432x288 with 1 Axes>"
      ]
     },
     "metadata": {
      "needs_background": "light"
     },
     "output_type": "display_data"
    }
   ],
   "source": [
    "X = np.linspace(-2, 2, 7)\n",
    "y = X ** 3\n",
    "\n",
    "plt.scatter(X, y)\n",
    "plt.xlabel(r'$x$')\n",
    "plt.plot(np.linspace(-2,2,50), np.linspace(np.mean(y),np.mean(y),50))\n",
    "plt.ylabel(r'$y$');"
   ]
  },
  {
   "cell_type": "markdown",
   "metadata": {
    "id": "KaLoP_XD8VZR"
   },
   "source": [
    "Произведем первое разбиение выборки по предикату $[x < 0]$. Получим дерево глубины 1 с двумя листьями. Постройте аналогичный график предсказаний для этого дерева."
   ]
  },
  {
   "cell_type": "code",
   "execution_count": 5,
   "metadata": {
    "id": "AwkRInO08VZR"
   },
   "outputs": [
    {
     "data": {
      "image/png": "[encoded data removed]",
      "text/plain": [
       "<Figure size 432x288 with 1 Axes>"
      ]
     },
     "metadata": {
      "needs_background": "light"
     },
     "output_type": "display_data"
    }
   ],
   "source": [
    "X = np.linspace(-2, 2, 7)\n",
    "y = X ** 3\n",
    "\n",
    "plt.scatter(X, y)\n",
    "plt.xlabel(r'$x$')\n",
    "plt.plot(np.linspace(-2,0,25), np.linspace(np.mean(y[:3]),np.mean(y[:3]),25))\n",
    "plt.plot(np.linspace(0,2,25), np.linspace(np.mean(y[3:]),np.mean(y[3:]),25), c='C0')\n",
    "plt.ylabel(r'$y$');"
   ]
  },
  {
   "cell_type": "markdown",
   "metadata": {
    "id": "XrBAT0YQ8VZU"
   },
   "source": [
    "В алгоритме построения дерева решений признак и значение порога, по которым происходит разбиение выборки, выбираются исходя из некоторого критерия. Для регрессии обычно используется дисперсионный критерий: $$Q(X, j, t) = D(X) - \\dfrac{|X_l|}{|X|} D(X_l) - \\dfrac{|X_r|}{|X|} D(X_r),$$ где $X$ – выборка, находящаяся в текущей вершине, $X_l$ и $X_r$ – разбиение выборки $X$ на две части по предикату $[xj < t]$ (то есть по $j$-ому признаку и порогу $t$), а $D(X)$ – дисперсия ответов на выборке $X$: $$D(X) = \\dfrac{1}{|X|} \\sum{x_j \\in X}(yj – \\dfrac{1}{|X|}\\sum{x_i \\in X}y_i)^2,$$ где $y_i = y(x_i)$ – ответ на объекте $x_i$. При каждом разбиении вершины выбираются признак $j$ и значение порога $t$, максимизирующие значение функционала $Q(X, j, t)$.\n",
    "\n",
    "В нашем случае признак всего один, поэтому $Q$ зависит только от значения порога $t$ (и ответов выборки в данной вершине).\n",
    "\n",
    "Постройте график функции $Q(X, t)$ в корне в зависимости от значения порога $t$ на отрезке $[-1.9, 1.9]$."
   ]
  },
  {
   "cell_type": "code",
   "execution_count": 6,
   "metadata": {
    "id": "qgFjPVz_8VZU"
   },
   "outputs": [],
   "source": [
    "def D(X):\n",
    "    N = len(X)\n",
    "    return np.sum((X[:] - np.sum(X)/N)**2)/N\n",
    "\n",
    "def Q(X,y,t):\n",
    "    l = N = len(X)\n",
    "    for x in enumerate(X):\n",
    "        if x[1] >= t:\n",
    "            l = x[0]\n",
    "            break\n",
    "    return D(y) - l/N*D(y[:l]) - (N-l)/N*D(y[l:])"
   ]
  },
  {
   "cell_type": "code",
   "execution_count": 7,
   "metadata": {},
   "outputs": [
    {
     "data": {
      "image/png": "[encoded data removed]",
      "text/plain": [
       "<Figure size 432x288 with 1 Axes>"
      ]
     },
     "metadata": {
      "needs_background": "light"
     },
     "output_type": "display_data"
    }
   ],
   "source": [
    "X = np.linspace(-2, 2, 7)\n",
    "y = X ** 3\n",
    "T = np.linspace(-1.9, 1.9, 20)\n",
    "Q_t = [Q(X,y,t) for t in T]\n",
    "\n",
    "plt.scatter(T, Q_t, label=r'$Q(X,t)$')\n",
    "plt.scatter(X, np.ones_like(X)*9.5, c='r', label=r'$x_i$')\n",
    "plt.legend(fontsize='x-large')\n",
    "plt.grid()"
   ]
  },
  {
   "cell_type": "markdown",
   "metadata": {
    "id": "Z0DnupQvu2R1"
   },
   "source": [
    "А теперь на основе значений полученной функции постройте дерево глубины 1."
   ]
  },
  {
   "cell_type": "code",
   "execution_count": 46,
   "metadata": {
    "id": "JXAmMKQ8u-ri"
   },
   "outputs": [
    {
     "data": {
      "text/plain": [
       "[<matplotlib.lines.Line2D at 0x7f942531b198>]"
      ]
     },
     "execution_count": 46,
     "metadata": {},
     "output_type": "execute_result"
    },
    {
     "data": {
      "image/png": "[encoded data removed]",
      "text/plain": [
       "<Figure size 432x288 with 1 Axes>"
      ]
     },
     "metadata": {
      "needs_background": "light"
     },
     "output_type": "display_data"
    }
   ],
   "source": [
    "t = T[np.argmin(Q_t)]\n",
    "\n",
    "l = len(X)\n",
    "for x in enumerate(X):\n",
    "    if x[1] >= t:\n",
    "        l = x[0]\n",
    "        break\n",
    "\n",
    "plt.text(-2, 6, r'$t_m \\approx$ %.2f т.е. x < %.2f - разбиение выборки' % (t,X[l]), fontsize=12)\n",
    "\n",
    "plt.scatter(X, y)\n",
    "plt.xlabel(r'$x$')\n",
    "plt.ylabel(r'$y$')\n",
    "\n",
    "plt.plot(np.linspace(X[0],X[l],25), [np.mean(y[:l])]*25)\n",
    "plt.plot(np.linspace(X[l],X[-1],25), [np.mean(y[l:])]*25, c=\"C0\")"
   ]
  },
  {
   "cell_type": "code",
   "execution_count": null,
   "metadata": {},
   "outputs": [],
   "source": []
  }
 ],
 "metadata": {
  "colab": {
   "name": "hw_0.ipynb",
   "provenance": [],
   "toc_visible": true
  },
  "kernelspec": {
   "display_name": "Python 3",
   "language": "python",
   "name": "python3"
  },
  "language_info": {
   "codemirror_mode": {
    "name": "ipython",
    "version": 3
   },
   "file_extension": ".py",
   "mimetype": "text/x-python",
   "name": "python",
   "nbconvert_exporter": "python",
   "pygments_lexer": "ipython3",
   "version": "3.7.3"
  }
 },
 "nbformat": 4,
 "nbformat_minor": 1
}
