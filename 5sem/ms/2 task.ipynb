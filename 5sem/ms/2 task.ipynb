{
 "cells": [
  {
   "cell_type": "code",
   "execution_count": 212,
   "metadata": {},
   "outputs": [],
   "source": [
    "import statsmodels.api as sm\n",
    "import numpy as np\n",
    "from scipy import stats\n",
    "from matplotlib import pyplot as plt"
   ]
  },
  {
   "cell_type": "markdown",
   "metadata": {},
   "source": [
    "## #1"
   ]
  },
  {
   "cell_type": "code",
   "execution_count": 236,
   "metadata": {},
   "outputs": [],
   "source": [
    "N = 50\n",
    "sample = stats.uniform.rvs(size=N*5)*2 - 1\n",
    "sample = sample.reshape((N, 5))\n",
    "eta = np.zeros((N))\n",
    "\n",
    "C = [2, 3, -2, 1, 1, -1]\n",
    "\n",
    "for i in range(N):\n",
    "    eta[i] = np.random.normal(C[0] + C[1:] @ sample[i].T, 1.5)"
   ]
  },
  {
   "cell_type": "code",
   "execution_count": 237,
   "metadata": {},
   "outputs": [],
   "source": [
    "def rss0(x):\n",
    "    return sum([(a - np.mean(x))**2 for a in x])\n",
    "\n",
    "def regression(psi, eta):\n",
    "\n",
    "    F = psi.T @ psi\n",
    "    F_inv = np.linalg.inv(F)\n",
    "    b = (F_inv @ psi.T) @ eta.T\n",
    "    e = eta - (psi @ b.T).T\n",
    "    RSSy = e @ e.T\n",
    "    RSS0y = rss0(eta)\n",
    "\n",
    "    R = (RSS0y - RSSy)/RSS0y\n",
    "    \n",
    "    delta = [b[i]*((N - len(psi[0]))/(RSSy*F_inv[i][i]))**(1/2) \\\n",
    "             for i in range(len(psi[0]))]\n",
    "    b_p_value = 2*(1 - stats.t.cdf(np.abs(delta), N - np.shape(psi)[1]))\n",
    "    \n",
    "    return b, b_p_value, RSSy, RSS0y, R"
   ]
  },
  {
   "cell_type": "code",
   "execution_count": 238,
   "metadata": {},
   "outputs": [
    {
     "name": "stdout",
     "output_type": "stream",
     "text": [
      "\n",
      "R_xi^2 = [0.02  0.033 0.003 0.03  0.016] -> мультиколлинеарности нет\n",
      "\n"
     ]
    }
   ],
   "source": [
    "#a)\n",
    "print()\n",
    "RSS0_xi = np.zeros(5)\n",
    "RSS_xi = np.zeros(5)\n",
    "R_xi = np.zeros(5)\n",
    "\n",
    "for i in range(5):\n",
    "    psi_xi = np.copy(sample)\n",
    "    for j in range(N):\n",
    "        psi_xi[j][i] = 1\n",
    "    \n",
    "    RSS_xi[i] = regression(psi_xi, sample.T[i])[2]\n",
    "    RSS0_xi[i] = regression(psi_xi, sample.T[i])[3]\n",
    "    R_xi[i] = (RSS0_xi[i] - RSS_xi[i])/RSS0_xi[i]\n",
    "    \n",
    "    \n",
    "print(\"R_xi^2 =\", np.around((R_xi**2), decimals=3), \\\n",
    "      \"-> мультиколлинеарности нет\\n\")"
   ]
  },
  {
   "cell_type": "code",
   "execution_count": 239,
   "metadata": {},
   "outputs": [
    {
     "name": "stdout",
     "output_type": "stream",
     "text": [
      "\n",
      " b = [ 2.172  2.844 -2.231  0.53   1.326 -0.826]\n",
      " p-value = [0.    0.    0.    0.13  0.003 0.044] -> 3 (и иногда 5) не значимы\n",
      "\n"
     ]
    }
   ],
   "source": [
    "#b)\n",
    "print()\n",
    "tmp = np.copy(sample)\n",
    "psi = np.empty((N, 6))\n",
    "\n",
    "for i in range(N):\n",
    "     psi[i] = np.insert(tmp[i], 0, 1)\n",
    "        \n",
    "b, b_p_value, RSSy, RSS0y, R = regression(psi, eta)\n",
    "\n",
    "F = psi.T @ psi\n",
    "F_inv = np.linalg.inv(F)\n",
    "e = (eta - psi @ b.T).T\n",
    "\n",
    "print(\" b =\", np.around((b), decimals=3))\n",
    "print(\" p-value =\", np.around((b_p_value), decimals=3), \\\n",
    "      '-> 3 не значимы\\n')"
   ]
  },
  {
   "cell_type": "code",
   "execution_count": 240,
   "metadata": {},
   "outputs": [
    {
     "name": "stdout",
     "output_type": "stream",
     "text": [
      "\n",
      "RSS0y = 280.506\n",
      "RSSy = 98.203\n",
      "R = 0.650\n",
      "R p-value = 0.000\n",
      "\n"
     ]
    }
   ],
   "source": [
    "#c)\n",
    "print()\n",
    "print(\"RSS0y =\", \"%.3f\" % RSS0y)\n",
    "print(\"RSSy =\", \"%.3f\" % RSSy)\n",
    "print(\"R =\", \"%.3f\" % R)\n",
    "\n",
    "delta_R = R/(1 - R)*(N - 6)/5\n",
    "\n",
    "R_p_value = 1 - stats.f.cdf(np.abs(delta_R), 5, N - 6)\n",
    "print(\"R p-value =\", \"%.3f\" % R_p_value)\n",
    "print()"
   ]
  },
  {
   "cell_type": "code",
   "execution_count": 241,
   "metadata": {},
   "outputs": [
    {
     "name": "stdout",
     "output_type": "stream",
     "text": [
      "\n",
      "eta0 = 3.930\n",
      "y0 = 2.172\n",
      "[ -0.874 : 5.219 ] - дов. интервал\n",
      "\n"
     ]
    }
   ],
   "source": [
    "#d)\n",
    "print()\n",
    "x0 = np.array([0, 0, 0, 0, 0])\n",
    "psi_x0 = np.insert(x0, 0, 1)\n",
    "\n",
    "eta0 = np.random.normal(C[0] + C[1:] @ x0.T, 1.5)\n",
    "print(\"eta0 =\", \"%.3f\" % eta0)\n",
    "\n",
    "y0 = b[0] + b[1:] @ x0.T\n",
    "print(\"y0 =\", \"%.3f\" % y0)\n",
    "\n",
    "delta = stats.t.ppf(1.95/2, N - 6)*\\\n",
    "(1 + (psi_x0 @ F_inv) @ psi_x0.T)**(1/2)*(RSSy/(N - 6))**(1/2)\n",
    "\n",
    "print('[', \"%.3f\" % (y0 - delta),':', \"%.3f\" % (y0 + delta), \\\n",
    "      \"] - дов. интервал\\n\")"
   ]
  },
  {
   "cell_type": "code",
   "execution_count": 242,
   "metadata": {},
   "outputs": [
    {
     "name": "stdout",
     "output_type": "stream",
     "text": [
      "\n",
      " p-value = 0.570 -> не отвергаем гипотезу случайности ошибок\n",
      "\n"
     ]
    }
   ],
   "source": [
    "#e)\n",
    "print()\n",
    "I=0\n",
    "for i in range(N):\n",
    "    for j in range (i + 1, N):\n",
    "        if(e[i] > e[j]):\n",
    "            I += 1\n",
    "\n",
    "delta = (I - N*(N - 1)/4)/(N**3/36)**(1/2)\n",
    "\n",
    "p_value = 2*(1 - stats.norm.cdf(abs(delta)))\n",
    "print(\" p-value =\", \"%.3f\" % p_value, '-> не отвергаем \\\n",
    "гипотезу случайности ошибок\\n')"
   ]
  },
  {
   "cell_type": "code",
   "execution_count": 243,
   "metadata": {},
   "outputs": [
    {
     "name": "stdout",
     "output_type": "stream",
     "text": [
      "\n",
      "p-value = 0.615 -> не отвергаем гипотезу норм. распр. ошибок\n",
      "\n"
     ]
    }
   ],
   "source": [
    "#f)\n",
    "print()\n",
    "M = 5000\n",
    "D = np.zeros(M)\n",
    "s = np.zeros((M,N))\n",
    "sigma_est = np.mean((e - np.mean(e))**2)**(1/2)\n",
    "\n",
    "def sup(z, sigma):\n",
    "    \n",
    "    w = np.zeros(N)\n",
    "    \n",
    "    ecdf = sm.distributions.ECDF(z)\n",
    "    u = ecdf(z)\n",
    "    v = stats.norm.cdf(z, 0, sigma)\n",
    "    w[0] = np.max((v[0], np.abs(v[0] - u[0])))\n",
    "    \n",
    "    for i in range(1, N):\n",
    "        w[i] = np.max((np.abs(v[i] - u[i]), np.abs(v[i] - u[i - 1])))\n",
    "    \n",
    "    return np.max(w)\n",
    "\n",
    "for i in range(M):\n",
    "    for j in range(N):\n",
    "        a = np.random.uniform()\n",
    "        s[i][j] = stats.norm.ppf(a, 0, sigma_est)\n",
    "    sigma = np.mean((s[i] - np.mean(s[i]))**2)**(1/2)\n",
    "    D[i] = sup(s[i], sigma)\n",
    "    \n",
    "D = np.sort(D)     \n",
    "d = sup(e, sigma_est)\n",
    "p_value = 0\n",
    "\n",
    "for i in range(M):\n",
    "    if (D[i] > d):\n",
    "        p_value = 1 - i/M\n",
    "        break\n",
    "        \n",
    "print(\"p-value =\", \"%.3f\" % p_value, \\\n",
    "      \"-> не отвергаем гипотезу норм. распр. ошибок\")\n",
    "print()"
   ]
  },
  {
   "cell_type": "code",
   "execution_count": 244,
   "metadata": {},
   "outputs": [
    {
     "name": "stdout",
     "output_type": "stream",
     "text": [
      "\n",
      "R_CV = 0.985 -> высокая точность предсказаний\n",
      "\n"
     ]
    }
   ],
   "source": [
    "#g)\n",
    "print()\n",
    "RSS_CV = 0\n",
    "\n",
    "for i in range(N):    \n",
    "    tmp = np.delete(sample, i, axis = 0)\n",
    "    eta_CV = np.delete(eta, i, axis = 0)\n",
    "    psi_CV = np.empty([N - 1, 6])\n",
    "    for i in range(N - 1):\n",
    "         psi_CV[i] = np.insert(tmp[i], 0, 1)\n",
    "\n",
    "    F_CV = psi_CV.T @ psi_CV\n",
    "    F_inv_CV = np.linalg.inv(F_CV)\n",
    "    b_CV = (F_inv_CV @ psi_CV.T) @ eta_CV.T\n",
    "    RSS_CV += (eta[i] - b_CV[0] - b_CV[1:] @ sample[i])**2\n",
    "\n",
    "R_CV = (RSS0y - RSS_CV)/RSS0y\n",
    "print(\"R_CV =\", \"%.3f\" % R_CV, \"-> высокая точность предсказаний\")\n",
    "print()"
   ]
  },
  {
   "cell_type": "code",
   "execution_count": 245,
   "metadata": {},
   "outputs": [
    {
     "name": "stdout",
     "output_type": "stream",
     "text": [
      "\n",
      "p-value = 0.398 -> модель регрессии адекватна\n",
      "\n"
     ]
    }
   ],
   "source": [
    "#h)\n",
    "print()\n",
    "x = sample[0]\n",
    "y = np.array([np.random.normal(C[0] + C[1:] @ x.T, 1.5) \\\n",
    "              for i in range(5)])\n",
    "\n",
    "delta = (N - 6)*((y - np.mean(y)) @ (y - np.mean(y)).T)/RSSy/4\n",
    "p_value = 1 - stats.f.cdf(np.abs(delta), 4, 5)\n",
    "\n",
    "print(\"p-value =\", \"%.3f\" % p_value, '-> модель регрессии адекватна')\n",
    "print()"
   ]
  },
  {
   "cell_type": "code",
   "execution_count": 248,
   "metadata": {},
   "outputs": [
    {
     "name": "stdout",
     "output_type": "stream",
     "text": [
      "\n",
      "2 кси наименее значим\n",
      "\n",
      " Для упрощенной модели:\n",
      "b = [ 2.145  2.811 -2.342  1.272 -0.839]\n",
      "p-value = [0.    0.    0.    0.005 0.044]\n",
      "p-value = 0.000\n",
      "\n",
      " В сравнении:\n",
      "p-value = 0.269 -> упрощение не делает погоды:)\n",
      "\n"
     ]
    }
   ],
   "source": [
    "#i)\n",
    "print()\n",
    "print(np.argmax(b_p_value) - 1, 'кси наименее значим')\n",
    "\n",
    "psi_simp = np.delete(psi, np.argmax(b_p_value), axis = 1)\n",
    "b_simp, b_p_value_simp, RSSy_simp, RSS0y_simp, R_simp = \\\n",
    "    regression(psi_simp, eta)\n",
    "print(\"\\n Для упрощенной модели:\")\n",
    "print(\"b =\", np.around((b_simp), decimals=3))\n",
    "print(\"p-value =\", np.around((b_p_value_simp), decimals=3))\n",
    "\n",
    "delta_R_simp = R_simp/(1 - R_simp)*(N - 5)/4\n",
    "p_value_simp = 1 - stats.f.cdf(np.abs(delta_R_simp), 4, N - 5)\n",
    "\n",
    "print(\"p-value =\", \"%.3f\" % p_value_simp)\n",
    "\n",
    "print(\"\\n В сравнении:\")\n",
    "delta_regression = (RSSy_simp - RSSy)/RSSy*(N - 6)\n",
    "p_value = 1 - stats.f.cdf(np.abs(delta), 1, N - 6)\n",
    "print(\"p-value =\", \"%.3f\" % p_value, \\\n",
    "      \"-> упрощение не делает погоды:)\")\n",
    "print()"
   ]
  },
  {
   "cell_type": "code",
   "execution_count": 251,
   "metadata": {},
   "outputs": [
    {
     "name": "stdout",
     "output_type": "stream",
     "text": [
      "\n",
      "p-value = 0.270\n",
      "\n"
     ]
    }
   ],
   "source": [
    "#j)\n",
    "print()\n",
    "M = 1000\n",
    "B_delta = np.empty(M)\n",
    "\n",
    "for i in range(M): \n",
    "    psi1 = np.empty((N,6))\n",
    "    eta1 = np.empty(N)\n",
    "    for j in range(N):\n",
    "        q = np.random.choice(range(N))\n",
    "        psi1[j] = psi[q]\n",
    "        eta1[j] = eta[q]\n",
    "        \n",
    "    b1, b1_p_v, RSSy1, RSS0y1, Ry1 = regression(psi1, eta1)\n",
    "    b2, b2_p_v, RSSy2, RSS0y2, Ry2 = \\\n",
    "    regression(np.delete(psi1, np.argmax(b1_p_v), axis = 1), eta1)\n",
    "    \n",
    "    B_delta[i] = (RSSy2/RSSy1 - 1)*(N - 6)\n",
    "    \n",
    "B_delta = np.sort(B_delta)\n",
    "p_value = 0\n",
    "\n",
    "for i in range(M):\n",
    "    if (B_delta[i] > delta_regression):\n",
    "        p_value = 1 - i/M\n",
    "        break\n",
    "        \n",
    "print(\"p-value =\", \"%.3f\" % p_value)\n",
    "print()"
   ]
  },
  {
   "cell_type": "markdown",
   "metadata": {},
   "source": [
    "## #2"
   ]
  },
  {
   "cell_type": "code",
   "execution_count": 252,
   "metadata": {},
   "outputs": [],
   "source": [
    "A = np.array([[83, 85], [84, 85, 85, 86, 86, 87], \\\n",
    "     [86, 87, 87, 87, 88, 88, 88, 88, 88, 89, 90], \\\n",
    "     [89, 90, 90, 91], [90, 92]])"
   ]
  },
  {
   "cell_type": "code",
   "execution_count": 253,
   "metadata": {},
   "outputs": [
    {
     "name": "stdout",
     "output_type": "stream",
     "text": [
      "\n",
      "b = [84.    85.5   87.818 90.    91.   ]\n",
      "p-value = [0. 0. 0. 0. 0.]\n",
      "\n",
      "R = 0.811\n",
      "p-value = 0.000\n",
      "\n"
     ]
    }
   ],
   "source": [
    "#c)\n",
    "print()\n",
    "k = 0\n",
    "size = 0\n",
    "for a in A:\n",
    "    size += len(a)\n",
    "\n",
    "psi = np.zeros((size, len(A)))\n",
    "eta = np.zeros(size)\n",
    "\n",
    "for i in range(len(A)):\n",
    "    for j in range(len(A[i])):\n",
    "        eta[k] = A[i][j]\n",
    "        psi[k][i] = 1\n",
    "        k += 1\n",
    "\n",
    "F = psi.T @ psi\n",
    "F_inv = np.linalg.inv(F)\n",
    "    \n",
    "b, b_p_value, RSS, RSS0, R = regression(psi, eta)\n",
    "\n",
    "print(\"b =\", np.around((b), decimals=3))\n",
    "print(\"p-value =\", np.around((b_p_value), decimals=3))\n",
    "print()\n",
    "print (\"R =\", \"%.3f\" % R)\n",
    "\n",
    "delta_R = R/(1 - R)*(size - len(A))/(len(A) - 1)\n",
    "R_p_value = 1 - stats.f.cdf(np.abs(delta_R), \\\n",
    "                            len(A) - 1, size - len(A))\n",
    "print(\"p-value =\", \"%.3f\" % R_p_value)\n",
    "print()"
   ]
  },
  {
   "cell_type": "code",
   "execution_count": 256,
   "metadata": {},
   "outputs": [
    {
     "name": "stdout",
     "output_type": "stream",
     "text": [
      "\n",
      " p-value(ij):  {'0<->1': 0.103, '0<->2': 0.0, '0<->3': 0.0, '0<->4': 0.0, '1<->2': 0.0, '1<->3': 0.0, '1<->4': 0.0, '2<->3': 0.002, '2<->4': 0.001, '3<->4': 0.296}\n",
      " возрастные группы 0,1 и 3,4 похожи\n"
     ]
    }
   ],
   "source": [
    "#d)\n",
    "print()\n",
    "delta_ij = np.zeros(int(len(A)*(len(A) - 1)/2))\n",
    "p_value_ij = {}\n",
    "\n",
    "for i in range(len(A)):\n",
    "    for j in range(i + 1, len(A)):\n",
    "        l = i*(len(A)-1-i) + j-1 + (i-1)*((i-1) > 0) + ((i-2) > 0)\n",
    "        \n",
    "        delta_ij[l] = np.abs((b[i] - b[j])*\\\n",
    "                                (size-len(A))**(1/2)/(RSS*\\\n",
    "                                 (F_inv[i][i] + F_inv[j][j]))**0.5)\n",
    "        p_value_ij[str(i)+'<->'+str(j)] = np.around((2*\\\n",
    "            (1 - stats.t.cdf(delta_ij[l], size-len(A)))), decimals=3)\n",
    "\n",
    "print(\" p-value(ij): \", p_value_ij)\n",
    "print(\" возрастные группы 0,1 и 3,4 похожи\")"
   ]
  },
  {
   "cell_type": "code",
   "execution_count": null,
   "metadata": {},
   "outputs": [],
   "source": []
  }
 ],
 "metadata": {
  "kernelspec": {
   "display_name": "Python 3",
   "language": "python",
   "name": "python3"
  },
  "language_info": {
   "codemirror_mode": {
    "name": "ipython",
    "version": 3
   },
   "file_extension": ".py",
   "mimetype": "text/x-python",
   "name": "python",
   "nbconvert_exporter": "python",
   "pygments_lexer": "ipython3",
   "version": "3.7.3"
  }
 },
 "nbformat": 4,
 "nbformat_minor": 2
}
